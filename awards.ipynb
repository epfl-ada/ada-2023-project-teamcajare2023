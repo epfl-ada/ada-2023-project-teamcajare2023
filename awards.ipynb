{
 "cells": [
  {
   "cell_type": "code",
   "execution_count": 29,
   "metadata": {},
   "outputs": [],
   "source": [
    "\n",
    "import pandas as pd\n",
    "import numpy as np\n",
    "import matplotlib.pyplot as plt\n",
    "%matplotlib inline\n",
    "import seaborn as sns\n",
    "import math\n",
    "\n",
    "data_folder = '../MovieSummaries/'\n",
    "\n",
    "\n",
    "awards = pd.read_csv('../the_oscar_award.csv')\n",
    "\n",
    "movies = pd.read_csv(data_folder+'movie.metadata.tsv', delimiter= '\\t', header= None, names = ['Wiki_ID', 'Freebase_ID', 'name', 'release_date', 'revenue', 'runtime',\n",
    "                                                                              'languages', 'countries', 'genres' ])"
   ]
  },
  {
   "cell_type": "code",
   "execution_count": 3,
   "metadata": {},
   "outputs": [
    {
     "data": {
      "text/html": [
       "<div>\n",
       "<style scoped>\n",
       "    .dataframe tbody tr th:only-of-type {\n",
       "        vertical-align: middle;\n",
       "    }\n",
       "\n",
       "    .dataframe tbody tr th {\n",
       "        vertical-align: top;\n",
       "    }\n",
       "\n",
       "    .dataframe thead th {\n",
       "        text-align: right;\n",
       "    }\n",
       "</style>\n",
       "<table border=\"1\" class=\"dataframe\">\n",
       "  <thead>\n",
       "    <tr style=\"text-align: right;\">\n",
       "      <th></th>\n",
       "      <th>year_film</th>\n",
       "      <th>year_ceremony</th>\n",
       "      <th>ceremony</th>\n",
       "      <th>category</th>\n",
       "      <th>name</th>\n",
       "      <th>film</th>\n",
       "      <th>winner</th>\n",
       "    </tr>\n",
       "  </thead>\n",
       "  <tbody>\n",
       "    <tr>\n",
       "      <th>0</th>\n",
       "      <td>1927</td>\n",
       "      <td>1928</td>\n",
       "      <td>1</td>\n",
       "      <td>ACTOR</td>\n",
       "      <td>Richard Barthelmess</td>\n",
       "      <td>The Noose</td>\n",
       "      <td>False</td>\n",
       "    </tr>\n",
       "    <tr>\n",
       "      <th>1</th>\n",
       "      <td>1927</td>\n",
       "      <td>1928</td>\n",
       "      <td>1</td>\n",
       "      <td>ACTOR</td>\n",
       "      <td>Emil Jannings</td>\n",
       "      <td>The Last Command</td>\n",
       "      <td>True</td>\n",
       "    </tr>\n",
       "    <tr>\n",
       "      <th>2</th>\n",
       "      <td>1927</td>\n",
       "      <td>1928</td>\n",
       "      <td>1</td>\n",
       "      <td>ACTRESS</td>\n",
       "      <td>Louise Dresser</td>\n",
       "      <td>A Ship Comes In</td>\n",
       "      <td>False</td>\n",
       "    </tr>\n",
       "    <tr>\n",
       "      <th>3</th>\n",
       "      <td>1927</td>\n",
       "      <td>1928</td>\n",
       "      <td>1</td>\n",
       "      <td>ACTRESS</td>\n",
       "      <td>Janet Gaynor</td>\n",
       "      <td>7th Heaven</td>\n",
       "      <td>True</td>\n",
       "    </tr>\n",
       "    <tr>\n",
       "      <th>4</th>\n",
       "      <td>1927</td>\n",
       "      <td>1928</td>\n",
       "      <td>1</td>\n",
       "      <td>ACTRESS</td>\n",
       "      <td>Gloria Swanson</td>\n",
       "      <td>Sadie Thompson</td>\n",
       "      <td>False</td>\n",
       "    </tr>\n",
       "    <tr>\n",
       "      <th>...</th>\n",
       "      <td>...</td>\n",
       "      <td>...</td>\n",
       "      <td>...</td>\n",
       "      <td>...</td>\n",
       "      <td>...</td>\n",
       "      <td>...</td>\n",
       "      <td>...</td>\n",
       "    </tr>\n",
       "    <tr>\n",
       "      <th>10760</th>\n",
       "      <td>2022</td>\n",
       "      <td>2023</td>\n",
       "      <td>95</td>\n",
       "      <td>HONORARY AWARD</td>\n",
       "      <td>To Euzhan Palcy, a masterful filmmaker who bro...</td>\n",
       "      <td>NaN</td>\n",
       "      <td>True</td>\n",
       "    </tr>\n",
       "    <tr>\n",
       "      <th>10761</th>\n",
       "      <td>2022</td>\n",
       "      <td>2023</td>\n",
       "      <td>95</td>\n",
       "      <td>HONORARY AWARD</td>\n",
       "      <td>To Diane Warren, for her genius, generosity an...</td>\n",
       "      <td>NaN</td>\n",
       "      <td>True</td>\n",
       "    </tr>\n",
       "    <tr>\n",
       "      <th>10762</th>\n",
       "      <td>2022</td>\n",
       "      <td>2023</td>\n",
       "      <td>95</td>\n",
       "      <td>HONORARY AWARD</td>\n",
       "      <td>To Peter Weir, a fearless and consummate filmm...</td>\n",
       "      <td>NaN</td>\n",
       "      <td>True</td>\n",
       "    </tr>\n",
       "    <tr>\n",
       "      <th>10763</th>\n",
       "      <td>2022</td>\n",
       "      <td>2023</td>\n",
       "      <td>95</td>\n",
       "      <td>GORDON E. SAWYER AWARD</td>\n",
       "      <td>Iain Neil</td>\n",
       "      <td>NaN</td>\n",
       "      <td>True</td>\n",
       "    </tr>\n",
       "    <tr>\n",
       "      <th>10764</th>\n",
       "      <td>2022</td>\n",
       "      <td>2023</td>\n",
       "      <td>95</td>\n",
       "      <td>AWARD OF COMMENDATION</td>\n",
       "      <td>To Ryan Laney for his innovative adaptation an...</td>\n",
       "      <td>Welcome to Chechnya</td>\n",
       "      <td>True</td>\n",
       "    </tr>\n",
       "  </tbody>\n",
       "</table>\n",
       "<p>10765 rows × 7 columns</p>\n",
       "</div>"
      ],
      "text/plain": [
       "       year_film  year_ceremony  ceremony                category  \\\n",
       "0           1927           1928         1                   ACTOR   \n",
       "1           1927           1928         1                   ACTOR   \n",
       "2           1927           1928         1                 ACTRESS   \n",
       "3           1927           1928         1                 ACTRESS   \n",
       "4           1927           1928         1                 ACTRESS   \n",
       "...          ...            ...       ...                     ...   \n",
       "10760       2022           2023        95          HONORARY AWARD   \n",
       "10761       2022           2023        95          HONORARY AWARD   \n",
       "10762       2022           2023        95          HONORARY AWARD   \n",
       "10763       2022           2023        95  GORDON E. SAWYER AWARD   \n",
       "10764       2022           2023        95   AWARD OF COMMENDATION   \n",
       "\n",
       "                                                    name                 film  \\\n",
       "0                                    Richard Barthelmess            The Noose   \n",
       "1                                          Emil Jannings     The Last Command   \n",
       "2                                         Louise Dresser      A Ship Comes In   \n",
       "3                                           Janet Gaynor           7th Heaven   \n",
       "4                                         Gloria Swanson       Sadie Thompson   \n",
       "...                                                  ...                  ...   \n",
       "10760  To Euzhan Palcy, a masterful filmmaker who bro...                  NaN   \n",
       "10761  To Diane Warren, for her genius, generosity an...                  NaN   \n",
       "10762  To Peter Weir, a fearless and consummate filmm...                  NaN   \n",
       "10763                                          Iain Neil                  NaN   \n",
       "10764  To Ryan Laney for his innovative adaptation an...  Welcome to Chechnya   \n",
       "\n",
       "       winner  \n",
       "0       False  \n",
       "1        True  \n",
       "2       False  \n",
       "3        True  \n",
       "4       False  \n",
       "...       ...  \n",
       "10760    True  \n",
       "10761    True  \n",
       "10762    True  \n",
       "10763    True  \n",
       "10764    True  \n",
       "\n",
       "[10765 rows x 7 columns]"
      ]
     },
     "execution_count": 3,
     "metadata": {},
     "output_type": "execute_result"
    }
   ],
   "source": [
    "awards"
   ]
  },
  {
   "cell_type": "code",
   "execution_count": 38,
   "metadata": {},
   "outputs": [
    {
     "data": {
      "text/html": [
       "<div>\n",
       "<style scoped>\n",
       "    .dataframe tbody tr th:only-of-type {\n",
       "        vertical-align: middle;\n",
       "    }\n",
       "\n",
       "    .dataframe tbody tr th {\n",
       "        vertical-align: top;\n",
       "    }\n",
       "\n",
       "    .dataframe thead th {\n",
       "        text-align: right;\n",
       "    }\n",
       "</style>\n",
       "<table border=\"1\" class=\"dataframe\">\n",
       "  <thead>\n",
       "    <tr style=\"text-align: right;\">\n",
       "      <th></th>\n",
       "      <th>year_film</th>\n",
       "      <th>year_ceremony</th>\n",
       "      <th>ceremony</th>\n",
       "    </tr>\n",
       "  </thead>\n",
       "  <tbody>\n",
       "    <tr>\n",
       "      <th>count</th>\n",
       "      <td>10765.000000</td>\n",
       "      <td>10765.000000</td>\n",
       "      <td>10765.000000</td>\n",
       "    </tr>\n",
       "    <tr>\n",
       "      <th>mean</th>\n",
       "      <td>1976.074222</td>\n",
       "      <td>1977.074222</td>\n",
       "      <td>49.098932</td>\n",
       "    </tr>\n",
       "    <tr>\n",
       "      <th>std</th>\n",
       "      <td>27.055841</td>\n",
       "      <td>27.055841</td>\n",
       "      <td>27.013986</td>\n",
       "    </tr>\n",
       "    <tr>\n",
       "      <th>min</th>\n",
       "      <td>1927.000000</td>\n",
       "      <td>1928.000000</td>\n",
       "      <td>1.000000</td>\n",
       "    </tr>\n",
       "    <tr>\n",
       "      <th>25%</th>\n",
       "      <td>1952.000000</td>\n",
       "      <td>1953.000000</td>\n",
       "      <td>25.000000</td>\n",
       "    </tr>\n",
       "    <tr>\n",
       "      <th>50%</th>\n",
       "      <td>1975.000000</td>\n",
       "      <td>1976.000000</td>\n",
       "      <td>48.000000</td>\n",
       "    </tr>\n",
       "    <tr>\n",
       "      <th>75%</th>\n",
       "      <td>2000.000000</td>\n",
       "      <td>2001.000000</td>\n",
       "      <td>73.000000</td>\n",
       "    </tr>\n",
       "    <tr>\n",
       "      <th>max</th>\n",
       "      <td>2022.000000</td>\n",
       "      <td>2023.000000</td>\n",
       "      <td>95.000000</td>\n",
       "    </tr>\n",
       "  </tbody>\n",
       "</table>\n",
       "</div>"
      ],
      "text/plain": [
       "          year_film  year_ceremony      ceremony\n",
       "count  10765.000000   10765.000000  10765.000000\n",
       "mean    1976.074222    1977.074222     49.098932\n",
       "std       27.055841      27.055841     27.013986\n",
       "min     1927.000000    1928.000000      1.000000\n",
       "25%     1952.000000    1953.000000     25.000000\n",
       "50%     1975.000000    1976.000000     48.000000\n",
       "75%     2000.000000    2001.000000     73.000000\n",
       "max     2022.000000    2023.000000     95.000000"
      ]
     },
     "execution_count": 38,
     "metadata": {},
     "output_type": "execute_result"
    }
   ],
   "source": [
    "awards.describe()"
   ]
  },
  {
   "cell_type": "code",
   "execution_count": 39,
   "metadata": {},
   "outputs": [
    {
     "data": {
      "text/plain": [
       "year_film        False\n",
       "year_ceremony    False\n",
       "ceremony         False\n",
       "category         False\n",
       "name              True\n",
       "film              True\n",
       "winner           False\n",
       "dtype: bool"
      ]
     },
     "execution_count": 39,
     "metadata": {},
     "output_type": "execute_result"
    }
   ],
   "source": [
    "awards.isna().any()"
   ]
  },
  {
   "cell_type": "code",
   "execution_count": 40,
   "metadata": {},
   "outputs": [
    {
     "name": "stdout",
     "output_type": "stream",
     "text": [
      "Sum of NaN in each feature : \n"
     ]
    },
    {
     "data": {
      "text/plain": [
       "year_film          0\n",
       "year_ceremony      0\n",
       "ceremony           0\n",
       "category           0\n",
       "name               4\n",
       "film             315\n",
       "winner             0\n",
       "dtype: int64"
      ]
     },
     "execution_count": 40,
     "metadata": {},
     "output_type": "execute_result"
    },
    {
     "data": {
      "image/png": "[encoded data removed]",
      "text/plain": [
       "<Figure size 1000x800 with 1 Axes>"
      ]
     },
     "metadata": {},
     "output_type": "display_data"
    }
   ],
   "source": [
    "fig, ax = plt.subplots(figsize=(10,8)) \n",
    "sns.heatmap(awards.isna(), yticklabels=False, cbar=False)\n",
    "ax.set(xlabel=\"Features\", ylabel=\"Index\")\n",
    "ax.set_title('Heatmap of missing values in the oscars winners dataset')\n",
    "\n",
    "print('Sum of NaN in each feature : ')\n",
    "awards.isna().sum(axis = 0)"
   ]
  },
  {
   "cell_type": "code",
   "execution_count": 42,
   "metadata": {},
   "outputs": [],
   "source": [
    "awards = awards.drop(awards[awards['film'].isnull()].index)\n",
    "awards = awards.drop(awards[awards['name'].isnull()].index)\n"
   ]
  },
  {
   "cell_type": "code",
   "execution_count": 43,
   "metadata": {},
   "outputs": [
    {
     "data": {
      "text/plain": [
       "<BarContainer object of 95 artists>"
      ]
     },
     "execution_count": 43,
     "metadata": {},
     "output_type": "execute_result"
    },
    {
     "data": {
      "image/png": "[encoded data removed]",
      "text/plain": [
       "<Figure size 640x480 with 1 Axes>"
      ]
     },
     "metadata": {},
     "output_type": "display_data"
    }
   ],
   "source": [
    "counts = awards['year_film'].value_counts()\n",
    "plt.bar(counts.index, counts.values)"
   ]
  },
  {
   "cell_type": "code",
   "execution_count": 44,
   "metadata": {},
   "outputs": [
    {
     "data": {
      "text/plain": [
       "<BarContainer object of 5 artists>"
      ]
     },
     "execution_count": 44,
     "metadata": {},
     "output_type": "execute_result"
    },
    {
     "data": {
      "image/png": "[encoded data removed]",
      "text/plain": [
       "<Figure size 640x480 with 1 Axes>"
      ]
     },
     "metadata": {},
     "output_type": "display_data"
    }
   ],
   "source": [
    "counts = awards['category'].value_counts()\n",
    "plt.bar(counts.index[:5], counts.values[:5])"
   ]
  },
  {
   "cell_type": "code",
   "execution_count": 45,
   "metadata": {},
   "outputs": [
    {
     "data": {
      "text/plain": [
       "Index(['DIRECTING', 'FILM EDITING', 'ACTRESS IN A SUPPORTING ROLE',\n",
       "       'ACTOR IN A SUPPORTING ROLE', 'DOCUMENTARY (Short Subject)',\n",
       "       'BEST PICTURE', 'DOCUMENTARY (Feature)', 'CINEMATOGRAPHY',\n",
       "       'FOREIGN LANGUAGE FILM', 'ART DIRECTION',\n",
       "       ...\n",
       "       'SHORT FILM (Dramatic Live Action)',\n",
       "       'MUSIC (Original Song Score or Adaptation Score)',\n",
       "       'MUSIC (Adaptation Score)', 'UNIQUE AND ARTISTIC PICTURE',\n",
       "       'DIRECTING (Comedy Picture)',\n",
       "       'SPECIAL ACHIEVEMENT AWARD (Sound Editing)', 'WRITING (Title Writing)',\n",
       "       'ENGINEERING EFFECTS', 'SPECIAL ACHIEVEMENT AWARD (Sound Effects)',\n",
       "       'AWARD OF COMMENDATION'],\n",
       "      dtype='object', name='category', length=107)"
      ]
     },
     "execution_count": 45,
     "metadata": {},
     "output_type": "execute_result"
    }
   ],
   "source": [
    "counts.index"
   ]
  },
  {
   "cell_type": "code",
   "execution_count": 48,
   "metadata": {},
   "outputs": [],
   "source": [
    "common_films = len(set(awards['film']) & set(movies['name']))"
   ]
  },
  {
   "cell_type": "code",
   "execution_count": 50,
   "metadata": {},
   "outputs": [
    {
     "data": {
      "text/plain": [
       "0.044983545589116845"
      ]
     },
     "execution_count": 50,
     "metadata": {},
     "output_type": "execute_result"
    }
   ],
   "source": [
    "common_films/len(movies['name'])"
   ]
  },
  {
   "cell_type": "code",
   "execution_count": 51,
   "metadata": {},
   "outputs": [
    {
     "data": {
      "text/plain": [
       "0.351866028708134"
      ]
     },
     "execution_count": 51,
     "metadata": {},
     "output_type": "execute_result"
    }
   ],
   "source": [
    "common_films/len(awards['film'])"
   ]
  },
  {
   "cell_type": "code",
   "execution_count": 53,
   "metadata": {},
   "outputs": [
    {
     "data": {
      "text/plain": [
       "0.3609569377990431"
      ]
     },
     "execution_count": 53,
     "metadata": {},
     "output_type": "execute_result"
    }
   ],
   "source": [
    "len(set(map(str.lower, awards['film'])) & set(map(str.lower, movies['name'])))/len(awards['film'])"
   ]
  }
 ],
 "metadata": {
  "kernelspec": {
   "display_name": "ada",
   "language": "python",
   "name": "python3"
  },
  "language_info": {
   "codemirror_mode": {
    "name": "ipython",
    "version": 3
   },
   "file_extension": ".py",
   "mimetype": "text/x-python",
   "name": "python",
   "nbconvert_exporter": "python",
   "pygments_lexer": "ipython3",
   "version": "3.9.18"
  },
  "orig_nbformat": 4
 },
 "nbformat": 4,
 "nbformat_minor": 2
}
