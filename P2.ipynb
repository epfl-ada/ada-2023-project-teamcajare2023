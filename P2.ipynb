{
 "cells": [
  {
   "cell_type": "markdown",
   "id": "48673693-597b-4585-aa9d-dc701a264acd",
   "metadata": {},
   "source": [
    "# The representation of women in the movie industry around the world"
   ]
  },
  {
   "cell_type": "code",
   "execution_count": 1,
   "id": "ac33916a-a4d3-4537-a8b6-ff2ca6f347eb",
   "metadata": {
    "tags": []
   },
   "outputs": [],
   "source": [
    "import pandas as pd\n",
    "import numpy as np\n",
    "import matplotlib.pyplot as plt\n",
    "import seaborn as sns\n",
    "import ast\n",
    "import os\n",
    "import pycountry\n",
    "import pycountry_convert as pc\n",
    "import swifter\n",
    "\n",
    "from functools import lru_cache\n",
    "from scipy import stats\n",
    "from itertools import islice\n",
    "from wordcloud import WordCloud\n",
    "from sklearn.linear_model import LinearRegression\n",
    "\n",
    "from helpers_corenlp import *\n",
    "from functions import *"
   ]
  },
  {
   "cell_type": "markdown",
   "id": "57898d1d",
   "metadata": {},
   "source": [
    "**Table of content**\n",
    "\n",
    "1. [Data pre-processing](#Data-pre-processing)\n",
    "    - [Part 1: CMU Movie Summary](#part1)\n",
    "    - [Part 2: CoreNLP parsed movie summaries dataset](#part1.2)\n",
    "    - [Part 3: IMDB Datasets](#part1.3)\n",
    "    - [Part 4: Oscars Dataset](#part1.4)\n",
    "    - [Part 5: Bechdel Dataset](#part1.5)\n",
    "2. [Data Analysis](#Data-analysis)\n",
    "    - [Part 1: Quantitative analysis of gender inequalities in movies](#part2.1)\n",
    "    - [Part 2: Qualititative analysis of gender representation in movies](#part2.2)\n",
    "    - [Part 3: Analysis of the reception of movies by the public](#part2.3)\n",
    "    - [Part 4:  Analysis by geographical production region](#part2.4)"
   ]
  },
  {
   "cell_type": "markdown",
   "id": "e1e64a34",
   "metadata": {},
   "source": [
    "## STEP 1: DATA PRE-PROCESSING <a class=\"anchor\" id=\"Data-pre-processing\"></a>"
   ]
  },
  {
   "cell_type": "markdown",
   "id": "67210351",
   "metadata": {},
   "source": [
    "---"
   ]
  },
  {
   "cell_type": "code",
   "execution_count": 2,
   "id": "16db3d70-0bfa-49d2-8e46-227fba1998c2",
   "metadata": {
    "tags": []
   },
   "outputs": [],
   "source": [
    "current_directory = os.getcwd()\n",
    "\n",
    "DATA_PATH = os.path.join(current_directory, 'MovieSummaries')\n",
    "MOVIE_PATH = os.path.join(DATA_PATH, 'movie.metadata.tsv')\n",
    "CHARACTER_PATH = os.path.join(DATA_PATH, 'character.metadata.tsv')\n",
    "CHARACTER_TYPE_PATH = os.path.join(DATA_PATH, 'tvtropes.clusters.txt')\n",
    "RATINGS_PATH = os.path.join(current_directory, 'Ratings_PreProcessed.tsv')\n",
    "\n",
    "CORE_NLP_PATH = os.path.join(current_directory, 'corenlp')\n",
    "CORE_NLP_GZ = CORE_NLP_PATH + \"/corenlp_plot_summaries\"\n",
    "CORE_NLP_XML = CORE_NLP_PATH + \"/corenlp_plot_summaries_xml\"\n",
    "\n",
    "IMDB_PATH = os.path.join(current_directory, 'IMDB')\n",
    "IMDB_BASICS_PATH = IMDB_PATH + \"/title.basics.tsv\"\n",
    "IMDB_RATINGS_PATH = IMDB_PATH + \"/title.ratings.tsv\"\n",
    "\n",
    "BECHDEL_PATH = os.path.join(current_directory, 'bechdel_movies_2023_FEB.csv')\n",
    "\n",
    "AWARDS_PATH = os.path.join(current_directory, 'the_oscar_award.csv')"
   ]
  },
  {
   "cell_type": "markdown",
   "id": "39f873b2",
   "metadata": {},
   "source": [
    "## PART 1: CMU Movie Summary <a id=\"part1\"></a>"
   ]
  },
  {
   "cell_type": "markdown",
   "id": "ad5dd7d7-6bfd-434d-be6f-597e834790fc",
   "metadata": {},
   "source": [
    "We will use the files movies.metadata.tsv and characters.metadata.tsv ."
   ]
  },
  {
   "cell_type": "code",
   "execution_count": 3,
   "id": "d9fcf8ad-b520-428a-9120-b86f46636730",
   "metadata": {
    "tags": []
   },
   "outputs": [],
   "source": [
    "# Load the datasets\n",
    "headers_movies = ['WikiMovieID', \n",
    "                  'FreebaseMovieID', \n",
    "                  'MovieName', \n",
    "                  'ReleaseDate', \n",
    "                  'BORevenue', \n",
    "                  'Runtime',\n",
    "                  'Languages', \n",
    "                  'Countries', \n",
    "                  'MovieGenre']\n",
    "\n",
    "headers_characters = ['WikiMovieID', \n",
    "                      'FreebaseMovieID', \n",
    "                      'ReleaseDate', \n",
    "                      'CharacterName', \n",
    "                      'DoB', \n",
    "                      'Gender', \n",
    "                      'Height', \n",
    "                      'Ethnicity', \n",
    "                      'ActorName', \n",
    "                      'Age', \n",
    "                      'FreebaseActorMapID', \n",
    "                      'FreebaseCharacterID', \n",
    "                      'FreebaseActorID']\n",
    "\n",
    "movies = pd.read_csv(MOVIE_PATH, sep='\\t', names=headers_movies)\n",
    "characters = pd.read_csv(CHARACTER_PATH, sep='\\t', names=headers_characters)"
   ]
  },
  {
   "cell_type": "code",
   "execution_count": 4,
   "id": "2320c148",
   "metadata": {},
   "outputs": [
    {
     "name": "stdout",
     "output_type": "stream",
     "text": [
      "The movie dataset contains 81741 movies\n"
     ]
    },
    {
     "data": {
      "text/html": [
       "<div>\n",
       "<style scoped>\n",
       "    .dataframe tbody tr th:only-of-type {\n",
       "        vertical-align: middle;\n",
       "    }\n",
       "\n",
       "    .dataframe tbody tr th {\n",
       "        vertical-align: top;\n",
       "    }\n",
       "\n",
       "    .dataframe thead th {\n",
       "        text-align: right;\n",
       "    }\n",
       "</style>\n",
       "<table border=\"1\" class=\"dataframe\">\n",
       "  <thead>\n",
       "    <tr style=\"text-align: right;\">\n",
       "      <th></th>\n",
       "      <th>WikiMovieID</th>\n",
       "      <th>FreebaseMovieID</th>\n",
       "      <th>MovieName</th>\n",
       "      <th>ReleaseDate</th>\n",
       "      <th>BORevenue</th>\n",
       "      <th>Runtime</th>\n",
       "      <th>Languages</th>\n",
       "      <th>Countries</th>\n",
       "      <th>MovieGenre</th>\n",
       "    </tr>\n",
       "  </thead>\n",
       "  <tbody>\n",
       "    <tr>\n",
       "      <th>41051</th>\n",
       "      <td>12554600</td>\n",
       "      <td>/m/02wvpd8</td>\n",
       "      <td>The Best Way to Walk</td>\n",
       "      <td>1976</td>\n",
       "      <td>NaN</td>\n",
       "      <td>89.0</td>\n",
       "      <td>{\"/m/064_8sq\": \"French Language\"}</td>\n",
       "      <td>{\"/m/0f8l9c\": \"France\"}</td>\n",
       "      <td>{\"/m/07s9rl0\": \"Drama\", \"/m/01z4y\": \"Comedy\", ...</td>\n",
       "    </tr>\n",
       "    <tr>\n",
       "      <th>69</th>\n",
       "      <td>12371532</td>\n",
       "      <td>/m/02w1jsk</td>\n",
       "      <td>Chasing Ghosts: Beyond the Arcade</td>\n",
       "      <td>2007</td>\n",
       "      <td>NaN</td>\n",
       "      <td>90.0</td>\n",
       "      <td>{\"/m/02h40lc\": \"English Language\"}</td>\n",
       "      <td>{\"/m/09c7w0\": \"United States of America\"}</td>\n",
       "      <td>{\"/m/0hj3n07\": \"Culture &amp; Society\", \"/m/017fp\"...</td>\n",
       "    </tr>\n",
       "    <tr>\n",
       "      <th>39511</th>\n",
       "      <td>33468851</td>\n",
       "      <td>/m/0h96gj4</td>\n",
       "      <td>Hello Ghost</td>\n",
       "      <td>2010-12-23</td>\n",
       "      <td>19774455.0</td>\n",
       "      <td>111.0</td>\n",
       "      <td>{\"/m/02hwhyv\": \"Korean Language\"}</td>\n",
       "      <td>{\"/m/06qd3\": \"South Korea\"}</td>\n",
       "      <td>{\"/m/07s9rl0\": \"Drama\", \"/m/01z4y\": \"Comedy\"}</td>\n",
       "    </tr>\n",
       "  </tbody>\n",
       "</table>\n",
       "</div>"
      ],
      "text/plain": [
       "       WikiMovieID FreebaseMovieID                          MovieName  \\\n",
       "41051     12554600      /m/02wvpd8               The Best Way to Walk   \n",
       "69        12371532      /m/02w1jsk  Chasing Ghosts: Beyond the Arcade   \n",
       "39511     33468851      /m/0h96gj4                        Hello Ghost   \n",
       "\n",
       "      ReleaseDate   BORevenue  Runtime                           Languages  \\\n",
       "41051        1976         NaN     89.0   {\"/m/064_8sq\": \"French Language\"}   \n",
       "69           2007         NaN     90.0  {\"/m/02h40lc\": \"English Language\"}   \n",
       "39511  2010-12-23  19774455.0    111.0   {\"/m/02hwhyv\": \"Korean Language\"}   \n",
       "\n",
       "                                       Countries  \\\n",
       "41051                    {\"/m/0f8l9c\": \"France\"}   \n",
       "69     {\"/m/09c7w0\": \"United States of America\"}   \n",
       "39511                {\"/m/06qd3\": \"South Korea\"}   \n",
       "\n",
       "                                              MovieGenre  \n",
       "41051  {\"/m/07s9rl0\": \"Drama\", \"/m/01z4y\": \"Comedy\", ...  \n",
       "69     {\"/m/0hj3n07\": \"Culture & Society\", \"/m/017fp\"...  \n",
       "39511      {\"/m/07s9rl0\": \"Drama\", \"/m/01z4y\": \"Comedy\"}  "
      ]
     },
     "execution_count": 4,
     "metadata": {},
     "output_type": "execute_result"
    }
   ],
   "source": [
    "nb_movie = movies['WikiMovieID'].nunique()\n",
    "print(f'The movie dataset contains {nb_movie} movies')\n",
    "movies.sample(3)"
   ]
  },
  {
   "cell_type": "code",
   "execution_count": 5,
   "id": "46c466d1",
   "metadata": {},
   "outputs": [
    {
     "name": "stdout",
     "output_type": "stream",
     "text": [
      "The characters dataset contains 450669 characters\n",
      "Percentage of missing entries in the character.metadata dataset:\n",
      "FreebaseMovieID         0.000000\n",
      "ReleaseDate             2.217814\n",
      "CharacterName          57.220488\n",
      "DoB                    23.552763\n",
      "Gender                 10.120288\n",
      "Height                 65.645740\n",
      "Ethnicity              76.466542\n",
      "ActorName               0.272484\n",
      "Age                    35.084064\n",
      "FreebaseCharacterID    57.218269\n",
      "FreebaseActorID         0.180842\n",
      "dtype: float64\n"
     ]
    },
    {
     "data": {
      "text/html": [
       "<div>\n",
       "<style scoped>\n",
       "    .dataframe tbody tr th:only-of-type {\n",
       "        vertical-align: middle;\n",
       "    }\n",
       "\n",
       "    .dataframe tbody tr th {\n",
       "        vertical-align: top;\n",
       "    }\n",
       "\n",
       "    .dataframe thead th {\n",
       "        text-align: right;\n",
       "    }\n",
       "</style>\n",
       "<table border=\"1\" class=\"dataframe\">\n",
       "  <thead>\n",
       "    <tr style=\"text-align: right;\">\n",
       "      <th></th>\n",
       "      <th>WikiMovieID</th>\n",
       "      <th>FreebaseMovieID</th>\n",
       "      <th>ReleaseDate</th>\n",
       "      <th>CharacterName</th>\n",
       "      <th>DoB</th>\n",
       "      <th>Gender</th>\n",
       "      <th>Height</th>\n",
       "      <th>Ethnicity</th>\n",
       "      <th>ActorName</th>\n",
       "      <th>Age</th>\n",
       "      <th>FreebaseActorMapID</th>\n",
       "      <th>FreebaseCharacterID</th>\n",
       "      <th>FreebaseActorID</th>\n",
       "    </tr>\n",
       "  </thead>\n",
       "  <tbody>\n",
       "    <tr>\n",
       "      <th>327915</th>\n",
       "      <td>4184687</td>\n",
       "      <td>/m/0bnsnq</td>\n",
       "      <td>1993</td>\n",
       "      <td>Bhanumathi</td>\n",
       "      <td>1966-07-08</td>\n",
       "      <td>F</td>\n",
       "      <td>NaN</td>\n",
       "      <td>/m/0dryh9k</td>\n",
       "      <td>Revathi</td>\n",
       "      <td>26.0</td>\n",
       "      <td>/m/0jx6v1</td>\n",
       "      <td>/m/0h7bwcg</td>\n",
       "      <td>/m/0brddh</td>\n",
       "    </tr>\n",
       "    <tr>\n",
       "      <th>231424</th>\n",
       "      <td>27163420</td>\n",
       "      <td>/m/0bwllqg</td>\n",
       "      <td>1925-09-21</td>\n",
       "      <td>NaN</td>\n",
       "      <td>1899-04-12</td>\n",
       "      <td>F</td>\n",
       "      <td>1.70</td>\n",
       "      <td>NaN</td>\n",
       "      <td>Dorothy Cumming</td>\n",
       "      <td>NaN</td>\n",
       "      <td>/m/0bx1xwr</td>\n",
       "      <td>NaN</td>\n",
       "      <td>/m/03gql86</td>\n",
       "    </tr>\n",
       "    <tr>\n",
       "      <th>10112</th>\n",
       "      <td>6085266</td>\n",
       "      <td>/m/0fpf67</td>\n",
       "      <td>1996-03-01</td>\n",
       "      <td>NaN</td>\n",
       "      <td>1965-08-31</td>\n",
       "      <td>M</td>\n",
       "      <td>1.89</td>\n",
       "      <td>NaN</td>\n",
       "      <td>Daniel Bernhardt</td>\n",
       "      <td>30.0</td>\n",
       "      <td>/m/02vbhp0</td>\n",
       "      <td>NaN</td>\n",
       "      <td>/m/0b1wvg</td>\n",
       "    </tr>\n",
       "  </tbody>\n",
       "</table>\n",
       "</div>"
      ],
      "text/plain": [
       "        WikiMovieID FreebaseMovieID ReleaseDate CharacterName         DoB  \\\n",
       "327915      4184687       /m/0bnsnq        1993    Bhanumathi  1966-07-08   \n",
       "231424     27163420      /m/0bwllqg  1925-09-21           NaN  1899-04-12   \n",
       "10112       6085266       /m/0fpf67  1996-03-01           NaN  1965-08-31   \n",
       "\n",
       "       Gender  Height   Ethnicity         ActorName   Age FreebaseActorMapID  \\\n",
       "327915      F     NaN  /m/0dryh9k           Revathi  26.0          /m/0jx6v1   \n",
       "231424      F    1.70         NaN   Dorothy Cumming   NaN         /m/0bx1xwr   \n",
       "10112       M    1.89         NaN  Daniel Bernhardt  30.0         /m/02vbhp0   \n",
       "\n",
       "       FreebaseCharacterID FreebaseActorID  \n",
       "327915          /m/0h7bwcg       /m/0brddh  \n",
       "231424                 NaN      /m/03gql86  \n",
       "10112                  NaN       /m/0b1wvg  "
      ]
     },
     "execution_count": 5,
     "metadata": {},
     "output_type": "execute_result"
    }
   ],
   "source": [
    "nb_char = len(characters.index)\n",
    "print(f'The characters dataset contains {nb_char} characters')\n",
    "print('Percentage of missing entries in the character.metadata dataset:')\n",
    "print(100*characters[['FreebaseMovieID', 'ReleaseDate', 'CharacterName','DoB', 'Gender', 'Height', 'Ethnicity',\n",
    "                        'ActorName', 'Age', 'FreebaseCharacterID','FreebaseActorID']].isna().sum() / len(characters))\n",
    "characters.sample(3)"
   ]
  },
  {
   "cell_type": "markdown",
   "id": "ce413a12",
   "metadata": {},
   "source": [
    "##### Gender"
   ]
  },
  {
   "cell_type": "markdown",
   "id": "6c9b8b9a",
   "metadata": {},
   "source": [
    "Our project focuses on differences between gender representation in movies; thus we keep only movies where we have gender information."
   ]
  },
  {
   "cell_type": "code",
   "execution_count": 6,
   "id": "c289c2f2",
   "metadata": {},
   "outputs": [
    {
     "name": "stdout",
     "output_type": "stream",
     "text": [
      "Percentage of missing gender entries in the character dataset:\n",
      "Gender    10.120288\n",
      "dtype: float64\n",
      "The character dataset contains 405060 characters after filtering on the characters gender\n"
     ]
    }
   ],
   "source": [
    "print('Percentage of missing gender entries in the character dataset:') \n",
    "print(100*characters[['Gender']].isna().sum() / len(characters))\n",
    "\n",
    "# Keep only the rows for which we have the gender of the actor/actress\n",
    "characters = characters.loc[characters['Gender'].isin(['F', 'M'])].copy(deep=True)\n",
    "print(f'The character dataset contains {len(characters.index)} characters after filtering on the characters gender')"
   ]
  },
  {
   "cell_type": "markdown",
   "id": "45d52a79",
   "metadata": {},
   "source": [
    "##### Release date"
   ]
  },
  {
   "cell_type": "code",
   "execution_count": 7,
   "id": "912e9e5e",
   "metadata": {},
   "outputs": [],
   "source": [
    "# The movie 'Hunting Season' has an incorrect date: 1010 instead of 2010\n",
    "characters['ReleaseDate'] = characters['ReleaseDate'].replace('1010-12-02', '2010-12-02')\n",
    "movies['ReleaseDate'] = movies['ReleaseDate'].replace('1010-12-02', '2010-12-02')\n",
    "\n",
    "# Convert the date in the column 'ReleaseDate' into datetime\n",
    "characters_ReleaseDate_datatime = characters['ReleaseDate'].apply(convert_date)\n",
    "movies_ReleaseDate_datatime = movies['ReleaseDate'].apply(convert_date)\n",
    "\n",
    "# Add a column with the year of release only\n",
    "characters['ReleaseYear'] = characters_ReleaseDate_datatime.dt.year.fillna(0).astype(int)\n",
    "characters['ReleaseYear'] = characters['ReleaseYear'].astype('int64')\n",
    "characters['ReleaseYear'].replace(0, np.nan, inplace=True)\n",
    "\n",
    "movies['ReleaseYear'] = movies_ReleaseDate_datatime.dt.year.fillna(0).astype(int)\n",
    "movies['ReleaseYear'] = movies['ReleaseYear'].astype('int64')\n",
    "movies['ReleaseYear'].replace(0, np.nan, inplace=True)"
   ]
  },
  {
   "cell_type": "code",
   "execution_count": 8,
   "id": "c093538a",
   "metadata": {},
   "outputs": [
    {
     "data": {
      "text/html": [
       "<div>\n",
       "<style scoped>\n",
       "    .dataframe tbody tr th:only-of-type {\n",
       "        vertical-align: middle;\n",
       "    }\n",
       "\n",
       "    .dataframe tbody tr th {\n",
       "        vertical-align: top;\n",
       "    }\n",
       "\n",
       "    .dataframe thead th {\n",
       "        text-align: right;\n",
       "    }\n",
       "</style>\n",
       "<table border=\"1\" class=\"dataframe\">\n",
       "  <thead>\n",
       "    <tr style=\"text-align: right;\">\n",
       "      <th></th>\n",
       "      <th>WikiMovieID</th>\n",
       "      <th>FreebaseMovieID</th>\n",
       "      <th>ReleaseDate</th>\n",
       "      <th>CharacterName</th>\n",
       "      <th>DoB</th>\n",
       "      <th>Gender</th>\n",
       "      <th>Height</th>\n",
       "      <th>Ethnicity</th>\n",
       "      <th>ActorName</th>\n",
       "      <th>Age</th>\n",
       "      <th>FreebaseActorMapID</th>\n",
       "      <th>FreebaseCharacterID</th>\n",
       "      <th>FreebaseActorID</th>\n",
       "      <th>ReleaseYear</th>\n",
       "    </tr>\n",
       "  </thead>\n",
       "  <tbody>\n",
       "    <tr>\n",
       "      <th>449852</th>\n",
       "      <td>3642001</td>\n",
       "      <td>/m/09rrfm</td>\n",
       "      <td>1971</td>\n",
       "      <td>NaN</td>\n",
       "      <td>1933-02-18</td>\n",
       "      <td>F</td>\n",
       "      <td>1.62</td>\n",
       "      <td>/m/0cn68</td>\n",
       "      <td>Yoko Ono</td>\n",
       "      <td>37.0</td>\n",
       "      <td>/m/0k3_vd</td>\n",
       "      <td>NaN</td>\n",
       "      <td>/m/01nz1q6</td>\n",
       "      <td>1971.0</td>\n",
       "    </tr>\n",
       "    <tr>\n",
       "      <th>1388</th>\n",
       "      <td>6512034</td>\n",
       "      <td>/m/0g85wr</td>\n",
       "      <td>1941</td>\n",
       "      <td>NaN</td>\n",
       "      <td>1906-07-17</td>\n",
       "      <td>M</td>\n",
       "      <td>NaN</td>\n",
       "      <td>NaN</td>\n",
       "      <td>John Carroll</td>\n",
       "      <td>34.0</td>\n",
       "      <td>/m/0cg4wyq</td>\n",
       "      <td>NaN</td>\n",
       "      <td>/m/09tq5y</td>\n",
       "      <td>1941.0</td>\n",
       "    </tr>\n",
       "  </tbody>\n",
       "</table>\n",
       "</div>"
      ],
      "text/plain": [
       "        WikiMovieID FreebaseMovieID ReleaseDate CharacterName         DoB  \\\n",
       "449852      3642001       /m/09rrfm        1971           NaN  1933-02-18   \n",
       "1388        6512034       /m/0g85wr        1941           NaN  1906-07-17   \n",
       "\n",
       "       Gender  Height Ethnicity     ActorName   Age FreebaseActorMapID  \\\n",
       "449852      F    1.62  /m/0cn68      Yoko Ono  37.0          /m/0k3_vd   \n",
       "1388        M     NaN       NaN  John Carroll  34.0         /m/0cg4wyq   \n",
       "\n",
       "       FreebaseCharacterID FreebaseActorID  ReleaseYear  \n",
       "449852                 NaN      /m/01nz1q6       1971.0  \n",
       "1388                   NaN       /m/09tq5y       1941.0  "
      ]
     },
     "execution_count": 8,
     "metadata": {},
     "output_type": "execute_result"
    }
   ],
   "source": [
    "characters.sample(2)"
   ]
  },
  {
   "cell_type": "code",
   "execution_count": 9,
   "id": "48a2adf0",
   "metadata": {},
   "outputs": [
    {
     "data": {
      "text/html": [
       "<div>\n",
       "<style scoped>\n",
       "    .dataframe tbody tr th:only-of-type {\n",
       "        vertical-align: middle;\n",
       "    }\n",
       "\n",
       "    .dataframe tbody tr th {\n",
       "        vertical-align: top;\n",
       "    }\n",
       "\n",
       "    .dataframe thead th {\n",
       "        text-align: right;\n",
       "    }\n",
       "</style>\n",
       "<table border=\"1\" class=\"dataframe\">\n",
       "  <thead>\n",
       "    <tr style=\"text-align: right;\">\n",
       "      <th></th>\n",
       "      <th>WikiMovieID</th>\n",
       "      <th>FreebaseMovieID</th>\n",
       "      <th>MovieName</th>\n",
       "      <th>ReleaseDate</th>\n",
       "      <th>BORevenue</th>\n",
       "      <th>Runtime</th>\n",
       "      <th>Languages</th>\n",
       "      <th>Countries</th>\n",
       "      <th>MovieGenre</th>\n",
       "      <th>ReleaseYear</th>\n",
       "    </tr>\n",
       "  </thead>\n",
       "  <tbody>\n",
       "    <tr>\n",
       "      <th>51241</th>\n",
       "      <td>11655972</td>\n",
       "      <td>/m/02rmy12</td>\n",
       "      <td>Kamen Rider The Next</td>\n",
       "      <td>2007-10-27</td>\n",
       "      <td>NaN</td>\n",
       "      <td>93.0</td>\n",
       "      <td>{\"/m/03_9r\": \"Japanese Language\"}</td>\n",
       "      <td>{\"/m/03_3d\": \"Japan\"}</td>\n",
       "      <td>{\"/m/0gw5n2f\": \"Japanese Movies\"}</td>\n",
       "      <td>2007.0</td>\n",
       "    </tr>\n",
       "    <tr>\n",
       "      <th>23656</th>\n",
       "      <td>1338461</td>\n",
       "      <td>/m/04txpl</td>\n",
       "      <td>Birdy</td>\n",
       "      <td>1984-12-14</td>\n",
       "      <td>1455045.0</td>\n",
       "      <td>120.0</td>\n",
       "      <td>{\"/m/02h40lc\": \"English Language\"}</td>\n",
       "      <td>{\"/m/09c7w0\": \"United States of America\"}</td>\n",
       "      <td>{\"/m/07s9rl0\": \"Drama\", \"/m/04xvlr\": \"Period p...</td>\n",
       "      <td>1984.0</td>\n",
       "    </tr>\n",
       "  </tbody>\n",
       "</table>\n",
       "</div>"
      ],
      "text/plain": [
       "       WikiMovieID FreebaseMovieID             MovieName ReleaseDate  \\\n",
       "51241     11655972      /m/02rmy12  Kamen Rider The Next  2007-10-27   \n",
       "23656      1338461       /m/04txpl                 Birdy  1984-12-14   \n",
       "\n",
       "       BORevenue  Runtime                           Languages  \\\n",
       "51241        NaN     93.0   {\"/m/03_9r\": \"Japanese Language\"}   \n",
       "23656  1455045.0    120.0  {\"/m/02h40lc\": \"English Language\"}   \n",
       "\n",
       "                                       Countries  \\\n",
       "51241                      {\"/m/03_3d\": \"Japan\"}   \n",
       "23656  {\"/m/09c7w0\": \"United States of America\"}   \n",
       "\n",
       "                                              MovieGenre  ReleaseYear  \n",
       "51241                  {\"/m/0gw5n2f\": \"Japanese Movies\"}       2007.0  \n",
       "23656  {\"/m/07s9rl0\": \"Drama\", \"/m/04xvlr\": \"Period p...       1984.0  "
      ]
     },
     "execution_count": 9,
     "metadata": {},
     "output_type": "execute_result"
    }
   ],
   "source": [
    "movies.sample(2)"
   ]
  },
  {
   "cell_type": "markdown",
   "id": "6b11f76f",
   "metadata": {},
   "source": [
    "##### Age"
   ]
  },
  {
   "cell_type": "code",
   "execution_count": 10,
   "id": "48f16316",
   "metadata": {},
   "outputs": [],
   "source": [
    "# Replace null or negative age values by NaN\n",
    "characters['Age'] = characters['Age'].apply(lambda x: np.nan if x <= 0 else x)"
   ]
  },
  {
   "cell_type": "markdown",
   "id": "705c3767",
   "metadata": {},
   "source": [
    "##### Deal with dictionnaries"
   ]
  },
  {
   "cell_type": "code",
   "execution_count": 11,
   "id": "2f62976a",
   "metadata": {},
   "outputs": [],
   "source": [
    "# Convert the str-like dictionaries to dictionaries\n",
    "movies['Countries'] = movies['Countries'].apply(ast.literal_eval)\n",
    "movies['MovieGenre'] = movies['MovieGenre'].apply(ast.literal_eval)\n",
    "movies['Languages'] = movies['Languages'].apply(ast.literal_eval)"
   ]
  },
  {
   "cell_type": "code",
   "execution_count": 12,
   "id": "3be1f6a4",
   "metadata": {},
   "outputs": [
    {
     "data": {
      "text/html": [
       "<div>\n",
       "<style scoped>\n",
       "    .dataframe tbody tr th:only-of-type {\n",
       "        vertical-align: middle;\n",
       "    }\n",
       "\n",
       "    .dataframe tbody tr th {\n",
       "        vertical-align: top;\n",
       "    }\n",
       "\n",
       "    .dataframe thead th {\n",
       "        text-align: right;\n",
       "    }\n",
       "</style>\n",
       "<table border=\"1\" class=\"dataframe\">\n",
       "  <thead>\n",
       "    <tr style=\"text-align: right;\">\n",
       "      <th></th>\n",
       "      <th>WikiMovieID</th>\n",
       "      <th>FreebaseMovieID</th>\n",
       "      <th>MovieName</th>\n",
       "      <th>ReleaseDate</th>\n",
       "      <th>BORevenue</th>\n",
       "      <th>Runtime</th>\n",
       "      <th>Languages</th>\n",
       "      <th>Countries</th>\n",
       "      <th>MovieGenre</th>\n",
       "      <th>ReleaseYear</th>\n",
       "    </tr>\n",
       "  </thead>\n",
       "  <tbody>\n",
       "    <tr>\n",
       "      <th>38229</th>\n",
       "      <td>22751516</td>\n",
       "      <td>/m/05zl0yl</td>\n",
       "      <td>The Frozen Limits</td>\n",
       "      <td>1939</td>\n",
       "      <td>NaN</td>\n",
       "      <td>81.0</td>\n",
       "      <td>{}</td>\n",
       "      <td>{'/m/07ssc': 'United Kingdom'}</td>\n",
       "      <td>{'/m/01z4y': 'Comedy', '/m/09q17': 'Slapstick'}</td>\n",
       "      <td>1939.0</td>\n",
       "    </tr>\n",
       "    <tr>\n",
       "      <th>40499</th>\n",
       "      <td>17458139</td>\n",
       "      <td>/m/0465vkp</td>\n",
       "      <td>Rab Ne Bana Di Jodi</td>\n",
       "      <td>2008-12-11</td>\n",
       "      <td>NaN</td>\n",
       "      <td>164.0</td>\n",
       "      <td>{'/m/03k50': 'Hindi Language'}</td>\n",
       "      <td>{'/m/03rk0': 'India'}</td>\n",
       "      <td>{'/m/03q4nz': 'World cinema', '/m/04t36': 'Mus...</td>\n",
       "      <td>2008.0</td>\n",
       "    </tr>\n",
       "  </tbody>\n",
       "</table>\n",
       "</div>"
      ],
      "text/plain": [
       "       WikiMovieID FreebaseMovieID            MovieName ReleaseDate  \\\n",
       "38229     22751516      /m/05zl0yl    The Frozen Limits        1939   \n",
       "40499     17458139      /m/0465vkp  Rab Ne Bana Di Jodi  2008-12-11   \n",
       "\n",
       "       BORevenue  Runtime                       Languages  \\\n",
       "38229        NaN     81.0                              {}   \n",
       "40499        NaN    164.0  {'/m/03k50': 'Hindi Language'}   \n",
       "\n",
       "                            Countries  \\\n",
       "38229  {'/m/07ssc': 'United Kingdom'}   \n",
       "40499           {'/m/03rk0': 'India'}   \n",
       "\n",
       "                                              MovieGenre  ReleaseYear  \n",
       "38229    {'/m/01z4y': 'Comedy', '/m/09q17': 'Slapstick'}       1939.0  \n",
       "40499  {'/m/03q4nz': 'World cinema', '/m/04t36': 'Mus...       2008.0  "
      ]
     },
     "execution_count": 12,
     "metadata": {},
     "output_type": "execute_result"
    }
   ],
   "source": [
    "movies.sample(2)"
   ]
  },
  {
   "cell_type": "markdown",
   "id": "657b330a",
   "metadata": {},
   "source": [
    "##### Merge the characters & movies datasets"
   ]
  },
  {
   "cell_type": "code",
   "execution_count": 13,
   "id": "90da7a98",
   "metadata": {},
   "outputs": [
    {
     "name": "stdout",
     "output_type": "stream",
     "text": [
      "The cmu dataset contains 405060 entries\n"
     ]
    },
    {
     "data": {
      "text/html": [
       "<div>\n",
       "<style scoped>\n",
       "    .dataframe tbody tr th:only-of-type {\n",
       "        vertical-align: middle;\n",
       "    }\n",
       "\n",
       "    .dataframe tbody tr th {\n",
       "        vertical-align: top;\n",
       "    }\n",
       "\n",
       "    .dataframe thead th {\n",
       "        text-align: right;\n",
       "    }\n",
       "</style>\n",
       "<table border=\"1\" class=\"dataframe\">\n",
       "  <thead>\n",
       "    <tr style=\"text-align: right;\">\n",
       "      <th></th>\n",
       "      <th>WikiMovieID</th>\n",
       "      <th>FreebaseMovieID</th>\n",
       "      <th>MovieName</th>\n",
       "      <th>ReleaseDate</th>\n",
       "      <th>BORevenue</th>\n",
       "      <th>Languages</th>\n",
       "      <th>Countries</th>\n",
       "      <th>MovieGenre</th>\n",
       "      <th>ReleaseYear</th>\n",
       "      <th>CharacterName</th>\n",
       "      <th>Gender</th>\n",
       "      <th>Ethnicity</th>\n",
       "      <th>ActorName</th>\n",
       "      <th>Age</th>\n",
       "      <th>FreebaseActorMapID</th>\n",
       "      <th>FreebaseCharacterID</th>\n",
       "      <th>FreebaseActorID</th>\n",
       "    </tr>\n",
       "  </thead>\n",
       "  <tbody>\n",
       "    <tr>\n",
       "      <th>87984</th>\n",
       "      <td>8934867</td>\n",
       "      <td>/m/027q9wt</td>\n",
       "      <td>Love Is A Fat Woman</td>\n",
       "      <td>1987-09-23</td>\n",
       "      <td>NaN</td>\n",
       "      <td>{'/m/06nm1': 'Spanish Language'}</td>\n",
       "      <td>{'/m/0jgd': 'Argentina', '/m/059j2': 'Netherla...</td>\n",
       "      <td>{'/m/07s9rl0': 'Drama'}</td>\n",
       "      <td>1987.0</td>\n",
       "      <td>NaN</td>\n",
       "      <td>M</td>\n",
       "      <td>NaN</td>\n",
       "      <td>Harry Havilio</td>\n",
       "      <td>NaN</td>\n",
       "      <td>/m/0bypb9n</td>\n",
       "      <td>NaN</td>\n",
       "      <td>/m/0bypb9k</td>\n",
       "    </tr>\n",
       "    <tr>\n",
       "      <th>170718</th>\n",
       "      <td>3700174</td>\n",
       "      <td>/m/09w353</td>\n",
       "      <td>Jumanji</td>\n",
       "      <td>1995-12-15</td>\n",
       "      <td>262797249.0</td>\n",
       "      <td>{'/m/064_8sq': 'French Language', '/m/02h40lc'...</td>\n",
       "      <td>{'/m/09c7w0': 'United States of America', '/m/...</td>\n",
       "      <td>{'/m/01jfsb': 'Thriller', '/m/0hj3n2k': 'Fanta...</td>\n",
       "      <td>1995.0</td>\n",
       "      <td>Peter Shepherd</td>\n",
       "      <td>M</td>\n",
       "      <td>NaN</td>\n",
       "      <td>Bradley Pierce</td>\n",
       "      <td>13.0</td>\n",
       "      <td>/m/0j_8bl</td>\n",
       "      <td>/m/0d7xlr0</td>\n",
       "      <td>/m/0d03k4</td>\n",
       "    </tr>\n",
       "  </tbody>\n",
       "</table>\n",
       "</div>"
      ],
      "text/plain": [
       "        WikiMovieID FreebaseMovieID            MovieName ReleaseDate  \\\n",
       "87984       8934867      /m/027q9wt  Love Is A Fat Woman  1987-09-23   \n",
       "170718      3700174       /m/09w353              Jumanji  1995-12-15   \n",
       "\n",
       "          BORevenue                                          Languages  \\\n",
       "87984           NaN                   {'/m/06nm1': 'Spanish Language'}   \n",
       "170718  262797249.0  {'/m/064_8sq': 'French Language', '/m/02h40lc'...   \n",
       "\n",
       "                                                Countries  \\\n",
       "87984   {'/m/0jgd': 'Argentina', '/m/059j2': 'Netherla...   \n",
       "170718  {'/m/09c7w0': 'United States of America', '/m/...   \n",
       "\n",
       "                                               MovieGenre  ReleaseYear  \\\n",
       "87984                             {'/m/07s9rl0': 'Drama'}       1987.0   \n",
       "170718  {'/m/01jfsb': 'Thriller', '/m/0hj3n2k': 'Fanta...       1995.0   \n",
       "\n",
       "         CharacterName Gender Ethnicity       ActorName   Age  \\\n",
       "87984              NaN      M       NaN   Harry Havilio   NaN   \n",
       "170718  Peter Shepherd      M       NaN  Bradley Pierce  13.0   \n",
       "\n",
       "       FreebaseActorMapID FreebaseCharacterID FreebaseActorID  \n",
       "87984          /m/0bypb9n                 NaN      /m/0bypb9k  \n",
       "170718          /m/0j_8bl          /m/0d7xlr0       /m/0d03k4  "
      ]
     },
     "execution_count": 13,
     "metadata": {},
     "output_type": "execute_result"
    }
   ],
   "source": [
    "# Merge the 2 datasets according to the common columns, and drop the columns that we don't need\n",
    "# We perform an inner join to populate characters with movies\n",
    "cmu = movies.merge(characters, how='inner', on=['WikiMovieID', 'FreebaseMovieID', 'ReleaseDate', 'ReleaseYear'])\n",
    "cmu = cmu.drop(['DoB', 'Height', 'Runtime'], axis=1).copy(deep=True)\n",
    "\n",
    "print(f'The cmu dataset contains {len(cmu.index)} entries')\n",
    "cmu.sample(2)"
   ]
  },
  {
   "cell_type": "code",
   "execution_count": 14,
   "id": "1ad7354b",
   "metadata": {},
   "outputs": [
    {
     "name": "stdout",
     "output_type": "stream",
     "text": [
      "Percentage of missing entries in the cmu dataset:\n",
      "WikiMovieID             0.000000\n",
      "FreebaseMovieID         0.000000\n",
      "MovieName               0.000000\n",
      "ReleaseDate             2.430751\n",
      "BORevenue              76.733570\n",
      "ReleaseYear             2.430751\n",
      "CharacterName          54.213944\n",
      "Gender                  0.000000\n",
      "Ethnicity              73.828322\n",
      "ActorName               0.002963\n",
      "Age                    28.319508\n",
      "FreebaseCharacterID    54.211969\n",
      "FreebaseActorID         0.000000\n",
      "FreebaseActorMapID      0.000000\n",
      "dtype: float64\n",
      "\n",
      "Languages 7.37%\n",
      "Countries 3.60%\n",
      "MovieGenre 0.99%\n"
     ]
    }
   ],
   "source": [
    "print('Percentage of missing entries in the cmu dataset:') \n",
    "print(100*cmu[['WikiMovieID', 'FreebaseMovieID', 'MovieName', 'ReleaseDate', 'BORevenue', 'ReleaseYear', \n",
    "               'CharacterName','Gender', 'Ethnicity', 'ActorName', 'Age', 'FreebaseCharacterID',\n",
    "               'FreebaseActorID', 'FreebaseActorMapID']].isna().sum() / len(cmu))\n",
    "\n",
    "print(f\"\\nLanguages {percent_missing_strdict(cmu['Languages']):.2f}%\")\n",
    "print(f\"Countries {percent_missing_strdict(cmu['Countries']):.2f}%\")\n",
    "print(f\"MovieGenre {percent_missing_strdict(cmu['MovieGenre']):.2f}%\")                                                                                  "
   ]
  },
  {
   "cell_type": "code",
   "execution_count": 15,
   "id": "1093f2f8",
   "metadata": {},
   "outputs": [
    {
     "data": {
      "image/png": "[encoded data removed]",
      "text/plain": [
       "<Figure size 1000x500 with 2 Axes>"
      ]
     },
     "metadata": {},
     "output_type": "display_data"
    }
   ],
   "source": [
    "# Plot the number of movies and of characters per year\n",
    "movie_count_per_year = cmu.groupby(['ReleaseYear']).agg({'WikiMovieID' : 'nunique'})\n",
    "character_count_per_year = cmu.groupby(['ReleaseYear']).agg({'Gender': 'count'})\n",
    "\n",
    "sns.set_style(\"darkgrid\")\n",
    "\n",
    "fig, (ax1, ax2) = plt.subplots(1,2,figsize= (10,5))\n",
    "ax1.plot(movie_count_per_year)\n",
    "ax1.plot([1888, 2020], [200, 200])\n",
    "ax1.set_xlabel('Release Year')\n",
    "ax1.set_ylabel('Count')\n",
    "ax1.set_title('Movie Count per year')\n",
    "\n",
    "ax2.plot(character_count_per_year)\n",
    "ax2.plot([1888, 2020], [200, 200])\n",
    "ax2.set_xlabel('Release Year')\n",
    "ax2.set_ylabel('Count')\n",
    "ax2.set_title('Character Count per year')\n",
    "\n",
    "plt.tight_layout()\n",
    "plt.show()"
   ]
  },
  {
   "cell_type": "code",
   "execution_count": 16,
   "id": "933a7bdd",
   "metadata": {},
   "outputs": [
    {
     "name": "stdout",
     "output_type": "stream",
     "text": [
      "The cmu dataset contains 384158 entries after filtering to have at least 200 movies and 100 characters per year.\n"
     ]
    }
   ],
   "source": [
    "# Keep only movies between 1925 and 2012 to have at least 200 movies per year and at least 100 characters per year.\n",
    "cmu = cmu.loc[(cmu['ReleaseYear'] >= 1925) & (cmu['ReleaseYear'] <= 2012)].copy(deep=True)\n",
    "print(f'The cmu dataset contains {len(cmu.index)} entries after filtering to have at least 200 movies and 100 characters per year.')"
   ]
  },
  {
   "cell_type": "markdown",
   "id": "d17dbd4f",
   "metadata": {},
   "source": [
    "### Add geographical data to our dataset"
   ]
  },
  {
   "cell_type": "markdown",
   "id": "3488e138",
   "metadata": {},
   "source": [
    "We will perform a geographical analysis; for this purpose, we will create specialized datasets.  "
   ]
  },
  {
   "cell_type": "code",
   "execution_count": 17,
   "id": "076f7445",
   "metadata": {},
   "outputs": [
    {
     "name": "stdout",
     "output_type": "stream",
     "text": [
      "We dropped 8154 rows, corresponding to 9.98% of our original movies dataset.\n"
     ]
    }
   ],
   "source": [
    "#Initial number of rows in the movies dataset\n",
    "nb_row_countries = len(movies)\n",
    "\n",
    "# Create a new dataset from movies where we remove the rows in the 'Countries' column that lack information about countries.\n",
    "movies_geo = movies[movies['Countries'].apply(lambda x: len(x)!=0)].copy(deep=True)\n",
    "\n",
    "num_rows_dropped = nb_row_countries-len(movies_geo)\n",
    "percentage_rows_dropped = (num_rows_dropped / nb_row_countries) * 100\n",
    "print(f'We dropped {num_rows_dropped} rows, corresponding to {percentage_rows_dropped:.2f}% of our original movies dataset.')"
   ]
  },
  {
   "cell_type": "code",
   "execution_count": 18,
   "id": "a13abbb9",
   "metadata": {},
   "outputs": [],
   "source": [
    "# We convert the column type from dictionaries to a list of strings.\n",
    "movies_geo['Countries'] = movies_geo['Countries'].apply(lambda x: [val for val in x.values()])"
   ]
  },
  {
   "cell_type": "markdown",
   "id": "caedb6c8",
   "metadata": {},
   "source": [
    "To facilitate the analysis, we will utilize the ISO databases available in the pycountry library for standardized country names."
   ]
  },
  {
   "cell_type": "code",
   "execution_count": 19,
   "id": "87ea3154",
   "metadata": {},
   "outputs": [
    {
     "data": {
      "application/vnd.jupyter.widget-view+json": {
       "model_id": "70ec20edcb2c44aca1a51d755bb23df1",
       "version_major": 2,
       "version_minor": 0
      },
      "text/plain": [
       "Pandas Apply:   0%|          | 0/73587 [00:00<?, ?it/s]"
      ]
     },
     "metadata": {},
     "output_type": "display_data"
    }
   ],
   "source": [
    "movies_geo['Countries'] = movies_geo['Countries'].swifter.apply(bulkFindCountries)\n",
    "# Replace 'not found' by None \n",
    "movies_geo['Countries'] = movies_geo['Countries'].apply(process_countries).copy(deep=True)"
   ]
  },
  {
   "cell_type": "code",
   "execution_count": 20,
   "id": "a1be2145",
   "metadata": {},
   "outputs": [
    {
     "name": "stdout",
     "output_type": "stream",
     "text": [
      "By filtering out Nan values, we dropped 1545 rows, corresponding to 2.10% of our dataset.\n",
      "The filtered dataset contains 72042 movies.\n"
     ]
    }
   ],
   "source": [
    "# Filter out NaN values and keep only the countries for which we have the alpha_2 code\n",
    "length_before = len(movies_geo)\n",
    "movies_geo = movies_geo.dropna(subset=['Countries']).copy(deep=True)\n",
    "length_after = len(movies_geo)\n",
    "\n",
    "print(f'By filtering out Nan values, we dropped {length_before-length_after} rows, corresponding to {((length_before-length_after)/length_before)*100:.2f}% of our dataset.')\n",
    "print(f'The filtered dataset contains {length_after} movies.')"
   ]
  },
  {
   "cell_type": "code",
   "execution_count": 21,
   "id": "1d9132a1",
   "metadata": {},
   "outputs": [],
   "source": [
    "# Then we can determine the continent using the alpha_2 code\n",
    "movies_geo['Continent'] = movies_geo['Countries'].apply(lambda x: [pc.country_alpha2_to_continent_code(country) for country in x]).copy(deep=True)"
   ]
  },
  {
   "cell_type": "code",
   "execution_count": 22,
   "id": "7447c93a",
   "metadata": {},
   "outputs": [],
   "source": [
    "# If a row contains multiple occurrences of the same continent, eliminate the duplicates within the list\n",
    "movies_geo['Continent'] = movies_geo['Continent'].apply(lambda x: list(dict.fromkeys(x)) if isinstance(x, list) else x).copy(deep=True)"
   ]
  },
  {
   "cell_type": "code",
   "execution_count": 23,
   "id": "7bf7516d",
   "metadata": {},
   "outputs": [
    {
     "name": "stdout",
     "output_type": "stream",
     "text": [
      "We dropped 4649 rows, corresponding to 6.45% of our dataset.\n",
      "The filtered dataset contains 67393 movies.\n"
     ]
    }
   ],
   "source": [
    "# Remove the rows for which we have more than one unique continent\n",
    "length_before = len(movies_geo)\n",
    "\n",
    "movies_geo = movies_geo[movies_geo['Continent'].apply(lambda x: len(x) <= 1)].copy(deep=True)\n",
    "\n",
    "length_after = len(movies_geo)\n",
    "print(f'We dropped {length_before-length_after} rows, corresponding to {((length_before-length_after)/length_before)*100:.2f}% of our dataset.')\n",
    "print(f'The filtered dataset contains {length_after} movies.')"
   ]
  },
  {
   "cell_type": "code",
   "execution_count": 24,
   "id": "2712d8ab",
   "metadata": {},
   "outputs": [],
   "source": [
    "# Change the data type of the 'Continent' column from a list to a string since it now contains lists with only one element\n",
    "movies_geo['Continent'] = movies_geo['Continent'].apply(lambda x: x[0] if isinstance(x, list) else x)"
   ]
  },
  {
   "cell_type": "code",
   "execution_count": 25,
   "id": "15f75788",
   "metadata": {},
   "outputs": [
    {
     "data": {
      "text/html": [
       "<div>\n",
       "<style scoped>\n",
       "    .dataframe tbody tr th:only-of-type {\n",
       "        vertical-align: middle;\n",
       "    }\n",
       "\n",
       "    .dataframe tbody tr th {\n",
       "        vertical-align: top;\n",
       "    }\n",
       "\n",
       "    .dataframe thead th {\n",
       "        text-align: right;\n",
       "    }\n",
       "</style>\n",
       "<table border=\"1\" class=\"dataframe\">\n",
       "  <thead>\n",
       "    <tr style=\"text-align: right;\">\n",
       "      <th></th>\n",
       "      <th>WikiMovieID</th>\n",
       "      <th>FreebaseMovieID</th>\n",
       "      <th>MovieName</th>\n",
       "      <th>ReleaseDate</th>\n",
       "      <th>BORevenue</th>\n",
       "      <th>Runtime</th>\n",
       "      <th>Languages</th>\n",
       "      <th>Countries</th>\n",
       "      <th>MovieGenre</th>\n",
       "      <th>ReleaseYear</th>\n",
       "      <th>Continent</th>\n",
       "    </tr>\n",
       "  </thead>\n",
       "  <tbody>\n",
       "    <tr>\n",
       "      <th>33082</th>\n",
       "      <td>18928418</td>\n",
       "      <td>/m/04jdt3w</td>\n",
       "      <td>Tower of the Firstborn</td>\n",
       "      <td>2000-10-01</td>\n",
       "      <td>NaN</td>\n",
       "      <td>190.0</td>\n",
       "      <td>{'/m/02h40lc': 'English Language'}</td>\n",
       "      <td>FR</td>\n",
       "      <td>{'/m/03btsm8': 'Action/Adventure', '/m/03g3w':...</td>\n",
       "      <td>2000.0</td>\n",
       "      <td>EU</td>\n",
       "    </tr>\n",
       "    <tr>\n",
       "      <th>52700</th>\n",
       "      <td>20631026</td>\n",
       "      <td>/m/04j2k4k</td>\n",
       "      <td>Emmett's Mark</td>\n",
       "      <td>2003</td>\n",
       "      <td>NaN</td>\n",
       "      <td>104.0</td>\n",
       "      <td>{'/m/02h40lc': 'English Language'}</td>\n",
       "      <td>US</td>\n",
       "      <td>{'/m/01jfsb': 'Thriller', '/m/0lsxr': 'Crime F...</td>\n",
       "      <td>2003.0</td>\n",
       "      <td>NA</td>\n",
       "    </tr>\n",
       "  </tbody>\n",
       "</table>\n",
       "</div>"
      ],
      "text/plain": [
       "       WikiMovieID FreebaseMovieID               MovieName ReleaseDate  \\\n",
       "33082     18928418      /m/04jdt3w  Tower of the Firstborn  2000-10-01   \n",
       "52700     20631026      /m/04j2k4k           Emmett's Mark        2003   \n",
       "\n",
       "       BORevenue  Runtime                           Languages Countries  \\\n",
       "33082        NaN    190.0  {'/m/02h40lc': 'English Language'}        FR   \n",
       "52700        NaN    104.0  {'/m/02h40lc': 'English Language'}        US   \n",
       "\n",
       "                                              MovieGenre  ReleaseYear  \\\n",
       "33082  {'/m/03btsm8': 'Action/Adventure', '/m/03g3w':...       2000.0   \n",
       "52700  {'/m/01jfsb': 'Thriller', '/m/0lsxr': 'Crime F...       2003.0   \n",
       "\n",
       "      Continent  \n",
       "33082        EU  \n",
       "52700        NA  "
      ]
     },
     "execution_count": 25,
     "metadata": {},
     "output_type": "execute_result"
    }
   ],
   "source": [
    "# convert list in string\n",
    "movies_geo['Countries'] = movies_geo['Countries'].apply(lambda x: x[0] if isinstance(x, list) else x)\n",
    "movies_geo.sample(2)"
   ]
  },
  {
   "cell_type": "code",
   "execution_count": 26,
   "id": "f92fa53c",
   "metadata": {},
   "outputs": [
    {
     "name": "stdout",
     "output_type": "stream",
     "text": [
      "Our final dataset contains 67393 movies.\n"
     ]
    }
   ],
   "source": [
    "print(f'Our final dataset contains {len(movies_geo.index)} movies.')"
   ]
  },
  {
   "cell_type": "markdown",
   "id": "08c871a9",
   "metadata": {},
   "source": [
    "Merge the movies_geo dataset with characters for our future analysis."
   ]
  },
  {
   "cell_type": "code",
   "execution_count": 27,
   "id": "f7652806",
   "metadata": {},
   "outputs": [
    {
     "name": "stdout",
     "output_type": "stream",
     "text": [
      "The cmu_geo dataset contains 349182 entries\n"
     ]
    },
    {
     "data": {
      "text/html": [
       "<div>\n",
       "<style scoped>\n",
       "    .dataframe tbody tr th:only-of-type {\n",
       "        vertical-align: middle;\n",
       "    }\n",
       "\n",
       "    .dataframe tbody tr th {\n",
       "        vertical-align: top;\n",
       "    }\n",
       "\n",
       "    .dataframe thead th {\n",
       "        text-align: right;\n",
       "    }\n",
       "</style>\n",
       "<table border=\"1\" class=\"dataframe\">\n",
       "  <thead>\n",
       "    <tr style=\"text-align: right;\">\n",
       "      <th></th>\n",
       "      <th>WikiMovieID</th>\n",
       "      <th>FreebaseMovieID</th>\n",
       "      <th>MovieName</th>\n",
       "      <th>ReleaseDate</th>\n",
       "      <th>BORevenue</th>\n",
       "      <th>Languages</th>\n",
       "      <th>Countries</th>\n",
       "      <th>MovieGenre</th>\n",
       "      <th>ReleaseYear</th>\n",
       "      <th>Continent</th>\n",
       "      <th>CharacterName</th>\n",
       "      <th>Gender</th>\n",
       "      <th>Ethnicity</th>\n",
       "      <th>ActorName</th>\n",
       "      <th>Age</th>\n",
       "      <th>FreebaseActorMapID</th>\n",
       "      <th>FreebaseCharacterID</th>\n",
       "      <th>FreebaseActorID</th>\n",
       "    </tr>\n",
       "  </thead>\n",
       "  <tbody>\n",
       "    <tr>\n",
       "      <th>199197</th>\n",
       "      <td>21968479</td>\n",
       "      <td>/m/05p8j3x</td>\n",
       "      <td>A Dog's Life</td>\n",
       "      <td>1950-09-28</td>\n",
       "      <td>NaN</td>\n",
       "      <td>{'/m/02bjrlw': 'Italian Language'}</td>\n",
       "      <td>IT</td>\n",
       "      <td>{'/m/07s9rl0': 'Drama', '/m/01z4y': 'Comedy', ...</td>\n",
       "      <td>1950.0</td>\n",
       "      <td>EU</td>\n",
       "      <td>Margherita 'Rita Buton'</td>\n",
       "      <td>F</td>\n",
       "      <td>/m/0222qb</td>\n",
       "      <td>Gina Lollobrigida</td>\n",
       "      <td>23.0</td>\n",
       "      <td>/m/05tdq2j</td>\n",
       "      <td>/m/0h2tgpv</td>\n",
       "      <td>/m/01qrlx</td>\n",
       "    </tr>\n",
       "    <tr>\n",
       "      <th>299991</th>\n",
       "      <td>17646903</td>\n",
       "      <td>/m/0462mpt</td>\n",
       "      <td>Poison Ivy</td>\n",
       "      <td>1985-02-10</td>\n",
       "      <td>NaN</td>\n",
       "      <td>{'/m/02h40lc': 'English Language'}</td>\n",
       "      <td>US</td>\n",
       "      <td>{'/m/06cvj': 'Romantic comedy', '/m/01z4y': 'C...</td>\n",
       "      <td>1985.0</td>\n",
       "      <td>NA</td>\n",
       "      <td>Dennis Baxter</td>\n",
       "      <td>M</td>\n",
       "      <td>/m/0g8_vp</td>\n",
       "      <td>Michael J. Fox</td>\n",
       "      <td>23.0</td>\n",
       "      <td>/m/04dhs9x</td>\n",
       "      <td>/m/0gxt_8x</td>\n",
       "      <td>/m/0hz_1</td>\n",
       "    </tr>\n",
       "  </tbody>\n",
       "</table>\n",
       "</div>"
      ],
      "text/plain": [
       "        WikiMovieID FreebaseMovieID     MovieName ReleaseDate  BORevenue  \\\n",
       "199197     21968479      /m/05p8j3x  A Dog's Life  1950-09-28        NaN   \n",
       "299991     17646903      /m/0462mpt    Poison Ivy  1985-02-10        NaN   \n",
       "\n",
       "                                 Languages Countries  \\\n",
       "199197  {'/m/02bjrlw': 'Italian Language'}        IT   \n",
       "299991  {'/m/02h40lc': 'English Language'}        US   \n",
       "\n",
       "                                               MovieGenre  ReleaseYear  \\\n",
       "199197  {'/m/07s9rl0': 'Drama', '/m/01z4y': 'Comedy', ...       1950.0   \n",
       "299991  {'/m/06cvj': 'Romantic comedy', '/m/01z4y': 'C...       1985.0   \n",
       "\n",
       "       Continent            CharacterName Gender  Ethnicity  \\\n",
       "199197        EU  Margherita 'Rita Buton'      F  /m/0222qb   \n",
       "299991        NA            Dennis Baxter      M  /m/0g8_vp   \n",
       "\n",
       "                ActorName   Age FreebaseActorMapID FreebaseCharacterID  \\\n",
       "199197  Gina Lollobrigida  23.0         /m/05tdq2j          /m/0h2tgpv   \n",
       "299991     Michael J. Fox  23.0         /m/04dhs9x          /m/0gxt_8x   \n",
       "\n",
       "       FreebaseActorID  \n",
       "199197       /m/01qrlx  \n",
       "299991        /m/0hz_1  "
      ]
     },
     "execution_count": 27,
     "metadata": {},
     "output_type": "execute_result"
    }
   ],
   "source": [
    "# Merge the 2 datasets according to the common columns, and drop the columns that we don't need\n",
    "cmu_geo = movies_geo.merge(characters, how='inner', on=['WikiMovieID', 'FreebaseMovieID', 'ReleaseDate', 'ReleaseYear'])\n",
    "cmu_geo = cmu_geo.drop(['DoB', 'Height', 'Runtime'], axis=1).copy(deep=True)\n",
    "\n",
    "print(f'The cmu_geo dataset contains {len(cmu_geo.index)} entries')\n",
    "cmu_geo.sample(2)"
   ]
  },
  {
   "cell_type": "code",
   "execution_count": 28,
   "id": "32e44ffc",
   "metadata": {},
   "outputs": [
    {
     "data": {
      "image/png": "[encoded data removed]",
      "text/plain": [
       "<Figure size 1000x500 with 2 Axes>"
      ]
     },
     "metadata": {},
     "output_type": "display_data"
    }
   ],
   "source": [
    "movie_geo_count_per_year = cmu_geo.groupby(['ReleaseYear']).agg({'WikiMovieID' : 'nunique'})\n",
    "character_geo_count_per_year = cmu_geo.groupby(['ReleaseYear']).agg({'Gender': 'count'})\n",
    "\n",
    "fig, (ax1, ax2) = plt.subplots(1,2,figsize= (10,5))\n",
    "ax1.plot(movie_geo_count_per_year)\n",
    "ax1.plot([1888, 2020], [200, 200])\n",
    "ax1.set_xlabel('Release Year')\n",
    "ax1.set_ylabel('Count')\n",
    "ax1.set_title('Movie Count per year')\n",
    "\n",
    "ax2.plot(character_geo_count_per_year)\n",
    "ax2.plot([1888, 2020], [200, 200])\n",
    "ax2.set_xlabel('Release Year')\n",
    "ax2.set_ylabel('Count')\n",
    "ax2.set_title('Character Count per year')\n",
    "\n",
    "plt.show()"
   ]
  },
  {
   "cell_type": "code",
   "execution_count": 29,
   "id": "339e2e66",
   "metadata": {},
   "outputs": [
    {
     "name": "stdout",
     "output_type": "stream",
     "text": [
      "The cmu_geo dataset contains 328808 entries after filtering to have at least 200 movies and 100 characters per year\n"
     ]
    }
   ],
   "source": [
    "# Keep only movies between 1930 and 2012 to have at least 200 movies per year and at least 100 characters per year\n",
    "cmu_geo = cmu_geo.loc[(cmu_geo['ReleaseYear'] >= 1930) & (cmu_geo['ReleaseYear'] <= 2012)].copy(deep=True)\n",
    "print(f'The cmu_geo dataset contains {len(cmu_geo.index)} entries after filtering to have at least 200 movies and 100 characters per year')"
   ]
  },
  {
   "cell_type": "code",
   "execution_count": 35,
   "id": "a1882476",
   "metadata": {},
   "outputs": [
    {
     "name": "stdout",
     "output_type": "stream",
     "text": [
      "Percentage of missing entries in the cmu_geo dataset:\n",
      "WikiMovieID             0.000000\n",
      "FreebaseMovieID         0.000000\n",
      "MovieName               0.000000\n",
      "ReleaseDate             0.000000\n",
      "BORevenue              88.246028\n",
      "ReleaseYear             0.000000\n",
      "CharacterName          62.042894\n",
      "Gender                  0.000000\n",
      "Ethnicity              85.963845\n",
      "ActorName               0.003650\n",
      "Age                    28.983784\n",
      "FreebaseCharacterID    62.040461\n",
      "FreebaseActorID         0.000000\n",
      "FreebaseActorMapID      0.000000\n",
      "dtype: float64\n",
      "\n",
      "Languages 4.78%\n",
      "Countries 0.00%\n",
      "MovieGenre 0.81%\n"
     ]
    }
   ],
   "source": [
    "print('Percentage of missing entries in the cmu_geo dataset:')\n",
    "print(100*cmu[['WikiMovieID', 'FreebaseMovieID', 'MovieName', 'ReleaseDate', 'BORevenue',\n",
    "               'ReleaseYear', 'CharacterName','Gender', 'Ethnicity','ActorName', 'Age',\n",
    "               'FreebaseCharacterID','FreebaseActorID', 'FreebaseActorMapID']].isna().sum() / len(cmu_geo))\n",
    "\n",
    "print(f\"\\nLanguages {percent_missing_strdict(cmu_geo['Languages']):.2f}%\") \n",
    "print(f\"Countries {percent_missing_strdict(cmu_geo['Countries']):.2f}%\") \n",
    "print(f\"MovieGenre {percent_missing_strdict(cmu_geo['MovieGenre']):.2f}%\") "
   ]
  },
  {
   "cell_type": "markdown",
   "id": "8a08ccea",
   "metadata": {},
   "source": [
    "## PART 2: CoreNLP parsed movie summaries <a id=\"part1.2\"></a>"
   ]
  },
  {
   "cell_type": "markdown",
   "id": "5ce15c54",
   "metadata": {},
   "source": [
    "We process the files contained in the corenlp_plot_summaries.tar archive.\n",
    "\n",
    "All functions used for this part and other helpers are in the helpers_corenlp.py file."
   ]
  },
  {
   "cell_type": "code",
   "execution_count": 36,
   "id": "4e3750ec",
   "metadata": {},
   "outputs": [
    {
     "ename": "FileNotFoundError",
     "evalue": "[Errno 2] No such file or directory: '/Users/amelierajon/Document/EPFL/Master/MA3/Applied Data Analysis/Project/ada-2023-project-teamcajare2023/corenlp/corenlp_plot_summaries.tar'",
     "output_type": "error",
     "traceback": [
      "\u001b[0;31m---------------------------------------------------------------------------\u001b[0m",
      "\u001b[0;31mFileNotFoundError\u001b[0m                         Traceback (most recent call last)",
      "Cell \u001b[0;32mIn[36], line 2\u001b[0m\n\u001b[1;32m      1\u001b[0m \u001b[38;5;66;03m# First we extract the files contained in the tar file into .xml files\u001b[39;00m\n\u001b[0;32m----> 2\u001b[0m \u001b[43mload_corenlp_data\u001b[49m\u001b[43m(\u001b[49m\u001b[43m)\u001b[49m\n",
      "File \u001b[0;32m~/Document/EPFL/Master/MA3/Applied Data Analysis/Project/ada-2023-project-teamcajare2023/helpers_corenlp.py:31\u001b[0m, in \u001b[0;36mload_corenlp_data\u001b[0;34m(downloaded, tar_path)\u001b[0m\n\u001b[1;32m     29\u001b[0m     tar \u001b[38;5;241m=\u001b[39m tarfile\u001b[38;5;241m.\u001b[39mopen(fileobj\u001b[38;5;241m=\u001b[39murllib\u001b[38;5;241m.\u001b[39mrequest\u001b[38;5;241m.\u001b[39murlopen(coreNLP_filename), mode\u001b[38;5;241m=\u001b[39m\u001b[38;5;124m\"\u001b[39m\u001b[38;5;124mr\u001b[39m\u001b[38;5;124m\"\u001b[39m) \n\u001b[1;32m     30\u001b[0m \u001b[38;5;28;01melse\u001b[39;00m:\n\u001b[0;32m---> 31\u001b[0m     tar \u001b[38;5;241m=\u001b[39m \u001b[43mtarfile\u001b[49m\u001b[38;5;241;43m.\u001b[39;49m\u001b[43mopen\u001b[49m\u001b[43m(\u001b[49m\u001b[43mtar_path\u001b[49m\u001b[43m,\u001b[49m\u001b[43m \u001b[49m\u001b[43mmode\u001b[49m\u001b[38;5;241;43m=\u001b[39;49m\u001b[38;5;124;43m\"\u001b[39;49m\u001b[38;5;124;43mr\u001b[39;49m\u001b[38;5;124;43m\"\u001b[39;49m\u001b[43m)\u001b[49m\n\u001b[1;32m     33\u001b[0m tar\u001b[38;5;241m.\u001b[39mextractall(path\u001b[38;5;241m=\u001b[39mCORE_NLP_PATH) \n\u001b[1;32m     34\u001b[0m tar\u001b[38;5;241m.\u001b[39mclose()\n",
      "File \u001b[0;32m~/opt/anaconda3/envs/ada/lib/python3.9/tarfile.py:1792\u001b[0m, in \u001b[0;36mTarFile.open\u001b[0;34m(cls, name, mode, fileobj, bufsize, **kwargs)\u001b[0m\n\u001b[1;32m   1790\u001b[0m     saved_pos \u001b[38;5;241m=\u001b[39m fileobj\u001b[38;5;241m.\u001b[39mtell()\n\u001b[1;32m   1791\u001b[0m \u001b[38;5;28;01mtry\u001b[39;00m:\n\u001b[0;32m-> 1792\u001b[0m     \u001b[38;5;28;01mreturn\u001b[39;00m \u001b[43mfunc\u001b[49m\u001b[43m(\u001b[49m\u001b[43mname\u001b[49m\u001b[43m,\u001b[49m\u001b[43m \u001b[49m\u001b[38;5;124;43m\"\u001b[39;49m\u001b[38;5;124;43mr\u001b[39;49m\u001b[38;5;124;43m\"\u001b[39;49m\u001b[43m,\u001b[49m\u001b[43m \u001b[49m\u001b[43mfileobj\u001b[49m\u001b[43m,\u001b[49m\u001b[43m \u001b[49m\u001b[38;5;241;43m*\u001b[39;49m\u001b[38;5;241;43m*\u001b[39;49m\u001b[43mkwargs\u001b[49m\u001b[43m)\u001b[49m\n\u001b[1;32m   1793\u001b[0m \u001b[38;5;28;01mexcept\u001b[39;00m (ReadError, CompressionError):\n\u001b[1;32m   1794\u001b[0m     \u001b[38;5;28;01mif\u001b[39;00m fileobj \u001b[38;5;129;01mis\u001b[39;00m \u001b[38;5;129;01mnot\u001b[39;00m \u001b[38;5;28;01mNone\u001b[39;00m:\n",
      "File \u001b[0;32m~/opt/anaconda3/envs/ada/lib/python3.9/tarfile.py:1856\u001b[0m, in \u001b[0;36mTarFile.gzopen\u001b[0;34m(cls, name, mode, fileobj, compresslevel, **kwargs)\u001b[0m\n\u001b[1;32m   1853\u001b[0m     \u001b[38;5;28;01mraise\u001b[39;00m CompressionError(\u001b[38;5;124m\"\u001b[39m\u001b[38;5;124mgzip module is not available\u001b[39m\u001b[38;5;124m\"\u001b[39m)\n\u001b[1;32m   1855\u001b[0m \u001b[38;5;28;01mtry\u001b[39;00m:\n\u001b[0;32m-> 1856\u001b[0m     fileobj \u001b[38;5;241m=\u001b[39m \u001b[43mGzipFile\u001b[49m\u001b[43m(\u001b[49m\u001b[43mname\u001b[49m\u001b[43m,\u001b[49m\u001b[43m \u001b[49m\u001b[43mmode\u001b[49m\u001b[43m \u001b[49m\u001b[38;5;241;43m+\u001b[39;49m\u001b[43m \u001b[49m\u001b[38;5;124;43m\"\u001b[39;49m\u001b[38;5;124;43mb\u001b[39;49m\u001b[38;5;124;43m\"\u001b[39;49m\u001b[43m,\u001b[49m\u001b[43m \u001b[49m\u001b[43mcompresslevel\u001b[49m\u001b[43m,\u001b[49m\u001b[43m \u001b[49m\u001b[43mfileobj\u001b[49m\u001b[43m)\u001b[49m\n\u001b[1;32m   1857\u001b[0m \u001b[38;5;28;01mexcept\u001b[39;00m \u001b[38;5;167;01mOSError\u001b[39;00m:\n\u001b[1;32m   1858\u001b[0m     \u001b[38;5;28;01mif\u001b[39;00m fileobj \u001b[38;5;129;01mis\u001b[39;00m \u001b[38;5;129;01mnot\u001b[39;00m \u001b[38;5;28;01mNone\u001b[39;00m \u001b[38;5;129;01mand\u001b[39;00m mode \u001b[38;5;241m==\u001b[39m \u001b[38;5;124m'\u001b[39m\u001b[38;5;124mr\u001b[39m\u001b[38;5;124m'\u001b[39m:\n",
      "File \u001b[0;32m~/opt/anaconda3/envs/ada/lib/python3.9/gzip.py:173\u001b[0m, in \u001b[0;36mGzipFile.__init__\u001b[0;34m(self, filename, mode, compresslevel, fileobj, mtime)\u001b[0m\n\u001b[1;32m    171\u001b[0m     mode \u001b[38;5;241m+\u001b[39m\u001b[38;5;241m=\u001b[39m \u001b[38;5;124m'\u001b[39m\u001b[38;5;124mb\u001b[39m\u001b[38;5;124m'\u001b[39m\n\u001b[1;32m    172\u001b[0m \u001b[38;5;28;01mif\u001b[39;00m fileobj \u001b[38;5;129;01mis\u001b[39;00m \u001b[38;5;28;01mNone\u001b[39;00m:\n\u001b[0;32m--> 173\u001b[0m     fileobj \u001b[38;5;241m=\u001b[39m \u001b[38;5;28mself\u001b[39m\u001b[38;5;241m.\u001b[39mmyfileobj \u001b[38;5;241m=\u001b[39m \u001b[43mbuiltins\u001b[49m\u001b[38;5;241;43m.\u001b[39;49m\u001b[43mopen\u001b[49m\u001b[43m(\u001b[49m\u001b[43mfilename\u001b[49m\u001b[43m,\u001b[49m\u001b[43m \u001b[49m\u001b[43mmode\u001b[49m\u001b[43m \u001b[49m\u001b[38;5;129;43;01mor\u001b[39;49;00m\u001b[43m \u001b[49m\u001b[38;5;124;43m'\u001b[39;49m\u001b[38;5;124;43mrb\u001b[39;49m\u001b[38;5;124;43m'\u001b[39;49m\u001b[43m)\u001b[49m\n\u001b[1;32m    174\u001b[0m \u001b[38;5;28;01mif\u001b[39;00m filename \u001b[38;5;129;01mis\u001b[39;00m \u001b[38;5;28;01mNone\u001b[39;00m:\n\u001b[1;32m    175\u001b[0m     filename \u001b[38;5;241m=\u001b[39m \u001b[38;5;28mgetattr\u001b[39m(fileobj, \u001b[38;5;124m'\u001b[39m\u001b[38;5;124mname\u001b[39m\u001b[38;5;124m'\u001b[39m, \u001b[38;5;124m'\u001b[39m\u001b[38;5;124m'\u001b[39m)\n",
      "\u001b[0;31mFileNotFoundError\u001b[0m: [Errno 2] No such file or directory: '/Users/amelierajon/Document/EPFL/Master/MA3/Applied Data Analysis/Project/ada-2023-project-teamcajare2023/corenlp/corenlp_plot_summaries.tar'"
     ]
    }
   ],
   "source": [
    "# First we extract the files contained in the tar file into .xml files\n",
    "load_corenlp_data()"
   ]
  },
  {
   "cell_type": "markdown",
   "id": "d06daa01",
   "metadata": {},
   "source": [
    "From the Bamman et al. paper [1], we know what type of dependencies we need to look for in the plot summary trees:\n",
    "- for agent verbs: verbs for which the entity is\n",
    "   - nsubj\n",
    "   - agent\n",
    "- for patient verbs: verbs for which the entity is\n",
    "   - dobj\n",
    "   - nsubjpass\n",
    "   - iobj\n",
    "   - any prepositional argument prep_*\n",
    "- for attributes: adjectives and common noun words that relate to the mention as adjecti- val modifiers, noun-noun compounds, appos- itives, or copulas: \n",
    "   - nsubj or appos governors of a character mention\n",
    "   - nsubj, appos, amod, nn dependents of a character mention\n",
    "\n",
    "This search is directly implemented in a function."
   ]
  },
  {
   "cell_type": "markdown",
   "id": "6db4f33d",
   "metadata": {},
   "source": [
    "The idea is also to count the number of mentions of each character of a movie and then use this number of mentions as a proxy for identifying the main character. Thus in our case we define the main character as the moset mentioned one in the plot summary."
   ]
  },
  {
   "cell_type": "code",
   "execution_count": null,
   "id": "fb6a72ca",
   "metadata": {},
   "outputs": [],
   "source": [
    "# Get the Wikipedia movie id from the Lord of the Ring movies\n",
    "test_ids = characters[characters['CharacterName'] == 'Aragorn']['WikiMovieID'].values"
   ]
  },
  {
   "cell_type": "code",
   "execution_count": null,
   "id": "cd168aa8",
   "metadata": {},
   "outputs": [],
   "source": [
    "# Get the main character names from the Lord of the Ring movies\n",
    "for id in test_ids:\n",
    "    movie_xml = str(id) + '.xml'\n",
    "    print(get_main_character(movie_xml))"
   ]
  },
  {
   "cell_type": "markdown",
   "id": "dae813bd",
   "metadata": {},
   "source": [
    "As we expect, we extract Frodo as the main character of all the Lord of the Ring movies.\n",
    "But we see that depending on the plot summary, the character's full name extracted can be different...\n",
    "\n",
    "We thus need to check in a bidirectional way what the \"fullest\" name used is between the name extracted from the summary and the one used in the character metadata before merging."
   ]
  },
  {
   "cell_type": "code",
   "execution_count": null,
   "id": "9d5e3359",
   "metadata": {},
   "outputs": [],
   "source": [
    "lst = []\n",
    "# we only iterate over movies for which both character and movie metadata is available\n",
    "ids = np.intersect1d(movies['WikiMovieID'].unique(), characters['WikiMovieID'].unique())\n",
    "for id in ids[:100]:\n",
    "    # We extract the data from the .xml files into a list of dictionaries\n",
    "    if os.path.isfile(CORE_NLP_XML + '/' + str(id) + '.xml'):\n",
    "        lst = lst + get_list_movie(str(id) + '.xml')\n",
    "        cmu_characters = list(cmu[cmu['WikiMovieID'] == id].CharacterName)\n",
    "        xml_characters = list(get_characters_from_xml(str(id) + '.xml'))\n",
    "        characters = cmu_characters + xml_characters\n",
    "        # type cast to string\n",
    "        characters = [str(x) for x in characters]\n",
    "        # get the full names of the characters\n",
    "        dict = get_full_names_dict(characters)\n",
    "        # replace cmu CharacterName by the full name in that movie\n",
    "        cmu.loc[cmu['WikiMovieID'] == id, 'CharacterName'] = cmu.loc[cmu['WikiMovieID'] == id, 'CharacterName'].apply(lambda x: dict[x] if x in dict.keys() else x)\n",
    "\n",
    "# We convert the list of dictionaries into a dataframe\n",
    "df_corenlp = pd.DataFrame(lst)\n",
    "\n",
    "df_corenlp.head()"
   ]
  },
  {
   "cell_type": "markdown",
   "id": "24421189",
   "metadata": {},
   "source": [
    "The code takes a lot of time to run so for now we only do it for a few movies (for the first 100 IDs)."
   ]
  },
  {
   "cell_type": "code",
   "execution_count": null,
   "id": "5f9fe6ff",
   "metadata": {},
   "outputs": [],
   "source": [
    "print(type(cmu.WikiMovieID[0]))\n",
    "print(type(df_corenlp.WikiMovieID[0]))"
   ]
  },
  {
   "cell_type": "markdown",
   "id": "8595b508",
   "metadata": {},
   "source": [
    "We need to typecast so that we can merge!"
   ]
  },
  {
   "cell_type": "code",
   "execution_count": null,
   "id": "d610ec02",
   "metadata": {},
   "outputs": [],
   "source": [
    "# change the type of the WikiMovieID column to int64\n",
    "df_corenlp['WikiMovieID'] = df_corenlp['WikiMovieID'].astype('int64')"
   ]
  },
  {
   "cell_type": "code",
   "execution_count": null,
   "id": "62aea220",
   "metadata": {},
   "outputs": [],
   "source": [
    "cmu_corenlp = cmu.merge(df_corenlp, how='inner', on=['WikiMovieID', 'CharacterName'])"
   ]
  },
  {
   "cell_type": "code",
   "execution_count": null,
   "id": "1b592c97",
   "metadata": {},
   "outputs": [],
   "source": [
    "cmu_corenlp.head()"
   ]
  },
  {
   "cell_type": "markdown",
   "id": "ab2c4b72",
   "metadata": {},
   "source": [
    "We get a dataframe with character information extracted from the movie plot summary joined with metadata from the CMU movie corpus. The information extracted from the CoreNLP parsed summaries will be used to cluster characters based on their depiction in the summary."
   ]
  },
  {
   "cell_type": "markdown",
   "id": "8b4f70e1",
   "metadata": {},
   "source": [
    "## PART 3: IMDB datasets <a id=\"part1.3\"></a>"
   ]
  },
  {
   "cell_type": "code",
   "execution_count": null,
   "id": "85e99b94",
   "metadata": {},
   "outputs": [],
   "source": [
    "#Load the datasets\n",
    "IMDB_title = pd.read_csv(IMDB_BASICS_PATH,sep='\\t', low_memory=False)\n",
    "IMDB_ratings = pd.read_csv(IMDB_RATINGS_PATH, sep = '\\t')"
   ]
  },
  {
   "cell_type": "code",
   "execution_count": null,
   "id": "a5284807",
   "metadata": {},
   "outputs": [],
   "source": [
    "display(IMDB_ratings)"
   ]
  },
  {
   "cell_type": "code",
   "execution_count": null,
   "id": "06b855dd",
   "metadata": {},
   "outputs": [],
   "source": [
    "display(IMDB_title)"
   ]
  },
  {
   "cell_type": "code",
   "execution_count": null,
   "id": "db9dd51c",
   "metadata": {},
   "outputs": [],
   "source": [
    "# only choose the rows which correspond to data of a movie\n",
    "IMDB_title = IMDB_title[IMDB_title['titleType'] == 'movie'].copy(deep=True)\n",
    "\n",
    "#merge the dataset with the titles and the dataset with the ratings\n",
    "df_IMDB = IMDB_title.merge(IMDB_ratings, left_on='tconst', right_on='tconst')\n",
    "display(df_IMDB)"
   ]
  },
  {
   "cell_type": "markdown",
   "id": "2e550677",
   "metadata": {},
   "source": [
    "Let's check if there are aberrant values in the averageRating column, for example negative values or values higher than 10."
   ]
  },
  {
   "cell_type": "code",
   "execution_count": null,
   "id": "bd52e827",
   "metadata": {},
   "outputs": [],
   "source": [
    "df_IMDB.describe()"
   ]
  },
  {
   "cell_type": "markdown",
   "id": "74ae3a30",
   "metadata": {},
   "source": [
    "There are no aberrant values in the averageRating column."
   ]
  },
  {
   "cell_type": "markdown",
   "id": "d83b4071",
   "metadata": {},
   "source": [
    "### Calculate the average rating of each movie"
   ]
  },
  {
   "cell_type": "markdown",
   "id": "2fc676c4",
   "metadata": {},
   "source": [
    "We want to have the average rating of each movie. In df_IMDB, we have several ratings for each movies; indeed, the same movie (characterized by its 'orginialTitle') has a grade for each 'primaryTitle' used.\n",
    "In the calculation of the average rating per originalTitle, we will ponderate the rating per primaryTitle with the number of votes per primaryTitle.\n",
    "Then, we will calculate the average rating across all primaryTitle i for an originalTitle as :  \n",
    "$Average\\, Rating\\, of\\, originalTitle =\\frac{\\sum {average\\,rating\\,of\\,primaryTitle(i) \\times number\\,of\\,votes\\,of\\,primaryTitle(i)}} {\\sum{number\\,of\\,votes\\,of\\,primaryTitle(i)}}$"
   ]
  },
  {
   "cell_type": "code",
   "execution_count": null,
   "id": "72b1d1aa",
   "metadata": {},
   "outputs": [],
   "source": [
    "#create datasets of average ratings of a movie considering the ratings of movies with titles in different language\n",
    "\n",
    "\n",
    "#Calculate average_rating_language(i) * number_of_votes_language(i) (ponderate)\n",
    "df_IMDB['mult_ratings'] = df_IMDB['averageRating']*df_IMDB['numVotes']\n",
    "\n",
    "average_ratings = pd.DataFrame()\n",
    "average_ratings['sum_of_mult_ratings'] = df_IMDB[['originalTitle', 'mult_ratings']].groupby('originalTitle').sum()\n",
    "average_ratings['total_vote'] = df_IMDB[['originalTitle', 'numVotes']].groupby('originalTitle').sum()\n",
    "average_ratings['total_average_rating'] = average_ratings['sum_of_mult_ratings']/average_ratings['total_vote']\n",
    "\n",
    "average_ratings = average_ratings.reset_index(level=0)\n",
    "\n",
    "#Create a new dataframe with the movies primary titles, release years, and average ratings.\n",
    "ratings = df_IMDB.merge(average_ratings[['total_average_rating', 'originalTitle', 'total_vote']], how = 'left', on = 'originalTitle')\n",
    "ratings=ratings[['primaryTitle', 'startYear', 'total_average_rating', 'total_vote']]\n",
    "ratings=ratings.drop_duplicates(subset=['primaryTitle', 'startYear' ]).copy(deep=True)\n",
    "\n",
    "#Prepare the dataset to be merged with CMU movies.\n",
    "ratings= ratings.rename(columns = {\"primaryTitle\" : \"MovieName\", \"startYear\" : \"ReleaseYear\", \"total_average_rating\" : \"AverageRating\", \"total_vote\" : \"NumberofVotes\"})\n",
    "ratings[\"ReleaseYear\"]=pd.to_datetime(ratings[\"ReleaseYear\"], errors='coerce').dt.year\n",
    "\n",
    "display(ratings)"
   ]
  },
  {
   "cell_type": "markdown",
   "id": "07a5ad39",
   "metadata": {},
   "source": [
    "### Merge with the CMU movies dataset"
   ]
  },
  {
   "cell_type": "markdown",
   "id": "ff06cf4e",
   "metadata": {},
   "source": [
    "We populate our movies dataset with the available movie ratings. "
   ]
  },
  {
   "cell_type": "code",
   "execution_count": null,
   "id": "5195570a",
   "metadata": {},
   "outputs": [],
   "source": [
    "ratings = cmu.merge(ratings, on=[\"MovieName\", \"ReleaseYear\"], how='left' ).copy(deep=True)\n",
    "display(ratings)"
   ]
  },
  {
   "cell_type": "code",
   "execution_count": null,
   "id": "75a5ff1a",
   "metadata": {},
   "outputs": [],
   "source": [
    "print('Percentage of missing entries in the ratings dataset:\\n', 100*ratings[['AverageRating', 'NumberofVotes']].isna().sum() / len(ratings))"
   ]
  },
  {
   "cell_type": "markdown",
   "id": "c8823ba5",
   "metadata": {},
   "source": [
    "## PART 4: Oscars datasets <a id=\"part1.4\"></a>"
   ]
  },
  {
   "cell_type": "code",
   "execution_count": null,
   "id": "2666d778",
   "metadata": {},
   "outputs": [],
   "source": [
    "awards = pd.read_csv(AWARDS_PATH, names = ['ReleaseYear','CeremonyYear' ,'Ceremony','Category','NomineeName',\n",
    "                                                                      'MovieName','Winner'], skiprows=1)\n",
    "\n",
    "display(awards)"
   ]
  },
  {
   "cell_type": "code",
   "execution_count": null,
   "id": "c9dffa0f",
   "metadata": {},
   "outputs": [],
   "source": [
    "print('Percentage of missing entries in the awards dataset:\\n', 100*awards[['ReleaseYear', 'CeremonyYear', 'Ceremony', 'Category', 'NomineeName', 'MovieName', 'Winner']].isna().sum() / len(awards))"
   ]
  },
  {
   "cell_type": "markdown",
   "id": "8e59837c",
   "metadata": {},
   "source": [
    "We remove lines where we lack the nominee name and movie name"
   ]
  },
  {
   "cell_type": "code",
   "execution_count": null,
   "id": "0188cc1d",
   "metadata": {},
   "outputs": [],
   "source": [
    "awards = awards.drop(awards[awards['MovieName'].isnull()].index).copy(deep=True)\n",
    "awards = awards.drop(awards[awards['NomineeName'].isnull()].index).copy(deep=True)\n",
    "\n",
    "print(f'After filtering, we are left with {len(awards.index)} entries')"
   ]
  },
  {
   "cell_type": "code",
   "execution_count": null,
   "id": "f7408a56",
   "metadata": {},
   "outputs": [],
   "source": [
    "common_films = len(set(awards['MovieName']) & set(cmu['MovieName']))\n",
    "print('Percentage of common films between the awards and CMU movies compared to total CMU: ', 100*common_films/len(cmu['MovieName']))\n",
    "print('Percentage of common films between the awards and CMU movies compared to total awards: ',100*common_films/len(awards['MovieName']))"
   ]
  },
  {
   "cell_type": "markdown",
   "id": "f3801bfb",
   "metadata": {},
   "source": [
    "## PART 5: Bechdel dataset <a id=\"part1.5\"></a>"
   ]
  },
  {
   "cell_type": "code",
   "execution_count": null,
   "id": "2c63305c",
   "metadata": {},
   "outputs": [],
   "source": [
    "# Load bechdel data\n",
    "bechdel = pd.read_csv(BECHDEL_PATH, names=['MovieName', 'ReleaseYear', 'BechdelScore', 'Dubious', 'IMDB_ID','ID', 'SubmitterID', 'SumbissionDate', 'Visible'], skiprows=1)\n",
    "display(bechdel)"
   ]
  },
  {
   "cell_type": "markdown",
   "id": "2403fe9f",
   "metadata": {},
   "source": [
    "Description of the columns (found on https://www.kaggle.com/datasets/treelunar/bechdel-test-movies-as-of-feb-28-2023/)\n",
    "\n",
    "- MovieName: The name of the movie.\n",
    "- ReleaseYear: The release year of the movie.  \n",
    "- BechdelScore: The Bechdel Test Score attributed to the movie.  \n",
    "- Dubious: If the submitter considers the score is dubious.  \n",
    "- IMDB_ID: The movie ID in the IMDB database.  \n",
    "- ID: The movie ID in the bechdeltest.com website  \n",
    "- SubmitterID: The ID of the submitter on the bechdeltest.com website  \n",
    "- SubmissionDate: The date of submission on the bechdeltest.com website  \n",
    "- Visible: Has this movie been approved ? (Currently only approved movies are returned, so this value will always be 1)  \n"
   ]
  },
  {
   "cell_type": "code",
   "execution_count": null,
   "id": "18b4b80b",
   "metadata": {},
   "outputs": [],
   "source": [
    "bechdel.describe()"
   ]
  },
  {
   "cell_type": "code",
   "execution_count": null,
   "id": "c5e0df0c",
   "metadata": {},
   "outputs": [],
   "source": [
    "print('Percentage of missing entries in the bechdel dataset:\\n', 100*bechdel[['ReleaseYear', 'BechdelScore', 'Dubious', 'IMDB_ID', 'ID', 'SubmitterID', 'Visible']].isna().sum() / len(bechdel))"
   ]
  },
  {
   "cell_type": "markdown",
   "id": "eca1cc58",
   "metadata": {},
   "source": [
    "We don't care about the SubmitterID, the Visible, the IMDB_ID, the SubmissionDate and the ID columns. Moreover, we keep only movies where the score is not dubious."
   ]
  },
  {
   "cell_type": "code",
   "execution_count": null,
   "id": "e8ff863c",
   "metadata": {},
   "outputs": [],
   "source": [
    "dubious_count = bechdel['Dubious'].sum()\n",
    "dubious_na = bechdel['Dubious'].isna().sum()\n",
    "\n",
    "dubious_count = dubious_count + dubious_na\n",
    "print(f'{dubious_count} movies have a dubious score, which represents {dubious_count/len(bechdel.index)*100} percent of all movies in the dataset.')\n",
    "bechdel = bechdel.loc[bechdel['Dubious']==0].copy(deep=True)\n",
    "bechdel = bechdel[['ReleaseYear', 'MovieName', 'BechdelScore']].copy(deep=True)\n",
    "\n",
    "print(f'The filtered dataset contains {len(bechdel.index)} movies.')"
   ]
  },
  {
   "cell_type": "markdown",
   "id": "79e2dc83",
   "metadata": {},
   "source": [
    "In case we want to merge the bechdel and the cmu datasets, we need to format the movie names the same way. We choose to rewrite every movie name in lower case."
   ]
  },
  {
   "cell_type": "code",
   "execution_count": null,
   "id": "a0d0373e",
   "metadata": {},
   "outputs": [],
   "source": [
    "# Put all title in lower case\n",
    "bechdel['MovieName'] = bechdel['MovieName'].apply(lambda x: x.lower())\n",
    "cmu_bechdel = cmu.copy(deep=True)\n",
    "cmu_bechdel['MovieName'] = cmu_bechdel['MovieName'].apply(lambda x: x.lower())"
   ]
  },
  {
   "cell_type": "code",
   "execution_count": null,
   "id": "543d34bd",
   "metadata": {},
   "outputs": [],
   "source": [
    "common_films_bechdel = len(set(bechdel['MovieName']) & set(cmu_bechdel['MovieName']))\n",
    "print('Percentage of common films between the Bechdel and CMU movies compared to total CMU: ', 100*common_films/len(cmu_bechdel['MovieName']))\n",
    "print('Percentage of common films between the Bechdel and CMU movies compared to total Bechdel dataset: ',100*common_films/len(bechdel['MovieName']))"
   ]
  },
  {
   "cell_type": "markdown",
   "id": "e1510d56-3b79-42e2-a230-8a14c787e7fb",
   "metadata": {},
   "source": [
    "# STEP 2: DATA ANALYSIS <a id=\"Data-analysis\"></a>"
   ]
  },
  {
   "cell_type": "markdown",
   "id": "c052928f-f41b-4905-98f5-d0a2db9ec247",
   "metadata": {},
   "source": [
    "---"
   ]
  },
  {
   "cell_type": "markdown",
   "id": "b9cda833-a015-4141-ba10-c43496a1d41c",
   "metadata": {},
   "source": [
    "## PART 1: Quantitative analysis of gender inequalities in movies <a id=\"part2.1\"></a>"
   ]
  },
  {
   "cell_type": "markdown",
   "id": "65057770",
   "metadata": {},
   "source": [
    "We will start by analysing the main differences we can find between the representation of men and women in the movie industry."
   ]
  },
  {
   "cell_type": "markdown",
   "id": "182cae2b-0c10-4869-881a-871c18ad12a9",
   "metadata": {},
   "source": [
    "### AGE: IS THERE A DIFFERENCE ?"
   ]
  },
  {
   "cell_type": "markdown",
   "id": "c832d0e7-0ac9-4c9c-b387-fe03fabd1dfd",
   "metadata": {},
   "source": [
    "We often hear clichés about the evolution of beauty with age: women are described as blossoming in their youth, while men become more handsome with age. An intriguing question arises: does this perceived divergence in the aesthetics of aging manifest itself in the film industry, and if so, is this disparity statistically significant? \n",
    "\n",
    "Let's explore the data !"
   ]
  },
  {
   "cell_type": "code",
   "execution_count": null,
   "id": "80f32630-5105-45f9-abe6-c3b14fd50a92",
   "metadata": {
    "tags": []
   },
   "outputs": [],
   "source": [
    "# Set the plot style and color palette\n",
    "sns.set(style=\"darkgrid\", palette=\"Set2\")\n",
    "\n",
    "plt.figure(figsize=(8, 5))\n",
    "\n",
    "sns.boxplot(x='Gender', y='Age', data=cmu)\n",
    "plt.title('Distribution of Age between Male and Female', fontsize=15)\n",
    "\n",
    "plt.xlabel('Gender', fontsize=12)\n",
    "plt.ylabel('Age', fontsize=12)\n",
    "\n",
    "plt.show()"
   ]
  },
  {
   "cell_type": "code",
   "execution_count": null,
   "id": "6c30dd32-fa40-4e58-8bf3-05457e998153",
   "metadata": {
    "tags": []
   },
   "outputs": [],
   "source": [
    "women_cmu = cmu.loc[cmu['Gender']=='F'].copy(deep=True)\n",
    "men_cmu = cmu.loc[cmu['Gender']=='M'].copy(deep=True)"
   ]
  },
  {
   "cell_type": "code",
   "execution_count": null,
   "id": "f0548c63",
   "metadata": {},
   "outputs": [],
   "source": [
    "women_cmu.sample(2)"
   ]
  },
  {
   "cell_type": "code",
   "execution_count": null,
   "id": "480d5108-efbf-484c-b0a9-b583500a16dd",
   "metadata": {
    "tags": []
   },
   "outputs": [],
   "source": [
    "# T-test to determine if the difference in age between men and women is statistically significant \n",
    "stats.ttest_ind(women_cmu['Age'], men_cmu['Age'], nan_policy='omit')"
   ]
  },
  {
   "cell_type": "markdown",
   "id": "94d25b5e-af95-4bdf-96d7-752bf1180e23",
   "metadata": {},
   "source": [
    "We used a two-sided t-test for the null hypothesis that the age of actors and actresses have identical average (expected) values. The p-value is much smaller than 0.05, therefore we can reject the null hypothesis, meaning that there is a statistically significant difference in the average ages between the two groups. As the t-statistic is strongly negative (-104), it supports our conclusion that women are significantly younger than men."
   ]
  },
  {
   "cell_type": "markdown",
   "id": "349071a8-6a2f-4287-9770-24f1835a6d74",
   "metadata": {},
   "source": [
    "### Has this tendency evolved with years ?"
   ]
  },
  {
   "cell_type": "markdown",
   "id": "51e73a24",
   "metadata": {},
   "source": [
    "First, we check that we have at least 100 ages per year in the women and men datasets."
   ]
  },
  {
   "cell_type": "code",
   "execution_count": null,
   "id": "04e4fae0",
   "metadata": {},
   "outputs": [],
   "source": [
    "#Do we have enough information per year?\n",
    "women_count_age_per_year = women_cmu.groupby('ReleaseYear').agg({'Age': 'count'})\n",
    "men_count_age_per_year = men_cmu.groupby('ReleaseYear').agg({'Age': 'count'})\n",
    "\n",
    "fig, (ax1, ax2) = plt.subplots(1,2,figsize= (10,5))\n",
    "ax1.plot(women_count_age_per_year)\n",
    "ax1.plot([1888, 2020], [100, 100])\n",
    "ax1.set_xlabel('Release Year')\n",
    "ax1.set_ylabel('Count')\n",
    "ax1.set_title('Women age Count per year')\n",
    "\n",
    "ax2.plot(men_count_age_per_year)\n",
    "ax2.plot([1888, 2020], [100, 100])\n",
    "ax2.set_xlabel('Release Year')\n",
    "ax2.set_ylabel('Count')\n",
    "ax2.set_title('Men age Count per year')\n",
    "\n",
    "plt.show()"
   ]
  },
  {
   "cell_type": "code",
   "execution_count": null,
   "id": "12de90eb",
   "metadata": {},
   "outputs": [],
   "source": [
    "display(men_count_age_per_year)"
   ]
  },
  {
   "cell_type": "markdown",
   "id": "f306ec36",
   "metadata": {},
   "source": [
    "For the men we don't have enough data before 1928; thus we will do the analysis with movies released after 1927."
   ]
  },
  {
   "cell_type": "code",
   "execution_count": null,
   "id": "ec894c24-01a1-46a1-8004-8c4d1afcb5e9",
   "metadata": {
    "tags": []
   },
   "outputs": [],
   "source": [
    "# Calculate the average age of actors and actresses in movies across year\n",
    "women_mean_age_per_year = women_cmu.groupby('ReleaseYear').agg({'Age': 'mean'})\n",
    "men_mean_age_per_year = men_cmu.groupby('ReleaseYear').agg({'Age': 'mean'})\n",
    "\n",
    "# Calculate the 95% CIs\n",
    "women_std_age_per_year = women_cmu.groupby('ReleaseYear').agg({'Age': 'std'})\n",
    "men_std_age_per_year = men_cmu.groupby('ReleaseYear').agg({'Age': 'std'})\n",
    "\n",
    "z=1.96\n",
    "upper_bound_women = women_mean_age_per_year['Age'] + z*women_std_age_per_year['Age']/np.sqrt(women_cmu.groupby('ReleaseYear').agg({'Gender' : 'count'})['Gender'])\n",
    "lower_bound_women = women_mean_age_per_year['Age'] - z*women_std_age_per_year['Age']/np.sqrt(women_cmu.groupby('ReleaseYear').agg({'Gender' : 'count'})['Gender'])\n",
    "\n",
    "upper_bound_men = men_mean_age_per_year['Age'] + z*men_std_age_per_year['Age']/np.sqrt(men_cmu.groupby('ReleaseYear').agg({'Gender' : 'count'})['Gender'])\n",
    "lower_bound_men = men_mean_age_per_year['Age'] - z*men_std_age_per_year['Age']/np.sqrt(men_cmu.groupby('ReleaseYear').agg({'Gender' : 'count'})['Gender'])\n",
    "\n",
    "# Plot the evolution of mean age of men and women in movies\n",
    "fig, ax = plt.subplots(figsize=(10, 6))\n",
    "\n",
    "ax.plot(women_mean_age_per_year[1928:], label='F', color='green')\n",
    "ax.fill_between(women_mean_age_per_year[1928:].index, lower_bound_women[1928:], upper_bound_women[1928:], alpha =0.2, color='green', label = 'F 95% CI')\n",
    "\n",
    "ax.plot(men_mean_age_per_year[1928:], label='M', color='red')\n",
    "ax.fill_between(men_mean_age_per_year[1928:].index, lower_bound_men[1928:], upper_bound_men[1928:], alpha =0.2, color='red', label = 'M 95% CI')\n",
    "\n",
    "ax.set_ylim(10,47)\n",
    "ax.set_xlabel('Year')\n",
    "ax.set_ylabel('Age')\n",
    "ax.set_title('Evolution of mean age of men and women in movies')\n",
    "ax.legend()\n",
    "\n",
    "plt.show()"
   ]
  },
  {
   "cell_type": "markdown",
   "id": "bb70a894",
   "metadata": {},
   "source": [
    "### PROPORTION OF FEMALE CHARACTERS"
   ]
  },
  {
   "cell_type": "markdown",
   "id": "a146b534",
   "metadata": {},
   "source": [
    "We will explore the proportion of female characters in movies. Therefore, we first create a new dataframe containing the number and percentage of men and women per movie and the release year of the movie."
   ]
  },
  {
   "cell_type": "code",
   "execution_count": null,
   "id": "967e3ce5",
   "metadata": {},
   "outputs": [],
   "source": [
    "#Create the dataframe\n",
    "df_gender_proportion_by_movie=pd.DataFrame()\n",
    "\n",
    "#Add the number of male and female characters of each movie\n",
    "df_gender_proportion_by_movie['MaleCharacters'] = men_cmu.groupby('WikiMovieID')['Gender'].count()\n",
    "df_gender_proportion_by_movie['FemaleCharacters'] = women_cmu.groupby('WikiMovieID')['Gender'].count()\n",
    "\n",
    "#Add the total number of characters of each movie\n",
    "df_gender_proportion_by_movie['TotalNumberofCharacters'] = cmu.groupby('WikiMovieID')['Gender'].count()\n",
    "\n",
    "#Add the release year of each movie\n",
    "df_gender_proportion_by_movie = df_gender_proportion_by_movie.merge(cmu[['ReleaseYear', 'WikiMovieID']], how='left', left_index=True, right_on='WikiMovieID' )\n",
    "\n",
    "#Calculate the proportion of male and female characters per movie\n",
    "df_gender_proportion_by_movie['PercentageofFemale'] = df_gender_proportion_by_movie['FemaleCharacters'] / df_gender_proportion_by_movie['TotalNumberofCharacters'] * 100\n",
    "df_gender_proportion_by_movie['PercentageofMale'] = df_gender_proportion_by_movie['MaleCharacters'] / df_gender_proportion_by_movie['TotalNumberofCharacters'] * 100\n",
    "\n",
    "#Remove duplicated rows\n",
    "df_gender_proportion_by_movie =df_gender_proportion_by_movie.drop_duplicates(subset=['WikiMovieID']).copy(deep=True)"
   ]
  },
  {
   "cell_type": "markdown",
   "id": "1ee3391a",
   "metadata": {},
   "source": [
    "Now we can compare the distributions of the percentages of female and male characters per movie."
   ]
  },
  {
   "cell_type": "code",
   "execution_count": null,
   "id": "bcb82035",
   "metadata": {},
   "outputs": [],
   "source": [
    "#Plot\n",
    "fig, ax = plt.subplots(1, 3, figsize=(16,8), sharey=True)\n",
    "\n",
    "ax[0].hist(df_gender_proportion_by_movie['PercentageofFemale'], bins=50, label='F', alpha=0.4, color='green')\n",
    "ax[0].hist(df_gender_proportion_by_movie['PercentageofMale'], bins=50, label='M', alpha=0.4, color='red')\n",
    "ax[0].legend(loc='upper right', fontsize=14) \n",
    "\n",
    "ax[1].hist(df_gender_proportion_by_movie['PercentageofFemale'], bins=50, label='F', alpha=0.5, color='green')\n",
    "ax[1].legend(loc='upper right', fontsize=14) \n",
    "\n",
    "ax[2].hist(df_gender_proportion_by_movie['PercentageofMale'], bins=50, label='M', alpha=0.5, color='red')\n",
    "ax[2].legend(loc='upper right', fontsize=14) \n",
    "\n",
    "fig.supxlabel('Percentage of characters per movie', fontsize=16)\n",
    "fig.supylabel('Counts', va='center', rotation=90, fontsize=16)\n",
    "fig.suptitle('Histograms of the percentage of Female and Male characters per movie', fontsize=20)\n",
    "\n",
    "plt.tight_layout()\n",
    "\n",
    "plt.show()"
   ]
  },
  {
   "cell_type": "markdown",
   "id": "8d5a6aec",
   "metadata": {},
   "source": [
    "We can see that the female distirbution is centered around values inferior to 50%, while the men distribution is centered around values superior to 50%.\n",
    "We can test if the difference of mean percentage is significantly different at the 0.05 level."
   ]
  },
  {
   "cell_type": "code",
   "execution_count": null,
   "id": "c220e2b7",
   "metadata": {},
   "outputs": [],
   "source": [
    "# T-test to determine if the difference between the percentage of male and female character per movie is statistically significant. \n",
    "stats.ttest_ind(df_gender_proportion_by_movie['PercentageofFemale'], df_gender_proportion_by_movie['PercentageofMale'], nan_policy='omit')"
   ]
  },
  {
   "cell_type": "markdown",
   "id": "5a9a87b9",
   "metadata": {},
   "source": [
    "The p-value is smaller than 0.05, therefore the difference is statistically significant; the value of the t-test indicates that there are significantly less female than male characters per movie."
   ]
  },
  {
   "cell_type": "markdown",
   "id": "7cdebea7",
   "metadata": {},
   "source": [
    "Is this tendency constant across years?"
   ]
  },
  {
   "cell_type": "code",
   "execution_count": null,
   "id": "4d096c50",
   "metadata": {
    "tags": []
   },
   "outputs": [],
   "source": [
    "#Calculate the mean percentage of actors and actresses in movies across year\n",
    "percentage_of_women_by_movie = df_gender_proportion_by_movie.groupby('ReleaseYear').agg({'PercentageofFemale':'mean'})\n",
    "percentage_of_men_by_movie = df_gender_proportion_by_movie.groupby('ReleaseYear').agg({'PercentageofMale':'mean'})\n",
    "\n",
    "#Calculate the 95% CIs\n",
    "women_std_perc_per_year = df_gender_proportion_by_movie.groupby('ReleaseYear').agg({'PercentageofFemale':'std'})\n",
    "men_std_perc_per_year = df_gender_proportion_by_movie.groupby('ReleaseYear').agg({'PercentageofMale':'std'})\n",
    "\n",
    "z=1.96\n",
    "upper_bound_women = percentage_of_women_by_movie['PercentageofFemale'] + z*women_std_perc_per_year['PercentageofFemale']/np.sqrt(women_cmu.groupby('ReleaseYear').agg({'Gender': 'count'})['Gender'])\n",
    "lower_bound_women = percentage_of_women_by_movie['PercentageofFemale'] - z*women_std_perc_per_year['PercentageofFemale']/np.sqrt(women_cmu.groupby('ReleaseYear').agg({'Gender': 'count'})['Gender'])\n",
    "\n",
    "upper_bound_men = percentage_of_men_by_movie['PercentageofMale'] + z*men_std_perc_per_year['PercentageofMale']/np.sqrt(men_cmu.groupby('ReleaseYear').agg({'Gender': 'count'})['Gender'])\n",
    "lower_bound_men = percentage_of_men_by_movie['PercentageofMale'] - z*men_std_perc_per_year['PercentageofMale']/np.sqrt(men_cmu.groupby('ReleaseYear').agg({'Gender': 'count'})['Gender'])\n",
    "\n",
    "#Plot\n",
    "fig, ax = plt.subplots(figsize=(10, 6))\n",
    "\n",
    "ax.plot(percentage_of_women_by_movie, label='F', color='green')\n",
    "ax.fill_between(lower_bound_women.index, lower_bound_women, upper_bound_women, alpha =0.2, color='green', label = 'F 95% CI')\n",
    "\n",
    "ax.plot(percentage_of_men_by_movie, label='M', color='red')\n",
    "ax.fill_between(lower_bound_men.index, lower_bound_men, upper_bound_men, alpha =0.2, color='red', label = 'M 95% CI')\n",
    "\n",
    "#ax.set_ylim(0,101)\n",
    "ax.set_xlabel('Year')\n",
    "ax.set_ylabel('Percentage')\n",
    "ax.set_title('Evolution of mean percentage of male and female characters in movies')\n",
    "ax.legend()\n",
    "plt.show()"
   ]
  },
  {
   "cell_type": "markdown",
   "id": "9c41a5a7",
   "metadata": {},
   "source": [
    "The confidence intervals don't overlap: across years, there is always a significantly smaller percentage of female than male characters per movie."
   ]
  },
  {
   "cell_type": "markdown",
   "id": "5b84f2e5-fa8f-4d24-9c53-78c890d81ab4",
   "metadata": {},
   "source": [
    "### GENRE OF MOVIE: IS THERE A DIFFERENCE ?"
   ]
  },
  {
   "cell_type": "markdown",
   "id": "4aff2bda-ffea-46e9-97f3-49cec5a7bd0b",
   "metadata": {},
   "source": [
    "An often-repeated stereotype regarding women suggests that they are not inclined towards action, sports, or intellectual pursuits, but rather, their primary role is portrayed as being centered around romantic relationships. We aim to investigate whether this stereotype is reflected in the portrayal of women in movies from our dataset."
   ]
  },
  {
   "cell_type": "markdown",
   "id": "78ede132-5add-4ba1-b628-992c83a4809a",
   "metadata": {},
   "source": [
    "We will do our analysis only based on the 16 major genres of movie in the dataset. First, we need to determine what these 16 genres are."
   ]
  },
  {
   "cell_type": "code",
   "execution_count": null,
   "id": "ebd87c5e-c2c9-452f-a6d5-fd84268f2a7e",
   "metadata": {
    "tags": []
   },
   "outputs": [],
   "source": [
    "# Filter the cmu dataset to get only 1 row per movie. Otherwise, the genres are counted too many times\n",
    "cmu_without_duplicates = cmu.drop_duplicates(subset=['WikiMovieID'], keep='first')"
   ]
  },
  {
   "cell_type": "code",
   "execution_count": null,
   "id": "4562f9c3-6a97-4524-9c31-123a8a46329b",
   "metadata": {
    "tags": []
   },
   "outputs": [],
   "source": [
    "all_unique_genres = set()\n",
    "\n",
    "# Get all the movie genres\n",
    "cmu_without_duplicates['MovieGenre'].apply(lambda x: all_unique_genres.update(x.values()) if isinstance(x, dict) else None)\n",
    "\n",
    "# Initialize dictionary with keys and values set to 0\n",
    "genres_count = {genre: 0 for genre in all_unique_genres}\n",
    "\n",
    "# Count the occurence of each genre\n",
    "for row in cmu_without_duplicates['MovieGenre']:\n",
    "    for key, value in row.items():\n",
    "        genres_count[value]+=1\n",
    "        \n",
    "# Sort the dictionary by values in descending order\n",
    "genres_count = dict(sorted(genres_count.items(), key=lambda item: item[1], reverse=True))"
   ]
  },
  {
   "cell_type": "code",
   "execution_count": null,
   "id": "4a266536-80cb-4ec4-a594-89244949b1e9",
   "metadata": {
    "tags": []
   },
   "outputs": [],
   "source": [
    "plt.figure(figsize=(8, 4))\n",
    "\n",
    "# Keep the first 16 major genres\n",
    "major_16_genres = dict(islice(genres_count.items(), 16))\n",
    "\n",
    "x = np.arange(len(major_16_genres))\n",
    "\n",
    "plt.bar(x, major_16_genres.values())\n",
    "plt.xticks(x, major_16_genres.keys(), rotation='vertical')\n",
    "plt.title('16 Major Genres of Movies', fontsize=16)\n",
    "plt.ylabel('Number of movie for each genre')\n",
    "plt.show()"
   ]
  },
  {
   "cell_type": "markdown",
   "id": "42c7fbc1-6b10-41d8-8e6e-9900c2792c6f",
   "metadata": {},
   "source": [
    "For the analysis we consider that:\n",
    "- If a movie has several genres, we will keep the one that appears in the 16 major genres, and if several are in the 16 major genres, we keep the first one.\n",
    "- If none is in the 16 major genre, or if the genre is not given, then we drop the row"
   ]
  },
  {
   "cell_type": "code",
   "execution_count": null,
   "id": "9f0b327d-b618-478a-8e6c-1d1e87ca7943",
   "metadata": {
    "tags": []
   },
   "outputs": [],
   "source": [
    "# List of rows to drop \n",
    "rows_to_drop = []\n",
    "\n",
    "cmu_genre = cmu.copy()\n",
    "\n",
    "for index, row in cmu_genre.iterrows():\n",
    "    movie_genre = row['MovieGenre']\n",
    "    \n",
    "    # If there is one genre only, drop the row if not in the 16 major genre\n",
    "    if len(movie_genre) == 1 and list(movie_genre.values())[0] not in major_16_genres:\n",
    "        rows_to_drop.append(index)\n",
    "        \n",
    "    # If there is no genre, drop the corresponding row\n",
    "    elif not bool(movie_genre):\n",
    "        rows_to_drop.append(index)\n",
    "            \n",
    "    # If there are multiple genres        \n",
    "    else:\n",
    "        count = 0  # To keep the first value only\n",
    "        for key, value in movie_genre.items():\n",
    "            if value in major_16_genres:\n",
    "                if count == 0:\n",
    "                    value_to_keep = value\n",
    "                    key_to_keep = key\n",
    "                    count = 1\n",
    "                    break\n",
    "\n",
    "        if count == 0:  # If none of the genres is in the major_16_genres, drop the row\n",
    "            rows_to_drop.append(index)\n",
    "\n",
    "        if count == 1:\n",
    "            cmu_genre.at[index, 'MovieGenre'] = {key_to_keep: value_to_keep}\n",
    "\n",
    "# Create a new DataFrame with only the rows to keep\n",
    "cmu_genre = cmu_genre.drop(rows_to_drop)\n",
    "movie_counts = cmu_genre['WikiMovieID'].nunique()\n",
    "print(f'We are left with {movie_counts} movies')"
   ]
  },
  {
   "cell_type": "markdown",
   "id": "113fecce-4dfd-42b6-b3ef-55067f6aaaf7",
   "metadata": {},
   "source": [
    "To facilitate analysis, we replace the dictionary for the 'MovieGenre' column with a str:"
   ]
  },
  {
   "cell_type": "code",
   "execution_count": null,
   "id": "75c1b056-d323-4ddd-8889-b1063da5cb18",
   "metadata": {
    "tags": []
   },
   "outputs": [],
   "source": [
    "cmu_genre['MovieGenre'] = cmu_genre['MovieGenre'].apply(lambda x: list(x.values())[0])"
   ]
  },
  {
   "cell_type": "code",
   "execution_count": null,
   "id": "96d29c2a-8a15-4456-bdb1-b8da527ccdca",
   "metadata": {
    "tags": []
   },
   "outputs": [],
   "source": [
    "# Split the dataset in 2 according to actor gender\n",
    "women_with_genre = cmu_genre.loc[cmu_genre['Gender']=='F'].copy(deep=True)\n",
    "men_with_genre = cmu_genre.loc[cmu_genre['Gender']=='M'].copy(deep=True)"
   ]
  },
  {
   "cell_type": "code",
   "execution_count": null,
   "id": "7ae8164e-36d6-481c-b49c-34291a79ff7d",
   "metadata": {
    "tags": []
   },
   "outputs": [],
   "source": [
    "# Group by 'MovieGenre' and count the number of occurence\n",
    "women_genre_counts = women_with_genre.groupby('MovieGenre').size().reset_index(name='Women_Count')\n",
    "men_genre_counts = men_with_genre.groupby('MovieGenre').size().reset_index(name='Men_Count')\n",
    "\n",
    "# New dataframe with the counts\n",
    "genre_counts = women_genre_counts.merge(men_genre_counts, how='left', on='MovieGenre')\n",
    "\n",
    "# Compute the percentage of Women and Men per movie genre\n",
    "genre_counts['Percent_Women']=(genre_counts['Women_Count']/(genre_counts['Women_Count']+genre_counts['Men_Count']))*100\n",
    "genre_counts['Percent_Men']=(genre_counts['Men_Count']/(genre_counts['Women_Count']+genre_counts['Men_Count']))*100"
   ]
  },
  {
   "cell_type": "code",
   "execution_count": null,
   "id": "c9e4f4ba-273d-4f9d-bbc0-45acb397e1bb",
   "metadata": {
    "tags": []
   },
   "outputs": [],
   "source": [
    "genre_counts.sample(2)"
   ]
  },
  {
   "cell_type": "code",
   "execution_count": null,
   "id": "edadeafa-5472-4fba-98f6-afa3d1cd7f9c",
   "metadata": {
    "tags": []
   },
   "outputs": [],
   "source": [
    "# Plot the percentage of Women and Men per movie genre\n",
    "\n",
    "# Sort the DataFrame for better visualization\n",
    "genre_counts = genre_counts.sort_values(by='Percent_Men', ascending=True)\n",
    "\n",
    "fig, ax = plt.subplots(figsize=(10, 5))\n",
    "\n",
    "ax.bar(genre_counts['MovieGenre'], genre_counts['Percent_Men'], label='Men', alpha=0.9)\n",
    "ax.bar(genre_counts['MovieGenre'], genre_counts['Percent_Women'], bottom=genre_counts['Percent_Men'], label='Women', alpha=0.9)\n",
    "\n",
    "plt.xticks(rotation='vertical')\n",
    "ax.set_ylabel('Percentage')\n",
    "ax.set_title('Percentages of Women and Men by Movie Genre')\n",
    "ax.legend()\n",
    "\n",
    "plt.show()"
   ]
  },
  {
   "cell_type": "markdown",
   "id": "59e8c37b",
   "metadata": {},
   "source": [
    "Is there a difference in actors' ages between genres? "
   ]
  },
  {
   "cell_type": "code",
   "execution_count": null,
   "id": "2d545667",
   "metadata": {
    "tags": []
   },
   "outputs": [],
   "source": [
    "cmu_by_genre = cmu_genre.groupby('MovieGenre')\n",
    "\n",
    "fig, axes = plt.subplots(4,4,figsize= (16,16), sharey=True)\n",
    "\n",
    "for genre, ax in zip(cmu_by_genre.groups.keys(), axes.flat):\n",
    "    sns.set(style=\"darkgrid\", palette=\"Set2\")\n",
    "    \n",
    "    plot = sns.barplot(x='Gender', y='Age', data=cmu_by_genre.get_group(genre), ax=ax, order=['M', 'F'], errorbar=('ci',95))\n",
    "    plot.set_title(genre)\n",
    "    plot.set(ylabel=None)\n",
    "    plot.set(xlabel=None)\n",
    "    plot.set(ylim = (0,44))\n",
    "\n",
    "fig.supxlabel('Gender', fontsize=20)\n",
    "fig.supylabel('Mean Age', va='center', rotation=90, fontsize=20)\n",
    "fig.suptitle('Difference in mean age between actor and actress per genre of movie', fontsize=24)\n",
    "\n",
    "plt.tight_layout()\n",
    "\n",
    "plt.show()"
   ]
  },
  {
   "cell_type": "markdown",
   "id": "184592cb",
   "metadata": {},
   "source": [
    "Across all genres we observe a similar inequality in the average age of actors and actresses. Actresses are generally younger in all movie genres and the difference is significant when looking at the small 95 % confidence intervals"
   ]
  },
  {
   "cell_type": "markdown",
   "id": "479da9a8-a517-4fad-b803-3ef078d1233b",
   "metadata": {},
   "source": [
    "### What is the typical carrier of men and women ?"
   ]
  },
  {
   "cell_type": "code",
   "execution_count": null,
   "id": "0bc3456d-bf1d-4f75-bc97-c14df9f1b58c",
   "metadata": {
    "tags": []
   },
   "outputs": [],
   "source": [
    "movies_per_actress = women_cmu.groupby('ActorName').size().reset_index(name='number_of_movies')\n",
    "movies_per_actor = men_cmu.groupby('ActorName').size().reset_index(name='number_of_movies')"
   ]
  },
  {
   "cell_type": "code",
   "execution_count": null,
   "id": "5632c2f7-58f3-4cdf-8295-034c17ec5ec6",
   "metadata": {
    "tags": []
   },
   "outputs": [],
   "source": [
    "# Combine the two DataFrames into a single DataFrame\n",
    "movies_per_actor_and_actress = pd.concat([movies_per_actress.assign(gender='F'), \n",
    "                                          movies_per_actor.assign(gender='M')])\n",
    "\n",
    "plt.figure(figsize=(10, 6))\n",
    "sns.boxplot(x='gender', y='number_of_movies', data=movies_per_actor_and_actress, showfliers=False)\n",
    "plt.xlabel('Gender')\n",
    "plt.ylabel('Number of Movies')\n",
    "plt.title('Comparison of Number of Movies for Actors and Actresses')\n",
    "plt.show()"
   ]
  },
  {
   "cell_type": "markdown",
   "id": "934aed46-e6d3-42eb-8154-63f6089a4e98",
   "metadata": {},
   "source": [
    "## PART 2: Qualitative analysis of gender representation in movies <a id=\"part2.2\"></a>\n",
    "\n",
    "### What are the types of characters women interpret ? "
   ]
  },
  {
   "cell_type": "markdown",
   "id": "bc9d6910-13cb-4d74-965c-2b162b9567da",
   "metadata": {},
   "source": [
    "Let's uncover whether the common stereotypes about women align with the characters we observe on the screen.\n"
   ]
  },
  {
   "cell_type": "markdown",
   "id": "8e640033-e769-459e-a527-97d43a7651f7",
   "metadata": {},
   "source": [
    "For this analysis, we will use the tvtropes.clusters file"
   ]
  },
  {
   "cell_type": "code",
   "execution_count": null,
   "id": "f1d2537f-407a-4e42-bdf0-e43ad90c7529",
   "metadata": {
    "tags": []
   },
   "outputs": [],
   "source": [
    "with open(CHARACTER_TYPE_PATH, 'r') as file:\n",
    "    lines = file.readlines()\n",
    "    new_lines = []\n",
    "    \n",
    "    for line in lines:\n",
    "        char_type = line.split()[0]\n",
    "        char_type_dict = {'CharType': char_type}\n",
    "\n",
    "        space_index = line.find('\t')\n",
    "        char_info = ast.literal_eval(line[space_index+1:])\n",
    "        \n",
    "        new_line = {**char_type_dict, **char_info}\n",
    "        \n",
    "        new_lines.append(new_line)\n",
    "    \n",
    "\n",
    "# Evaluate each line and extract the column name and corresponding dictionary\n",
    "\n",
    "headers_names = ['CharType',\n",
    "                 'CharName',\n",
    "                 'MovieName',\n",
    "                 'FreebaseActorMapID',\n",
    "                 'ActorName']\n",
    "\n",
    "chartypes = pd.DataFrame(new_lines)\n",
    "chartypes.columns = headers_names\n",
    "chartypes.head()"
   ]
  },
  {
   "cell_type": "code",
   "execution_count": null,
   "id": "c22674f6-f20e-42f7-9bc4-031eea58fb10",
   "metadata": {
    "tags": []
   },
   "outputs": [],
   "source": [
    "chartype_cmu = cmu.merge(chartypes, how='right', on=['FreebaseActorMapID', 'MovieName'])\n",
    "chartype_women = chartype_cmu.loc[chartype_cmu['Gender']=='F'].copy(deep=True)\n",
    "chartype_men = chartype_cmu.loc[chartype_cmu['Gender']=='M'].copy(deep=True)"
   ]
  },
  {
   "cell_type": "code",
   "execution_count": null,
   "id": "0fff7a59-1f90-4457-a56d-ff069c1225ac",
   "metadata": {
    "tags": []
   },
   "outputs": [],
   "source": [
    "women_counts = chartype_women['CharType'].value_counts().head(5)\n",
    "men_counts = chartype_men['CharType'].value_counts().head(5)"
   ]
  },
  {
   "cell_type": "code",
   "execution_count": null,
   "id": "ce368e21-562d-40f7-a2fe-739b6888ccbd",
   "metadata": {
    "tags": []
   },
   "outputs": [],
   "source": [
    "# Create WordClouds for women and men\n",
    "women_wordcloud = WordCloud(width=800, height=400, background_color='white', colormap='Oranges').generate_from_frequencies(women_counts)\n",
    "men_wordcloud = WordCloud(width=800, height=400, background_color='white', colormap='Oranges').generate_from_frequencies(men_counts)\n",
    "\n",
    "# Plotting the WordClouds\n",
    "plt.figure(figsize=(12, 6))\n",
    "\n",
    "plt.subplot(1, 2, 1)\n",
    "plt.imshow(women_wordcloud, interpolation='bilinear')\n",
    "plt.title('Women Main Characters', color='black', fontsize=16)\n",
    "plt.axis('off')\n",
    "\n",
    "plt.subplot(1, 2, 2)\n",
    "plt.imshow(men_wordcloud, interpolation='bilinear')\n",
    "plt.title('Men Main Characters', color='black', fontsize=16)\n",
    "plt.axis('off')\n",
    "\n",
    "plt.show()"
   ]
  },
  {
   "cell_type": "markdown",
   "id": "e5ad7ec6",
   "metadata": {},
   "source": [
    "## PART 3: Analysis of the reception of movies by the public <a id=\"part2.3\"></a>\n",
    "\n",
    "### Is there a difference in revenue and popularity between female-dominated and male-dominated films?"
   ]
  },
  {
   "cell_type": "markdown",
   "id": "876d0835",
   "metadata": {},
   "source": [
    "We want to analyse whether the success of a movie is correlated with the proportion of women in a movie. To to this we will take the Box Office Revenue as a measure of success, as well as the IMDb ratings given around the world to each movie."
   ]
  },
  {
   "cell_type": "markdown",
   "id": "ac1d297c",
   "metadata": {},
   "source": [
    "### Looking at the ratings"
   ]
  },
  {
   "cell_type": "code",
   "execution_count": null,
   "id": "342070cb",
   "metadata": {
    "tags": []
   },
   "outputs": [],
   "source": [
    "# We're interested only in movies for which we have information on gender distribution, so we perform a right join\n",
    "ratings_gender = pd.merge(ratings, df_gender_proportion_by_movie, on='WikiMovieID', how='right')\n",
    "\n",
    "# Sort the values according to Percentage of Female \n",
    "ratings_gender.sort_values(by='PercentageofFemale', inplace=True)\n",
    "\n",
    "plt.figure(figsize=(10,5))\n",
    "\n",
    "sns.regplot(x=ratings_gender['PercentageofFemale'], y=ratings_gender['AverageRating'], ci=95, scatter_kws={'color': 'blue', 's': 2, 'alpha': 0.5}, line_kws={'color': 'red'})\n",
    "\n",
    "plt.ylabel('Average IMDb Rating')\n",
    "plt.xlabel('Percentage of actresses in a movie')\n",
    "\n",
    "plt.title('Correlation Between IMDb Average Rating and Proportion of Actresses in Movies')\n",
    "\n",
    "plt.show()"
   ]
  },
  {
   "cell_type": "markdown",
   "id": "c14be2a8",
   "metadata": {},
   "source": [
    "We do a linear regression to see the correlation between the percentage of women in movies and the rating given on IMDb. This shows us that there is a slight negative correlation, meaning that movies with a higher percentage of women tend to have a slightly worse rating. We need to check this with other statistical metrics. "
   ]
  },
  {
   "cell_type": "markdown",
   "id": "631f1484",
   "metadata": {},
   "source": [
    "### Looking at the Box office revenue"
   ]
  },
  {
   "cell_type": "markdown",
   "id": "673849de",
   "metadata": {},
   "source": [
    "Aside from how a movie has been rated on IMDb, it is also interesting to look at its comercial success. This gives another insight on how the movie was globally percieved and if it impacted a lot of people or not. Therefore we are now looking at the boxoffice revenue of movies where we have the information from the original CMU data set. "
   ]
  },
  {
   "cell_type": "code",
   "execution_count": null,
   "id": "b44cea3c",
   "metadata": {
    "tags": []
   },
   "outputs": [],
   "source": [
    "# Remove movies where we don't have the Box Office Revenue.\n",
    "BO_ratings = ratings_gender.dropna(subset = 'BORevenue')\n",
    "\n",
    "# Sort the values according to Percentage of Female \n",
    "BO_ratings.sort_values(by='PercentageofFemale', inplace=True)\n",
    "\n",
    "plt.figure(figsize=(10,5))\n",
    "\n",
    "sns.regplot(x=BO_ratings['PercentageofFemale'], y=BO_ratings['BORevenue'], ci=95, scatter_kws={'color': 'blue', 's': 2, 'alpha': 0.5}, line_kws={'color': 'red'})\n",
    "\n",
    "plt.yscale(\"log\")\n",
    "plt.ylabel('Box Office Revenue')\n",
    "plt.xlabel('Percentage of actresses in a movie')\n",
    "\n",
    "plt.title('Correlation Between Box Office Revenue and Proportion of Actresses in Movies')\n",
    "\n",
    "plt.show()"
   ]
  },
  {
   "cell_type": "markdown",
   "id": "06df9a85",
   "metadata": {},
   "source": [
    "We do a linear regression to see the correlation between the percentage of women in movies and the Box Office Revenue. This shows us that there is a negative correlation, meaning that movies with a higher percentage of women tend to have a lower Box Office Revenue. We need to check this with other statistical metrics. "
   ]
  },
  {
   "cell_type": "markdown",
   "id": "ae4ae2de-5a44-4cdd-8e66-69f3dde74ee3",
   "metadata": {},
   "source": [
    "## PART 4: Analysis by geographical production region <a id=\"part2.4\"></a>"
   ]
  },
  {
   "cell_type": "markdown",
   "id": "898b69ed-c8d1-4784-ad5a-91e9c23f8309",
   "metadata": {
    "tags": []
   },
   "source": [
    "### Do we have enough movies per continent ?"
   ]
  },
  {
   "cell_type": "code",
   "execution_count": null,
   "id": "4c8f5c2c-1b61-4c63-886f-ca4563fc06cb",
   "metadata": {},
   "outputs": [],
   "source": [
    "# Keep only 1 row per movie to count the number of movies per continent\n",
    "cmu_countries_filtered = cmu_geo.drop_duplicates(subset=['MovieName', 'ReleaseYear', 'Continent'])\n",
    "counts_per_continent = cmu_countries_filtered.groupby('Continent').size()"
   ]
  },
  {
   "cell_type": "code",
   "execution_count": null,
   "id": "15164bfe-ce2a-4cf9-b2f3-b624aba50252",
   "metadata": {
    "tags": []
   },
   "outputs": [],
   "source": [
    "plt.figure(figsize=(8, 4))\n",
    "counts_per_continent.plot(kind='bar')\n",
    "\n",
    "plt.xlabel('Continents')\n",
    "plt.ylabel('Number of movies')\n",
    "plt.title('Number of movies per continent')\n",
    "\n",
    "plt.show()"
   ]
  }
 ],
 "metadata": {
  "kernelspec": {
   "display_name": "Python [conda env:ada] *",
   "language": "python",
   "name": "conda-env-ada-py"
  },
  "language_info": {
   "codemirror_mode": {
    "name": "ipython",
    "version": 3
   },
   "file_extension": ".py",
   "mimetype": "text/x-python",
   "name": "python",
   "nbconvert_exporter": "python",
   "pygments_lexer": "ipython3",
   "version": "3.9.18"
  }
 },
 "nbformat": 4,
 "nbformat_minor": 5
}
