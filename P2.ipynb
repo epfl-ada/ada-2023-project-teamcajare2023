{
 "cells": [
  {
   "cell_type": "markdown",
   "id": "48673693-597b-4585-aa9d-dc701a264acd",
   "metadata": {},
   "source": [
    "# The representation of women in the movie industry around the world"
   ]
  },
  {
   "cell_type": "code",
   "execution_count": 1,
   "id": "ac33916a-a4d3-4537-a8b6-ff2ca6f347eb",
   "metadata": {
    "tags": []
   },
   "outputs": [
    {
     "name": "stdout",
     "output_type": "stream",
     "text": [
      "Intel MKL WARNING: Support of Intel(R) Streaming SIMD Extensions 4.2 (Intel(R) SSE4.2) enabled only processors has been deprecated. Intel oneAPI Math Kernel Library 2025.0 will require Intel(R) Advanced Vector Extensions (Intel(R) AVX) instructions.\n",
      "Intel MKL WARNING: Support of Intel(R) Streaming SIMD Extensions 4.2 (Intel(R) SSE4.2) enabled only processors has been deprecated. Intel oneAPI Math Kernel Library 2025.0 will require Intel(R) Advanced Vector Extensions (Intel(R) AVX) instructions.\n"
     ]
    },
    {
     "name": "stderr",
     "output_type": "stream",
     "text": [
      "/opt/anaconda3/envs/ada/lib/python3.9/site-packages/tqdm/auto.py:21: TqdmWarning: IProgress not found. Please update jupyter and ipywidgets. See https://ipywidgets.readthedocs.io/en/stable/user_install.html\n",
      "  from .autonotebook import tqdm as notebook_tqdm\n"
     ]
    }
   ],
   "source": [
    "import pandas as pd\n",
    "import numpy as np\n",
    "import matplotlib.pyplot as plt\n",
    "import seaborn as sns\n",
    "import ast\n",
    "import os\n",
    "import pycountry\n",
    "import pycountry_convert as pc\n",
    "import swifter\n",
    "\n",
    "from functools import lru_cache\n",
    "from scipy import stats\n",
    "from itertools import islice\n",
    "from wordcloud import WordCloud\n",
    "from sklearn.linear_model import LinearRegression\n",
    "\n",
    "from helpers_corenlp import *"
   ]
  },
  {
   "cell_type": "code",
   "execution_count": 2,
   "metadata": {},
   "outputs": [],
   "source": [
    "from functions import percent_missing_strdict"
   ]
  },
  {
   "cell_type": "markdown",
   "id": "57898d1d",
   "metadata": {},
   "source": [
    "**Table of content**\n",
    "\n",
    "1. [Data pre-processing](#Data-pre-processing)\n",
    "    - [Part 1: CMU Movie Summary](#part1)\n",
    "    - [Part 2: CoreNLP parsed movie summaries dataset](#part1.2)\n",
    "    - [Part 3: IMDB Datasets](#part1.3)\n",
    "    - [Part 4: Oscars Dataset](#part1.4)\n",
    "    - [Part 5: Bechdel Dataset](#part1.5)\n",
    "2. [Data Analysis](#Data-analysis)\n",
    "    - [Part 1: Quantitative analysis of gender inequalities in movies](#part2.1)\n",
    "    - [Part 2: Qualititative analysis of gender representation in movies](#part2.2)\n",
    "    - [Part 3: Analysis of the reception of movies by the public](#part2.3)\n",
    "    - [Part 4:  Analysis by geographical production region](#part2.4)"
   ]
  },
  {
   "cell_type": "markdown",
   "id": "e1e64a34",
   "metadata": {},
   "source": [
    "## STEP 1: DATA PRE-PROCESSING <a class=\"anchor\" id=\"Data-pre-processing\"></a>"
   ]
  },
  {
   "cell_type": "markdown",
   "id": "67210351",
   "metadata": {},
   "source": [
    "---"
   ]
  },
  {
   "cell_type": "code",
   "execution_count": 44,
   "id": "16db3d70-0bfa-49d2-8e46-227fba1998c2",
   "metadata": {
    "tags": []
   },
   "outputs": [],
   "source": [
    "current_directory = os.getcwd()\n",
    "\n",
    "DATA_PATH = os.path.join(current_directory, 'MovieSummaries')\n",
    "MOVIE_PATH = os.path.join(DATA_PATH, 'movie.metadata.tsv')\n",
    "CHARACTER_PATH = os.path.join(DATA_PATH, 'character.metadata.tsv')\n",
    "CHARACTER_TYPE_PATH = os.path.join(DATA_PATH, 'tvtropes.clusters.txt')\n",
    "RATINGS_PATH = os.path.join(current_directory, 'Ratings_PreProcessed.tsv')\n",
    "\n",
    "CORE_NLP_PATH = os.path.join(current_directory, 'corenlp')\n",
    "CORE_NLP_GZ = CORE_NLP_PATH + \"/corenlp_plot_summaries\"\n",
    "CORE_NLP_XML = CORE_NLP_PATH + \"/corenlp_plot_summaries_xml\"\n",
    "\n",
    "IMDB_PATH = os.path.join(current_directory, 'IMDB')\n",
    "IMDB_BASICS_PATH = IMDB_PATH + \"/title.basics.tsv\"\n",
    "IMDB_RATINGS_PATH = IMDB_PATH + \"/title.ratings.tsv\"\n",
    "\n",
    "BECHDEL_PATH = os.path.join(current_directory, 'bechdel_movies_2023_FEB.csv')\n",
    "\n",
    "AWARDS_PATH = os.path.join(current_directory, 'the_oscar_award.csv')"
   ]
  },
  {
   "cell_type": "markdown",
   "metadata": {},
   "source": [
    "## PART 1: CMU Movie Summary <a id=\"part1\"></a>"
   ]
  },
  {
   "cell_type": "markdown",
   "id": "ad5dd7d7-6bfd-434d-be6f-597e834790fc",
   "metadata": {},
   "source": [
    "We will use the files movies.metadata.tsv and characters.metadata.tsv ."
   ]
  },
  {
   "cell_type": "code",
   "execution_count": 4,
   "id": "d9fcf8ad-b520-428a-9120-b86f46636730",
   "metadata": {
    "tags": []
   },
   "outputs": [],
   "source": [
    "# Load the datasets\n",
    "headers_movies = ['WikiMovieID', \n",
    "                  'FreebaseMovieID', \n",
    "                  'MovieName', \n",
    "                  'ReleaseDate', \n",
    "                  'BORevenue', \n",
    "                  'Runtime',\n",
    "                  'Languages', \n",
    "                  'Countries', \n",
    "                  'MovieGenre']\n",
    "\n",
    "headers_characters = ['WikiMovieID', \n",
    "                      'FreebaseMovieID', \n",
    "                      'ReleaseDate', \n",
    "                      'CharacterName', \n",
    "                      'DoB', \n",
    "                      'Gender', \n",
    "                      'Height', \n",
    "                      'Ethnicity', \n",
    "                      'ActorName', \n",
    "                      'Age', \n",
    "                      'FreebaseActorMapID', \n",
    "                      'FreebaseCharacterID', \n",
    "                      'FreebaseActorID']\n",
    "\n",
    "movies = pd.read_csv(MOVIE_PATH, sep='\\t', names=headers_movies)\n",
    "characters = pd.read_csv(CHARACTER_PATH, sep='\\t', names=headers_characters)"
   ]
  },
  {
   "cell_type": "code",
   "execution_count": 5,
   "metadata": {},
   "outputs": [
    {
     "name": "stdout",
     "output_type": "stream",
     "text": [
      "The movie dataset contains 81741 movies\n"
     ]
    },
    {
     "data": {
      "text/html": [
       "<div>\n",
       "<style scoped>\n",
       "    .dataframe tbody tr th:only-of-type {\n",
       "        vertical-align: middle;\n",
       "    }\n",
       "\n",
       "    .dataframe tbody tr th {\n",
       "        vertical-align: top;\n",
       "    }\n",
       "\n",
       "    .dataframe thead th {\n",
       "        text-align: right;\n",
       "    }\n",
       "</style>\n",
       "<table border=\"1\" class=\"dataframe\">\n",
       "  <thead>\n",
       "    <tr style=\"text-align: right;\">\n",
       "      <th></th>\n",
       "      <th>WikiMovieID</th>\n",
       "      <th>FreebaseMovieID</th>\n",
       "      <th>MovieName</th>\n",
       "      <th>ReleaseDate</th>\n",
       "      <th>BORevenue</th>\n",
       "      <th>Runtime</th>\n",
       "      <th>Languages</th>\n",
       "      <th>Countries</th>\n",
       "      <th>MovieGenre</th>\n",
       "    </tr>\n",
       "  </thead>\n",
       "  <tbody>\n",
       "    <tr>\n",
       "      <th>55216</th>\n",
       "      <td>551619</td>\n",
       "      <td>/m/0bg1bn</td>\n",
       "      <td>Gospel of John</td>\n",
       "      <td>2003</td>\n",
       "      <td>NaN</td>\n",
       "      <td>180.0</td>\n",
       "      <td>{\"/m/02h40lc\": \"English Language\"}</td>\n",
       "      <td>{\"/m/0d060g\": \"Canada\", \"/m/07ssc\": \"United Ki...</td>\n",
       "      <td>{\"/m/04p5fxn\": \"Christian film\", \"/m/06l3bl\": ...</td>\n",
       "    </tr>\n",
       "    <tr>\n",
       "      <th>21459</th>\n",
       "      <td>26652800</td>\n",
       "      <td>/m/0bh8wt9</td>\n",
       "      <td>Katha Parayum Theruvoram</td>\n",
       "      <td>2009</td>\n",
       "      <td>NaN</td>\n",
       "      <td>NaN</td>\n",
       "      <td>{\"/m/0999q\": \"Malayalam Language\"}</td>\n",
       "      <td>{\"/m/03rk0\": \"India\"}</td>\n",
       "      <td>{\"/m/07s9rl0\": \"Drama\"}</td>\n",
       "    </tr>\n",
       "    <tr>\n",
       "      <th>9468</th>\n",
       "      <td>4429283</td>\n",
       "      <td>/m/0c1w4s</td>\n",
       "      <td>Hondo</td>\n",
       "      <td>1953-11-27</td>\n",
       "      <td>4100000.0</td>\n",
       "      <td>83.0</td>\n",
       "      <td>{\"/m/02h40lc\": \"English Language\"}</td>\n",
       "      <td>{\"/m/09c7w0\": \"United States of America\"}</td>\n",
       "      <td>{\"/m/03btsm8\": \"Action/Adventure\", \"/m/0hfjk\":...</td>\n",
       "    </tr>\n",
       "  </tbody>\n",
       "</table>\n",
       "</div>"
      ],
      "text/plain": [
       "       WikiMovieID FreebaseMovieID                 MovieName ReleaseDate  \\\n",
       "55216       551619       /m/0bg1bn            Gospel of John        2003   \n",
       "21459     26652800      /m/0bh8wt9  Katha Parayum Theruvoram        2009   \n",
       "9468       4429283       /m/0c1w4s                     Hondo  1953-11-27   \n",
       "\n",
       "       BORevenue  Runtime                           Languages  \\\n",
       "55216        NaN    180.0  {\"/m/02h40lc\": \"English Language\"}   \n",
       "21459        NaN      NaN  {\"/m/0999q\": \"Malayalam Language\"}   \n",
       "9468   4100000.0     83.0  {\"/m/02h40lc\": \"English Language\"}   \n",
       "\n",
       "                                               Countries  \\\n",
       "55216  {\"/m/0d060g\": \"Canada\", \"/m/07ssc\": \"United Ki...   \n",
       "21459                              {\"/m/03rk0\": \"India\"}   \n",
       "9468           {\"/m/09c7w0\": \"United States of America\"}   \n",
       "\n",
       "                                              MovieGenre  \n",
       "55216  {\"/m/04p5fxn\": \"Christian film\", \"/m/06l3bl\": ...  \n",
       "21459                            {\"/m/07s9rl0\": \"Drama\"}  \n",
       "9468   {\"/m/03btsm8\": \"Action/Adventure\", \"/m/0hfjk\":...  "
      ]
     },
     "execution_count": 5,
     "metadata": {},
     "output_type": "execute_result"
    }
   ],
   "source": [
    "nb_movie = movies['WikiMovieID'].nunique()\n",
    "print(f'The movie dataset contains {nb_movie} movies')\n",
    "movies.sample(3)"
   ]
  },
  {
   "cell_type": "code",
   "execution_count": 6,
   "metadata": {},
   "outputs": [
    {
     "name": "stdout",
     "output_type": "stream",
     "text": [
      "The characters dataset contains 450669 characters\n",
      "Percentage of missing entries in the character.metadata dataset:\n",
      " FreebaseMovieID         0.000000\n",
      "ReleaseDate             2.217814\n",
      "CharacterName          57.220488\n",
      "DoB                    23.552763\n",
      "Gender                 10.120288\n",
      "Height                 65.645740\n",
      "Ethnicity              76.466542\n",
      "ActorName               0.272484\n",
      "Age                    35.084064\n",
      "FreebaseCharacterID    57.218269\n",
      "FreebaseActorID         0.180842\n",
      "dtype: float64\n"
     ]
    },
    {
     "data": {
      "text/html": [
       "<div>\n",
       "<style scoped>\n",
       "    .dataframe tbody tr th:only-of-type {\n",
       "        vertical-align: middle;\n",
       "    }\n",
       "\n",
       "    .dataframe tbody tr th {\n",
       "        vertical-align: top;\n",
       "    }\n",
       "\n",
       "    .dataframe thead th {\n",
       "        text-align: right;\n",
       "    }\n",
       "</style>\n",
       "<table border=\"1\" class=\"dataframe\">\n",
       "  <thead>\n",
       "    <tr style=\"text-align: right;\">\n",
       "      <th></th>\n",
       "      <th>WikiMovieID</th>\n",
       "      <th>FreebaseMovieID</th>\n",
       "      <th>ReleaseDate</th>\n",
       "      <th>CharacterName</th>\n",
       "      <th>DoB</th>\n",
       "      <th>Gender</th>\n",
       "      <th>Height</th>\n",
       "      <th>Ethnicity</th>\n",
       "      <th>ActorName</th>\n",
       "      <th>Age</th>\n",
       "      <th>FreebaseActorMapID</th>\n",
       "      <th>FreebaseCharacterID</th>\n",
       "      <th>FreebaseActorID</th>\n",
       "    </tr>\n",
       "  </thead>\n",
       "  <tbody>\n",
       "    <tr>\n",
       "      <th>137410</th>\n",
       "      <td>20959511</td>\n",
       "      <td>/m/05b38q1</td>\n",
       "      <td>2010</td>\n",
       "      <td>Skippy Pylon</td>\n",
       "      <td>1968-07-24</td>\n",
       "      <td>F</td>\n",
       "      <td>1.5</td>\n",
       "      <td>/m/0dbxy</td>\n",
       "      <td>Kristin Chenoweth</td>\n",
       "      <td>41.0</td>\n",
       "      <td>/m/03kykpv</td>\n",
       "      <td>/m/0gxnxcl</td>\n",
       "      <td>/m/047c9l</td>\n",
       "    </tr>\n",
       "    <tr>\n",
       "      <th>218173</th>\n",
       "      <td>27053354</td>\n",
       "      <td>/m/0bs6s4s</td>\n",
       "      <td>2010-09-22</td>\n",
       "      <td>Rabier</td>\n",
       "      <td>1989-09-23</td>\n",
       "      <td>M</td>\n",
       "      <td>NaN</td>\n",
       "      <td>NaN</td>\n",
       "      <td>Arthur Mazet</td>\n",
       "      <td>20.0</td>\n",
       "      <td>/m/0bv9r5n</td>\n",
       "      <td>/m/0bv9r7p</td>\n",
       "      <td>/m/0bv9r4v</td>\n",
       "    </tr>\n",
       "    <tr>\n",
       "      <th>255513</th>\n",
       "      <td>171550</td>\n",
       "      <td>/m/0170w2</td>\n",
       "      <td>1997-06-13</td>\n",
       "      <td>Ferris Dooley</td>\n",
       "      <td>1971-12-30</td>\n",
       "      <td>M</td>\n",
       "      <td>NaN</td>\n",
       "      <td>NaN</td>\n",
       "      <td>Dewey Weber</td>\n",
       "      <td>25.0</td>\n",
       "      <td>/m/0cc3522</td>\n",
       "      <td>/m/0cc3525</td>\n",
       "      <td>/m/0cc352d</td>\n",
       "    </tr>\n",
       "  </tbody>\n",
       "</table>\n",
       "</div>"
      ],
      "text/plain": [
       "        WikiMovieID FreebaseMovieID ReleaseDate  CharacterName         DoB  \\\n",
       "137410     20959511      /m/05b38q1        2010   Skippy Pylon  1968-07-24   \n",
       "218173     27053354      /m/0bs6s4s  2010-09-22         Rabier  1989-09-23   \n",
       "255513       171550       /m/0170w2  1997-06-13  Ferris Dooley  1971-12-30   \n",
       "\n",
       "       Gender  Height Ethnicity          ActorName   Age FreebaseActorMapID  \\\n",
       "137410      F     1.5  /m/0dbxy  Kristin Chenoweth  41.0         /m/03kykpv   \n",
       "218173      M     NaN       NaN       Arthur Mazet  20.0         /m/0bv9r5n   \n",
       "255513      M     NaN       NaN        Dewey Weber  25.0         /m/0cc3522   \n",
       "\n",
       "       FreebaseCharacterID FreebaseActorID  \n",
       "137410          /m/0gxnxcl       /m/047c9l  \n",
       "218173          /m/0bv9r7p      /m/0bv9r4v  \n",
       "255513          /m/0cc3525      /m/0cc352d  "
      ]
     },
     "execution_count": 6,
     "metadata": {},
     "output_type": "execute_result"
    }
   ],
   "source": [
    "nb_char = len(characters.index)\n",
    "print(f'The characters dataset contains {nb_char} characters')\n",
    "print('Percentage of missing entries in the character.metadata dataset:\\n', 100*characters[['FreebaseMovieID', 'ReleaseDate', 'CharacterName',\n",
    "                                                                                   'DoB', 'Gender', 'Height', 'Ethnicity',\n",
    "                                                                                   'ActorName', 'Age', 'FreebaseCharacterID',\n",
    "                                                                                   'FreebaseActorID']].isna().sum() / len(characters))\n",
    "characters.sample(3)"
   ]
  },
  {
   "cell_type": "markdown",
   "metadata": {},
   "source": [
    "##### Gender"
   ]
  },
  {
   "cell_type": "markdown",
   "metadata": {},
   "source": [
    "Our project focuses on differences between gender representations in movies; thus we keep only movies & characters where we have information about the characters' gender."
   ]
  },
  {
   "cell_type": "code",
   "execution_count": 7,
   "metadata": {},
   "outputs": [
    {
     "name": "stdout",
     "output_type": "stream",
     "text": [
      "Percentage of missing gender entries in the character dataset:\n",
      " Gender    10.120288\n",
      "dtype: float64\n",
      "The character dataset contains 405060 characters after filtering on the characters gender\n"
     ]
    }
   ],
   "source": [
    "from functions import convert_date\n",
    "\n",
    "print('Percentage of missing gender entries in the character dataset:\\n', 100*characters[['Gender']].isna().sum() / len(characters))\n",
    "# Keep only the rows for which we have the gender of the actor/actress\n",
    "characters = characters.loc[characters['Gender'].isin(['F', 'M'])].copy(deep=True)\n",
    "print(f'The character dataset contains {len(characters.index)} characters after filtering on the characters gender')"
   ]
  },
  {
   "cell_type": "markdown",
   "metadata": {},
   "source": [
    "##### Release date"
   ]
  },
  {
   "cell_type": "code",
   "execution_count": 8,
   "metadata": {},
   "outputs": [],
   "source": [
    "# The movie 'Hunting Season' has an incorrect data: 1010 instead of 2010\n",
    "characters['ReleaseDate'] = characters['ReleaseDate'].replace('1010-12-02', '2010-12-02')\n",
    "movies['ReleaseDate'] = movies['ReleaseDate'].replace('1010-12-02', '2010-12-02')\n",
    "\n",
    "# Convert the date in the column 'ReleaseDate' into datetime\n",
    "characters_ReleaseDate_datatime = characters['ReleaseDate'].apply(convert_date)\n",
    "movies_ReleaseDate_datatime = movies['ReleaseDate'].apply(convert_date)\n",
    "\n",
    "# Add a column with the year of release only\n",
    "characters['ReleaseYear'] = characters_ReleaseDate_datatime.dt.year.fillna(0).astype(int)\n",
    "characters['ReleaseYear'] = characters['ReleaseYear'].astype('int64')\n",
    "characters['ReleaseYear'].replace(0, np.nan, inplace=True)\n",
    "\n",
    "movies['ReleaseYear'] = movies_ReleaseDate_datatime.dt.year.fillna(0).astype(int)\n",
    "movies['ReleaseYear'] = movies['ReleaseYear'].astype('int64')\n",
    "movies['ReleaseYear'].replace(0, np.nan, inplace=True)"
   ]
  },
  {
   "cell_type": "code",
   "execution_count": 9,
   "metadata": {},
   "outputs": [
    {
     "data": {
      "text/html": [
       "<div>\n",
       "<style scoped>\n",
       "    .dataframe tbody tr th:only-of-type {\n",
       "        vertical-align: middle;\n",
       "    }\n",
       "\n",
       "    .dataframe tbody tr th {\n",
       "        vertical-align: top;\n",
       "    }\n",
       "\n",
       "    .dataframe thead th {\n",
       "        text-align: right;\n",
       "    }\n",
       "</style>\n",
       "<table border=\"1\" class=\"dataframe\">\n",
       "  <thead>\n",
       "    <tr style=\"text-align: right;\">\n",
       "      <th></th>\n",
       "      <th>WikiMovieID</th>\n",
       "      <th>FreebaseMovieID</th>\n",
       "      <th>ReleaseDate</th>\n",
       "      <th>CharacterName</th>\n",
       "      <th>DoB</th>\n",
       "      <th>Gender</th>\n",
       "      <th>Height</th>\n",
       "      <th>Ethnicity</th>\n",
       "      <th>ActorName</th>\n",
       "      <th>Age</th>\n",
       "      <th>FreebaseActorMapID</th>\n",
       "      <th>FreebaseCharacterID</th>\n",
       "      <th>FreebaseActorID</th>\n",
       "      <th>ReleaseYear</th>\n",
       "    </tr>\n",
       "  </thead>\n",
       "  <tbody>\n",
       "    <tr>\n",
       "      <th>426881</th>\n",
       "      <td>19991665</td>\n",
       "      <td>/m/04y7ksr</td>\n",
       "      <td>1955</td>\n",
       "      <td>NaN</td>\n",
       "      <td>1930-04-19</td>\n",
       "      <td>M</td>\n",
       "      <td>1.87</td>\n",
       "      <td>NaN</td>\n",
       "      <td>Dick Sargent</td>\n",
       "      <td>24.0</td>\n",
       "      <td>/m/0dglf80</td>\n",
       "      <td>NaN</td>\n",
       "      <td>/m/028kcd</td>\n",
       "      <td>1955.0</td>\n",
       "    </tr>\n",
       "    <tr>\n",
       "      <th>193751</th>\n",
       "      <td>18676748</td>\n",
       "      <td>/m/04gqrx6</td>\n",
       "      <td>1999</td>\n",
       "      <td>NaN</td>\n",
       "      <td>1942-09-28</td>\n",
       "      <td>M</td>\n",
       "      <td>1.86</td>\n",
       "      <td>NaN</td>\n",
       "      <td>Marshall Bell</td>\n",
       "      <td>56.0</td>\n",
       "      <td>/m/0cg10m_</td>\n",
       "      <td>NaN</td>\n",
       "      <td>/m/08hk3x</td>\n",
       "      <td>1999.0</td>\n",
       "    </tr>\n",
       "  </tbody>\n",
       "</table>\n",
       "</div>"
      ],
      "text/plain": [
       "        WikiMovieID FreebaseMovieID ReleaseDate CharacterName         DoB  \\\n",
       "426881     19991665      /m/04y7ksr        1955           NaN  1930-04-19   \n",
       "193751     18676748      /m/04gqrx6        1999           NaN  1942-09-28   \n",
       "\n",
       "       Gender  Height Ethnicity      ActorName   Age FreebaseActorMapID  \\\n",
       "426881      M    1.87       NaN   Dick Sargent  24.0         /m/0dglf80   \n",
       "193751      M    1.86       NaN  Marshall Bell  56.0         /m/0cg10m_   \n",
       "\n",
       "       FreebaseCharacterID FreebaseActorID  ReleaseYear  \n",
       "426881                 NaN       /m/028kcd       1955.0  \n",
       "193751                 NaN       /m/08hk3x       1999.0  "
      ]
     },
     "execution_count": 9,
     "metadata": {},
     "output_type": "execute_result"
    }
   ],
   "source": [
    "characters.sample(2)"
   ]
  },
  {
   "cell_type": "code",
   "execution_count": 10,
   "metadata": {},
   "outputs": [
    {
     "data": {
      "text/html": [
       "<div>\n",
       "<style scoped>\n",
       "    .dataframe tbody tr th:only-of-type {\n",
       "        vertical-align: middle;\n",
       "    }\n",
       "\n",
       "    .dataframe tbody tr th {\n",
       "        vertical-align: top;\n",
       "    }\n",
       "\n",
       "    .dataframe thead th {\n",
       "        text-align: right;\n",
       "    }\n",
       "</style>\n",
       "<table border=\"1\" class=\"dataframe\">\n",
       "  <thead>\n",
       "    <tr style=\"text-align: right;\">\n",
       "      <th></th>\n",
       "      <th>WikiMovieID</th>\n",
       "      <th>FreebaseMovieID</th>\n",
       "      <th>MovieName</th>\n",
       "      <th>ReleaseDate</th>\n",
       "      <th>BORevenue</th>\n",
       "      <th>Runtime</th>\n",
       "      <th>Languages</th>\n",
       "      <th>Countries</th>\n",
       "      <th>MovieGenre</th>\n",
       "      <th>ReleaseYear</th>\n",
       "    </tr>\n",
       "  </thead>\n",
       "  <tbody>\n",
       "    <tr>\n",
       "      <th>26286</th>\n",
       "      <td>7768616</td>\n",
       "      <td>/m/0kvgvm</td>\n",
       "      <td>Don Q, Son of Zorro</td>\n",
       "      <td>1925-06-15</td>\n",
       "      <td>NaN</td>\n",
       "      <td>111.0</td>\n",
       "      <td>{\"/m/06ppq\": \"Silent film\", \"/m/02h40lc\": \"Eng...</td>\n",
       "      <td>{\"/m/09c7w0\": \"United States of America\"}</td>\n",
       "      <td>{\"/m/06ppq\": \"Silent film\", \"/m/03k9fj\": \"Adve...</td>\n",
       "      <td>1925.0</td>\n",
       "    </tr>\n",
       "    <tr>\n",
       "      <th>29058</th>\n",
       "      <td>25267846</td>\n",
       "      <td>/m/09gjhfh</td>\n",
       "      <td>BFF: Best Friends Forever</td>\n",
       "      <td>2009</td>\n",
       "      <td>NaN</td>\n",
       "      <td>102.0</td>\n",
       "      <td>{\"/m/07qv_\": \"Tagalog language\", \"/m/01jb8r\": ...</td>\n",
       "      <td>{\"/m/05v8c\": \"Philippines\"}</td>\n",
       "      <td>{\"/m/01z4y\": \"Comedy\", \"/m/03q4nz\": \"World cin...</td>\n",
       "      <td>2009.0</td>\n",
       "    </tr>\n",
       "  </tbody>\n",
       "</table>\n",
       "</div>"
      ],
      "text/plain": [
       "       WikiMovieID FreebaseMovieID                  MovieName ReleaseDate  \\\n",
       "26286      7768616       /m/0kvgvm        Don Q, Son of Zorro  1925-06-15   \n",
       "29058     25267846      /m/09gjhfh  BFF: Best Friends Forever        2009   \n",
       "\n",
       "       BORevenue  Runtime                                          Languages  \\\n",
       "26286        NaN    111.0  {\"/m/06ppq\": \"Silent film\", \"/m/02h40lc\": \"Eng...   \n",
       "29058        NaN    102.0  {\"/m/07qv_\": \"Tagalog language\", \"/m/01jb8r\": ...   \n",
       "\n",
       "                                       Countries  \\\n",
       "26286  {\"/m/09c7w0\": \"United States of America\"}   \n",
       "29058                {\"/m/05v8c\": \"Philippines\"}   \n",
       "\n",
       "                                              MovieGenre  ReleaseYear  \n",
       "26286  {\"/m/06ppq\": \"Silent film\", \"/m/03k9fj\": \"Adve...       1925.0  \n",
       "29058  {\"/m/01z4y\": \"Comedy\", \"/m/03q4nz\": \"World cin...       2009.0  "
      ]
     },
     "execution_count": 10,
     "metadata": {},
     "output_type": "execute_result"
    }
   ],
   "source": [
    "movies.sample(2)"
   ]
  },
  {
   "cell_type": "markdown",
   "metadata": {},
   "source": [
    "##### Age"
   ]
  },
  {
   "cell_type": "code",
   "execution_count": 11,
   "metadata": {},
   "outputs": [],
   "source": [
    "# Replace null or negative age values by NaN\n",
    "characters['Age'] = characters['Age'].apply(lambda x: np.nan if x <= 0 else x)"
   ]
  },
  {
   "cell_type": "markdown",
   "metadata": {},
   "source": [
    "#### Deal with dictionnaries"
   ]
  },
  {
   "cell_type": "code",
   "execution_count": 12,
   "metadata": {},
   "outputs": [],
   "source": [
    "# Convert the str-like dictionaries to dictionaries\n",
    "movies['Countries'] = movies['Countries'].apply(ast.literal_eval)\n",
    "movies['MovieGenre'] = movies['MovieGenre'].apply(ast.literal_eval)\n",
    "movies['Languages'] = movies['Languages'].apply(ast.literal_eval)"
   ]
  },
  {
   "cell_type": "code",
   "execution_count": 13,
   "metadata": {},
   "outputs": [
    {
     "data": {
      "text/html": [
       "<div>\n",
       "<style scoped>\n",
       "    .dataframe tbody tr th:only-of-type {\n",
       "        vertical-align: middle;\n",
       "    }\n",
       "\n",
       "    .dataframe tbody tr th {\n",
       "        vertical-align: top;\n",
       "    }\n",
       "\n",
       "    .dataframe thead th {\n",
       "        text-align: right;\n",
       "    }\n",
       "</style>\n",
       "<table border=\"1\" class=\"dataframe\">\n",
       "  <thead>\n",
       "    <tr style=\"text-align: right;\">\n",
       "      <th></th>\n",
       "      <th>WikiMovieID</th>\n",
       "      <th>FreebaseMovieID</th>\n",
       "      <th>MovieName</th>\n",
       "      <th>ReleaseDate</th>\n",
       "      <th>BORevenue</th>\n",
       "      <th>Runtime</th>\n",
       "      <th>Languages</th>\n",
       "      <th>Countries</th>\n",
       "      <th>MovieGenre</th>\n",
       "      <th>ReleaseYear</th>\n",
       "    </tr>\n",
       "  </thead>\n",
       "  <tbody>\n",
       "    <tr>\n",
       "      <th>76703</th>\n",
       "      <td>30466346</td>\n",
       "      <td>/m/0g5pxky</td>\n",
       "      <td>Achan</td>\n",
       "      <td>NaN</td>\n",
       "      <td>NaN</td>\n",
       "      <td>NaN</td>\n",
       "      <td>{}</td>\n",
       "      <td>{}</td>\n",
       "      <td>{'/m/07s9rl0': 'Drama'}</td>\n",
       "      <td>NaN</td>\n",
       "    </tr>\n",
       "    <tr>\n",
       "      <th>43783</th>\n",
       "      <td>12287985</td>\n",
       "      <td>/m/09rvk9z</td>\n",
       "      <td>Till Human Voices Wake Us</td>\n",
       "      <td>2002-09-12</td>\n",
       "      <td>NaN</td>\n",
       "      <td>96.0</td>\n",
       "      <td>{'/m/02h40lc': 'English Language'}</td>\n",
       "      <td>{'/m/09c7w0': 'United States of America', '/m/...</td>\n",
       "      <td>{'/m/01jfsb': 'Thriller', '/m/03q4nz': 'World ...</td>\n",
       "      <td>2002.0</td>\n",
       "    </tr>\n",
       "  </tbody>\n",
       "</table>\n",
       "</div>"
      ],
      "text/plain": [
       "       WikiMovieID FreebaseMovieID                  MovieName ReleaseDate  \\\n",
       "76703     30466346      /m/0g5pxky                      Achan         NaN   \n",
       "43783     12287985      /m/09rvk9z  Till Human Voices Wake Us  2002-09-12   \n",
       "\n",
       "       BORevenue  Runtime                           Languages  \\\n",
       "76703        NaN      NaN                                  {}   \n",
       "43783        NaN     96.0  {'/m/02h40lc': 'English Language'}   \n",
       "\n",
       "                                               Countries  \\\n",
       "76703                                                 {}   \n",
       "43783  {'/m/09c7w0': 'United States of America', '/m/...   \n",
       "\n",
       "                                              MovieGenre  ReleaseYear  \n",
       "76703                            {'/m/07s9rl0': 'Drama'}          NaN  \n",
       "43783  {'/m/01jfsb': 'Thriller', '/m/03q4nz': 'World ...       2002.0  "
      ]
     },
     "execution_count": 13,
     "metadata": {},
     "output_type": "execute_result"
    }
   ],
   "source": [
    "movies.sample(2)"
   ]
  },
  {
   "cell_type": "markdown",
   "metadata": {},
   "source": [
    "##### Merge the characters & movies datasets"
   ]
  },
  {
   "cell_type": "code",
   "execution_count": 14,
   "metadata": {},
   "outputs": [
    {
     "name": "stdout",
     "output_type": "stream",
     "text": [
      "The cmu dataset contains 405060 entries\n"
     ]
    },
    {
     "data": {
      "text/html": [
       "<div>\n",
       "<style scoped>\n",
       "    .dataframe tbody tr th:only-of-type {\n",
       "        vertical-align: middle;\n",
       "    }\n",
       "\n",
       "    .dataframe tbody tr th {\n",
       "        vertical-align: top;\n",
       "    }\n",
       "\n",
       "    .dataframe thead th {\n",
       "        text-align: right;\n",
       "    }\n",
       "</style>\n",
       "<table border=\"1\" class=\"dataframe\">\n",
       "  <thead>\n",
       "    <tr style=\"text-align: right;\">\n",
       "      <th></th>\n",
       "      <th>WikiMovieID</th>\n",
       "      <th>FreebaseMovieID</th>\n",
       "      <th>MovieName</th>\n",
       "      <th>ReleaseDate</th>\n",
       "      <th>BORevenue</th>\n",
       "      <th>Languages</th>\n",
       "      <th>Countries</th>\n",
       "      <th>MovieGenre</th>\n",
       "      <th>ReleaseYear</th>\n",
       "      <th>CharacterName</th>\n",
       "      <th>Gender</th>\n",
       "      <th>Ethnicity</th>\n",
       "      <th>ActorName</th>\n",
       "      <th>Age</th>\n",
       "      <th>FreebaseActorMapID</th>\n",
       "      <th>FreebaseCharacterID</th>\n",
       "      <th>FreebaseActorID</th>\n",
       "    </tr>\n",
       "  </thead>\n",
       "  <tbody>\n",
       "    <tr>\n",
       "      <th>192194</th>\n",
       "      <td>31844786</td>\n",
       "      <td>/m/08q3qb4</td>\n",
       "      <td>The Great American Broadcast</td>\n",
       "      <td>1941-05-09</td>\n",
       "      <td>NaN</td>\n",
       "      <td>{'/m/02h40lc': 'English Language'}</td>\n",
       "      <td>{'/m/09c7w0': 'United States of America'}</td>\n",
       "      <td>{'/m/07s9rl0': 'Drama', '/m/0hj3msd': 'Adventu...</td>\n",
       "      <td>1941.0</td>\n",
       "      <td>NaN</td>\n",
       "      <td>M</td>\n",
       "      <td>/m/04dbw3</td>\n",
       "      <td>Cesar Romero</td>\n",
       "      <td>34.0</td>\n",
       "      <td>/m/0cg89d4</td>\n",
       "      <td>NaN</td>\n",
       "      <td>/m/022q4j</td>\n",
       "    </tr>\n",
       "    <tr>\n",
       "      <th>86988</th>\n",
       "      <td>13494664</td>\n",
       "      <td>/m/03c75wv</td>\n",
       "      <td>We'll Meet Again</td>\n",
       "      <td>1943-01-18</td>\n",
       "      <td>NaN</td>\n",
       "      <td>{'/m/02h40lc': 'English Language'}</td>\n",
       "      <td>{'/m/07ssc': 'United Kingdom'}</td>\n",
       "      <td>{'/m/04t36': 'Musical'}</td>\n",
       "      <td>1943.0</td>\n",
       "      <td>Sally</td>\n",
       "      <td>F</td>\n",
       "      <td>NaN</td>\n",
       "      <td>Lesley Osmond</td>\n",
       "      <td>21.0</td>\n",
       "      <td>/m/0jvq98f</td>\n",
       "      <td>/m/0jvq98j</td>\n",
       "      <td>/m/0gtt75b</td>\n",
       "    </tr>\n",
       "  </tbody>\n",
       "</table>\n",
       "</div>"
      ],
      "text/plain": [
       "        WikiMovieID FreebaseMovieID                     MovieName ReleaseDate  \\\n",
       "192194     31844786      /m/08q3qb4  The Great American Broadcast  1941-05-09   \n",
       "86988      13494664      /m/03c75wv              We'll Meet Again  1943-01-18   \n",
       "\n",
       "        BORevenue                           Languages  \\\n",
       "192194        NaN  {'/m/02h40lc': 'English Language'}   \n",
       "86988         NaN  {'/m/02h40lc': 'English Language'}   \n",
       "\n",
       "                                        Countries  \\\n",
       "192194  {'/m/09c7w0': 'United States of America'}   \n",
       "86988              {'/m/07ssc': 'United Kingdom'}   \n",
       "\n",
       "                                               MovieGenre  ReleaseYear  \\\n",
       "192194  {'/m/07s9rl0': 'Drama', '/m/0hj3msd': 'Adventu...       1941.0   \n",
       "86988                             {'/m/04t36': 'Musical'}       1943.0   \n",
       "\n",
       "       CharacterName Gender  Ethnicity      ActorName   Age  \\\n",
       "192194           NaN      M  /m/04dbw3   Cesar Romero  34.0   \n",
       "86988          Sally      F        NaN  Lesley Osmond  21.0   \n",
       "\n",
       "       FreebaseActorMapID FreebaseCharacterID FreebaseActorID  \n",
       "192194         /m/0cg89d4                 NaN       /m/022q4j  \n",
       "86988          /m/0jvq98f          /m/0jvq98j      /m/0gtt75b  "
      ]
     },
     "execution_count": 14,
     "metadata": {},
     "output_type": "execute_result"
    }
   ],
   "source": [
    "# Merge the 2 datasets according to the common columns, and drop the columns that we don't need\n",
    "cmu = movies.merge(characters, how='inner', on=['WikiMovieID', 'FreebaseMovieID', 'ReleaseDate', 'ReleaseYear'])\n",
    "cmu = cmu.drop(['DoB', 'Height', 'Runtime'], axis=1).copy(deep=True)\n",
    "\n",
    "print(f'The cmu dataset contains {len(cmu.index)} entries')\n",
    "cmu.sample(2)"
   ]
  },
  {
   "cell_type": "code",
   "execution_count": 15,
   "metadata": {},
   "outputs": [
    {
     "name": "stdout",
     "output_type": "stream",
     "text": [
      "Percentage of missing entries in the cmu dataset:\n",
      " WikiMovieID             0.000000\n",
      "FreebaseMovieID         0.000000\n",
      "MovieName               0.000000\n",
      "ReleaseDate             2.430751\n",
      "BORevenue              76.733570\n",
      "ReleaseYear             2.430751\n",
      "CharacterName          54.213944\n",
      "Gender                  0.000000\n",
      "Ethnicity              73.828322\n",
      "ActorName               0.002963\n",
      "Age                    28.319508\n",
      "FreebaseCharacterID    54.211969\n",
      "FreebaseActorID         0.000000\n",
      "FreebaseActorMapID      0.000000\n",
      "dtype: float64\n",
      "Languages 7.365575470300696\n",
      "Countries 3.595022959561547\n",
      "MovieGenre 0.9877549005085665\n"
     ]
    }
   ],
   "source": [
    "print('Percentage of missing entries in the cmu dataset:\\n', 100*cmu[['WikiMovieID', 'FreebaseMovieID', 'MovieName', 'ReleaseDate', 'BORevenue',\n",
    "                                                                                 'ReleaseYear', 'CharacterName',\n",
    "                                                                                  'Gender', 'Ethnicity',\n",
    "                                                                                   'ActorName', 'Age', 'FreebaseCharacterID',\n",
    "                                                                                   'FreebaseActorID', 'FreebaseActorMapID']].isna().sum() / len(cmu))\n",
    "\n",
    "print('Languages', percent_missing_strdict(cmu['Languages'])) \n",
    "print('Countries', percent_missing_strdict(cmu['Countries']))\n",
    "print('MovieGenre', percent_missing_strdict(cmu['MovieGenre']))                                                                                     "
   ]
  },
  {
   "cell_type": "code",
   "execution_count": 16,
   "metadata": {},
   "outputs": [
    {
     "data": {
      "image/png": "[encoded data removed]",
      "text/plain": [
       "<Figure size 1000x500 with 2 Axes>"
      ]
     },
     "metadata": {},
     "output_type": "display_data"
    }
   ],
   "source": [
    "movie_count_per_year = cmu.groupby(['ReleaseYear']).agg({'WikiMovieID' : 'nunique'})\n",
    "character_count_per_year = cmu.groupby(['ReleaseYear']).agg({'Gender': 'count'})\n",
    "\n",
    "fig, (ax1, ax2) = plt.subplots(1,2,figsize= (10,5))\n",
    "ax1.plot(movie_count_per_year)\n",
    "ax1.plot([1888, 2020], [200, 200])\n",
    "ax1.set_xlabel('Release Year')\n",
    "ax1.set_ylabel('Count')\n",
    "ax1.set_title('Movie Count per year')\n",
    "\n",
    "ax2.plot(character_count_per_year)\n",
    "ax2.plot([1888, 2020], [200, 200])\n",
    "ax2.set_xlabel('Release Year')\n",
    "ax2.set_ylabel('Count')\n",
    "ax2.set_title('Character Count per year')\n",
    "\n",
    "plt.show()"
   ]
  },
  {
   "cell_type": "code",
   "execution_count": 17,
   "metadata": {},
   "outputs": [
    {
     "name": "stdout",
     "output_type": "stream",
     "text": [
      "The cmu dataset contains 68558 entries after filtering to have at least 200 movies and 100 characters per year.\n"
     ]
    }
   ],
   "source": [
    "# Keep only movies between 1925 and 2012 to have at least 200 movies per year and at least 100 characters per year.\n",
    "cmu = cmu.loc[(movies['ReleaseYear'] >= 1925) & (cmu['ReleaseYear'] <= 2012)].copy(deep=True)\n",
    "print(f'The cmu dataset contains {len(cmu.index)} entries after filtering to have at least 200 movies and 100 characters per year.')"
   ]
  },
  {
   "cell_type": "markdown",
   "metadata": {},
   "source": [
    "### Add geographical data to our dataset"
   ]
  },
  {
   "cell_type": "markdown",
   "metadata": {},
   "source": [
    "We will perform a geographical analysis; for this purpose, we will create specialized datasets.  "
   ]
  },
  {
   "cell_type": "code",
   "execution_count": 18,
   "metadata": {},
   "outputs": [
    {
     "name": "stdout",
     "output_type": "stream",
     "text": [
      "We dropped 8154 rows, corresponding to 9.98% of our original movies dataset.\n"
     ]
    }
   ],
   "source": [
    "#Initial number of rows in the movies dataset\n",
    "nb_row_countries = len(movies)\n",
    "\n",
    "# Create a new dataset from movies where we remove the rows in the 'Countries' column that lack information about countries.\n",
    "movies_geo = movies[movies['Countries'].apply(lambda x: len(x)!=0)].copy(deep=True)\n",
    "\n",
    "num_rows_dropped = nb_row_countries-len(movies_geo)\n",
    "percentage_rows_dropped = (num_rows_dropped / nb_row_countries) * 100\n",
    "print(f'We dropped {num_rows_dropped} rows, corresponding to {percentage_rows_dropped:.2f}% of our original movies dataset.')"
   ]
  },
  {
   "cell_type": "code",
   "execution_count": 19,
   "metadata": {},
   "outputs": [],
   "source": [
    "# We convert the column type from dictionaries to a list of strings.\n",
    "movies_geo['Countries'] = movies_geo['Countries'].apply(lambda x: [val for val in x.values()])"
   ]
  },
  {
   "cell_type": "markdown",
   "metadata": {},
   "source": [
    "To facilitate the analysis, we will utilize the ISO databases available in the pycountry library for standardized country names."
   ]
  },
  {
   "cell_type": "code",
   "execution_count": 20,
   "metadata": {},
   "outputs": [
    {
     "name": "stderr",
     "output_type": "stream",
     "text": [
      "Pandas Apply: 100%|██████████| 73587/73587 [00:02<00:00, 28253.15it/s]\n"
     ]
    }
   ],
   "source": [
    "from functions import bulkFindCountries\n",
    "\n",
    "movies_geo['Countries'] = movies_geo['Countries'].swifter.apply(bulkFindCountries)"
   ]
  },
  {
   "cell_type": "code",
   "execution_count": 21,
   "metadata": {},
   "outputs": [
    {
     "name": "stdout",
     "output_type": "stream",
     "text": [
      "By filtering out Nan values, we dropped 1545 rows, corresponding to 2.10% of our dataset.\n",
      "The filtered dataset contains 72042 movies.\n"
     ]
    }
   ],
   "source": [
    "from functions import process_countries\n",
    "\n",
    "length_before = len(movies_geo)\n",
    "\n",
    "movies_geo['Countries'] = movies_geo['Countries'].apply(process_countries).copy(deep=True)\n",
    "#Filter out NaN values\n",
    "movies_geo = movies_geo.dropna(subset=['Countries']).copy(deep=True)\n",
    "\n",
    "length_after = len(movies_geo)\n",
    "print(f'By filtering out Nan values, we dropped {length_before-length_after} rows, corresponding to {((length_before-length_after)/length_before)*100:.2f}% of our dataset.')\n",
    "print(f'The filtered dataset contains {length_after} movies.')"
   ]
  },
  {
   "cell_type": "markdown",
   "metadata": {},
   "source": [
    "We keep only the countries for which we have the alpha_2 code"
   ]
  },
  {
   "cell_type": "code",
   "execution_count": 22,
   "metadata": {},
   "outputs": [],
   "source": [
    "# Then we can determine the continent using the alpha_2 code\n",
    "movies_geo['Continent'] = movies_geo['Countries'].apply(lambda x: [pc.country_alpha2_to_continent_code(country) for country in x]).copy(deep=True)"
   ]
  },
  {
   "cell_type": "code",
   "execution_count": 23,
   "metadata": {},
   "outputs": [],
   "source": [
    "# If a row contains multiple occurrences of the same continent, eliminate the duplicates within the list\n",
    "movies_geo['Continent'] = movies_geo['Continent'].apply(lambda x: list(dict.fromkeys(x)) if isinstance(x, list) else x).copy(deep=True)"
   ]
  },
  {
   "cell_type": "code",
   "execution_count": 24,
   "metadata": {},
   "outputs": [
    {
     "name": "stdout",
     "output_type": "stream",
     "text": [
      "4649 rows were dropped\n"
     ]
    }
   ],
   "source": [
    "# Remove the rows for which we have more than one unique continent\n",
    "length_before = len(movies_geo)\n",
    "\n",
    "movies_geo = movies_geo[movies_geo['Continent'].apply(lambda x: len(x) <= 1)].copy(deep=True)\n",
    "\n",
    "length_after = len(movies_geo)\n",
    "print(f'{length_before-length_after} rows were dropped')"
   ]
  },
  {
   "cell_type": "code",
   "execution_count": 25,
   "metadata": {},
   "outputs": [],
   "source": [
    "# Change the data type of the 'Continent' column from a list to a string since it now contains lists with only one element\n",
    "movies_geo['Continent'] = movies_geo['Continent'].apply(lambda x: x[0] if isinstance(x, list) else x)"
   ]
  },
  {
   "cell_type": "code",
   "execution_count": 26,
   "metadata": {},
   "outputs": [
    {
     "data": {
      "text/html": [
       "<div>\n",
       "<style scoped>\n",
       "    .dataframe tbody tr th:only-of-type {\n",
       "        vertical-align: middle;\n",
       "    }\n",
       "\n",
       "    .dataframe tbody tr th {\n",
       "        vertical-align: top;\n",
       "    }\n",
       "\n",
       "    .dataframe thead th {\n",
       "        text-align: right;\n",
       "    }\n",
       "</style>\n",
       "<table border=\"1\" class=\"dataframe\">\n",
       "  <thead>\n",
       "    <tr style=\"text-align: right;\">\n",
       "      <th></th>\n",
       "      <th>WikiMovieID</th>\n",
       "      <th>FreebaseMovieID</th>\n",
       "      <th>MovieName</th>\n",
       "      <th>ReleaseDate</th>\n",
       "      <th>BORevenue</th>\n",
       "      <th>Runtime</th>\n",
       "      <th>Languages</th>\n",
       "      <th>Countries</th>\n",
       "      <th>MovieGenre</th>\n",
       "      <th>ReleaseYear</th>\n",
       "      <th>Continent</th>\n",
       "    </tr>\n",
       "  </thead>\n",
       "  <tbody>\n",
       "    <tr>\n",
       "      <th>41747</th>\n",
       "      <td>34430482</td>\n",
       "      <td>/m/0h_cph8</td>\n",
       "      <td>God Bless America</td>\n",
       "      <td>2011-09-09</td>\n",
       "      <td>231319.0</td>\n",
       "      <td>100.0</td>\n",
       "      <td>{'/m/02h40lc': 'English Language'}</td>\n",
       "      <td>US</td>\n",
       "      <td>{'/m/05p553': 'Comedy film', '/m/07s9rl0': 'Dr...</td>\n",
       "      <td>2011.0</td>\n",
       "      <td>NA</td>\n",
       "    </tr>\n",
       "    <tr>\n",
       "      <th>78522</th>\n",
       "      <td>32177555</td>\n",
       "      <td>/m/0gwz18j</td>\n",
       "      <td>Sneeze Me Away</td>\n",
       "      <td>2010-03-01</td>\n",
       "      <td>NaN</td>\n",
       "      <td>NaN</td>\n",
       "      <td>{}</td>\n",
       "      <td>KR</td>\n",
       "      <td>{'/m/02hmvc': 'Short Film', '/m/03k9fj': 'Adve...</td>\n",
       "      <td>2010.0</td>\n",
       "      <td>AS</td>\n",
       "    </tr>\n",
       "  </tbody>\n",
       "</table>\n",
       "</div>"
      ],
      "text/plain": [
       "       WikiMovieID FreebaseMovieID          MovieName ReleaseDate  BORevenue  \\\n",
       "41747     34430482      /m/0h_cph8  God Bless America  2011-09-09   231319.0   \n",
       "78522     32177555      /m/0gwz18j     Sneeze Me Away  2010-03-01        NaN   \n",
       "\n",
       "       Runtime                           Languages Countries  \\\n",
       "41747    100.0  {'/m/02h40lc': 'English Language'}        US   \n",
       "78522      NaN                                  {}        KR   \n",
       "\n",
       "                                              MovieGenre  ReleaseYear  \\\n",
       "41747  {'/m/05p553': 'Comedy film', '/m/07s9rl0': 'Dr...       2011.0   \n",
       "78522  {'/m/02hmvc': 'Short Film', '/m/03k9fj': 'Adve...       2010.0   \n",
       "\n",
       "      Continent  \n",
       "41747        NA  \n",
       "78522        AS  "
      ]
     },
     "execution_count": 26,
     "metadata": {},
     "output_type": "execute_result"
    }
   ],
   "source": [
    "# convert list in string\n",
    "movies_geo['Countries'] = movies_geo['Countries'].apply(lambda x: x[0] if isinstance(x, list) else x)\n",
    "movies_geo.sample(2)"
   ]
  },
  {
   "cell_type": "code",
   "execution_count": 27,
   "metadata": {},
   "outputs": [
    {
     "name": "stdout",
     "output_type": "stream",
     "text": [
      "Our final dataset contains 67393 movies.\n"
     ]
    }
   ],
   "source": [
    "print(f'Our final dataset contains {len(movies_geo.index)} movies.')"
   ]
  },
  {
   "cell_type": "markdown",
   "metadata": {},
   "source": [
    "Merge the movies_geo dataset with characters for our future analysis."
   ]
  },
  {
   "cell_type": "code",
   "execution_count": 28,
   "metadata": {},
   "outputs": [
    {
     "name": "stdout",
     "output_type": "stream",
     "text": [
      "The cmu_geo dataset contains 349182 entries\n"
     ]
    },
    {
     "data": {
      "text/html": [
       "<div>\n",
       "<style scoped>\n",
       "    .dataframe tbody tr th:only-of-type {\n",
       "        vertical-align: middle;\n",
       "    }\n",
       "\n",
       "    .dataframe tbody tr th {\n",
       "        vertical-align: top;\n",
       "    }\n",
       "\n",
       "    .dataframe thead th {\n",
       "        text-align: right;\n",
       "    }\n",
       "</style>\n",
       "<table border=\"1\" class=\"dataframe\">\n",
       "  <thead>\n",
       "    <tr style=\"text-align: right;\">\n",
       "      <th></th>\n",
       "      <th>WikiMovieID</th>\n",
       "      <th>FreebaseMovieID</th>\n",
       "      <th>MovieName</th>\n",
       "      <th>ReleaseDate</th>\n",
       "      <th>BORevenue</th>\n",
       "      <th>Languages</th>\n",
       "      <th>Countries</th>\n",
       "      <th>MovieGenre</th>\n",
       "      <th>ReleaseYear</th>\n",
       "      <th>Continent</th>\n",
       "      <th>CharacterName</th>\n",
       "      <th>Gender</th>\n",
       "      <th>Ethnicity</th>\n",
       "      <th>ActorName</th>\n",
       "      <th>Age</th>\n",
       "      <th>FreebaseActorMapID</th>\n",
       "      <th>FreebaseCharacterID</th>\n",
       "      <th>FreebaseActorID</th>\n",
       "    </tr>\n",
       "  </thead>\n",
       "  <tbody>\n",
       "    <tr>\n",
       "      <th>186550</th>\n",
       "      <td>24212910</td>\n",
       "      <td>/m/07kcsf8</td>\n",
       "      <td>Irish Luck</td>\n",
       "      <td>1939-08-22</td>\n",
       "      <td>NaN</td>\n",
       "      <td>{'/m/02h40lc': 'English Language'}</td>\n",
       "      <td>US</td>\n",
       "      <td>{'/m/0lsxr': 'Crime Fiction', '/m/02n4kr': 'My...</td>\n",
       "      <td>1939.0</td>\n",
       "      <td>NA</td>\n",
       "      <td>Mrs. O'Brien</td>\n",
       "      <td>F</td>\n",
       "      <td>NaN</td>\n",
       "      <td>Lillian Elliott</td>\n",
       "      <td>NaN</td>\n",
       "      <td>/m/0n646sc</td>\n",
       "      <td>/m/0n646sg</td>\n",
       "      <td>/m/03cz213</td>\n",
       "    </tr>\n",
       "    <tr>\n",
       "      <th>128680</th>\n",
       "      <td>1426122</td>\n",
       "      <td>/m/050l10</td>\n",
       "      <td>Straight Time</td>\n",
       "      <td>1978-03-18</td>\n",
       "      <td>NaN</td>\n",
       "      <td>{'/m/02h40lc': 'English Language'}</td>\n",
       "      <td>US</td>\n",
       "      <td>{'/m/0lsxr': 'Crime Fiction', '/m/060__y': 'Fi...</td>\n",
       "      <td>1978.0</td>\n",
       "      <td>NA</td>\n",
       "      <td>NaN</td>\n",
       "      <td>M</td>\n",
       "      <td>NaN</td>\n",
       "      <td>Jake Busey</td>\n",
       "      <td>6.0</td>\n",
       "      <td>/m/0cf_h0s</td>\n",
       "      <td>NaN</td>\n",
       "      <td>/m/06z495</td>\n",
       "    </tr>\n",
       "  </tbody>\n",
       "</table>\n",
       "</div>"
      ],
      "text/plain": [
       "        WikiMovieID FreebaseMovieID      MovieName ReleaseDate  BORevenue  \\\n",
       "186550     24212910      /m/07kcsf8     Irish Luck  1939-08-22        NaN   \n",
       "128680      1426122       /m/050l10  Straight Time  1978-03-18        NaN   \n",
       "\n",
       "                                 Languages Countries  \\\n",
       "186550  {'/m/02h40lc': 'English Language'}        US   \n",
       "128680  {'/m/02h40lc': 'English Language'}        US   \n",
       "\n",
       "                                               MovieGenre  ReleaseYear  \\\n",
       "186550  {'/m/0lsxr': 'Crime Fiction', '/m/02n4kr': 'My...       1939.0   \n",
       "128680  {'/m/0lsxr': 'Crime Fiction', '/m/060__y': 'Fi...       1978.0   \n",
       "\n",
       "       Continent CharacterName Gender Ethnicity        ActorName  Age  \\\n",
       "186550        NA  Mrs. O'Brien      F       NaN  Lillian Elliott  NaN   \n",
       "128680        NA           NaN      M       NaN       Jake Busey  6.0   \n",
       "\n",
       "       FreebaseActorMapID FreebaseCharacterID FreebaseActorID  \n",
       "186550         /m/0n646sc          /m/0n646sg      /m/03cz213  \n",
       "128680         /m/0cf_h0s                 NaN       /m/06z495  "
      ]
     },
     "execution_count": 28,
     "metadata": {},
     "output_type": "execute_result"
    }
   ],
   "source": [
    "# Merge the 2 datasets according to the common columns, and drop the columns that we don't need\n",
    "cmu_geo = movies_geo.merge(characters, how='inner', on=['WikiMovieID', 'FreebaseMovieID', 'ReleaseDate', 'ReleaseYear'])\n",
    "cmu_geo = cmu_geo.drop(['DoB', 'Height', 'Runtime'], axis=1).copy(deep=True)\n",
    "\n",
    "print(f'The cmu_geo dataset contains {len(cmu_geo.index)} entries')\n",
    "cmu_geo.sample(2)"
   ]
  },
  {
   "cell_type": "code",
   "execution_count": 29,
   "metadata": {},
   "outputs": [
    {
     "data": {
      "image/png": "[encoded data removed]",
      "text/plain": [
       "<Figure size 1000x500 with 2 Axes>"
      ]
     },
     "metadata": {},
     "output_type": "display_data"
    }
   ],
   "source": [
    "movie_geo_count_per_year = cmu_geo.groupby(['ReleaseYear']).agg({'WikiMovieID' : 'nunique'})\n",
    "character_geo_count_per_year = cmu_geo.groupby(['ReleaseYear']).agg({'Gender': 'count'})\n",
    "\n",
    "fig, (ax1, ax2) = plt.subplots(1,2,figsize= (10,5))\n",
    "ax1.plot(movie_geo_count_per_year)\n",
    "ax1.plot([1888, 2020], [200, 200])\n",
    "ax1.set_xlabel('Release Year')\n",
    "ax1.set_ylabel('Count')\n",
    "ax1.set_title('Movie Count per year')\n",
    "\n",
    "ax2.plot(character_geo_count_per_year)\n",
    "ax2.plot([1888, 2020], [200, 200])\n",
    "ax2.set_xlabel('Release Year')\n",
    "ax2.set_ylabel('Count')\n",
    "ax2.set_title('Character Count per year')\n",
    "\n",
    "plt.show()"
   ]
  },
  {
   "cell_type": "code",
   "execution_count": 30,
   "metadata": {},
   "outputs": [
    {
     "name": "stdout",
     "output_type": "stream",
     "text": [
      "The cmu_geo dataset contains 67623 entries after filtering to have at least 200 movies and 100 characters per year\n"
     ]
    }
   ],
   "source": [
    "# Keep only movies between 1930 and 2012 to have at least 200 movies per year and at least 100 characters per year\n",
    "cmu_geo = cmu_geo.loc[(movies['ReleaseYear'] >= 1930) & (cmu_geo['ReleaseYear'] <= 2012)].copy(deep=True)\n",
    "print(f'The cmu_geo dataset contains {len(cmu_geo.index)} entries after filtering to have at least 200 movies and 100 characters per year')"
   ]
  },
  {
   "cell_type": "code",
   "execution_count": 31,
   "metadata": {},
   "outputs": [
    {
     "name": "stdout",
     "output_type": "stream",
     "text": [
      "Percentage of missing entries in the cmu_geo dataset:\n",
      " WikiMovieID             0.000000\n",
      "FreebaseMovieID         0.000000\n",
      "MovieName               0.000000\n",
      "ReleaseDate             0.000000\n",
      "BORevenue              76.942756\n",
      "ReleaseYear             0.000000\n",
      "CharacterName          54.340979\n",
      "Gender                  0.000000\n",
      "Ethnicity              74.891679\n",
      "ActorName               0.007394\n",
      "Age                    26.421484\n",
      "FreebaseCharacterID    54.339500\n",
      "FreebaseActorID         0.000000\n",
      "FreebaseActorMapID      0.000000\n",
      "dtype: float64\n",
      "Languages 5.224553776082103\n",
      "Countries 0.0\n",
      "MovieGenre 0.8399509042781302\n"
     ]
    }
   ],
   "source": [
    "print('Percentage of missing entries in the cmu_geo dataset:\\n', 100*cmu[['WikiMovieID', 'FreebaseMovieID', 'MovieName', 'ReleaseDate', 'BORevenue',\n",
    "                                                                                 'ReleaseYear', 'CharacterName',\n",
    "                                                                                  'Gender', 'Ethnicity',\n",
    "                                                                                   'ActorName', 'Age', 'FreebaseCharacterID',\n",
    "                                                                                   'FreebaseActorID', 'FreebaseActorMapID']].isna().sum() / len(cmu_geo))\n",
    "\n",
    "print('Languages', percent_missing_strdict(cmu_geo['Languages'])) \n",
    "print('Countries', percent_missing_strdict(cmu_geo['Countries']))\n",
    "print('MovieGenre', percent_missing_strdict(cmu_geo['MovieGenre']))   "
   ]
  },
  {
   "cell_type": "markdown",
   "metadata": {},
   "source": [
    "## PART 2: CoreNLP parsed movie summaries <a id=\"part2\"></a>"
   ]
  },
  {
   "cell_type": "markdown",
   "metadata": {},
   "source": [
    "We process the files contained in the corenlp_plot_summaries.tar archive.\n",
    "\n",
    "All functions used for this part and other helpers are in the helpers_corenlp.py file."
   ]
  },
  {
   "cell_type": "code",
   "execution_count": null,
   "metadata": {},
   "outputs": [],
   "source": [
    "# First we extract the files contained in the tar file into .xml files\n",
    "load_corenlp_data()"
   ]
  },
  {
   "cell_type": "markdown",
   "metadata": {},
   "source": [
    "From the Bamman et al. paper [1], we know what type of dependencies we need to look for in the plot summary trees:\n",
    "- for agent verbs: verbs for which the entity is\n",
    "   - nsubj\n",
    "   - agent\n",
    "- for patient verbs: verbs for which the entity is\n",
    "   - dobj\n",
    "   - nsubjpass\n",
    "   - iobj\n",
    "   - any prepositional argument prep_*\n",
    "- for attributes: adjectives and common noun words that relate to the mention as adjecti- val modifiers, noun-noun compounds, appos- itives, or copulas: \n",
    "   - nsubj or appos governors of a character mention\n",
    "   - nsubj, appos, amod, nn dependents of a character mention\n",
    "\n",
    "This search is directly implemented in a function."
   ]
  },
  {
   "cell_type": "markdown",
   "metadata": {},
   "source": [
    "The idea is also to count the number of mentions of each character of a movie and then use this number of mentions as a proxy for identifying the main character. Thus in our case we define the main character as the moset mentioned one in the plot summary."
   ]
  },
  {
   "cell_type": "code",
   "execution_count": null,
   "metadata": {},
   "outputs": [],
   "source": [
    "# get the Wikipedia movie id from the Lord of the Ring movies\n",
    "test_ids = characters[characters['CharacterName'] == 'Aragorn']['WikiMovieID'].values"
   ]
  },
  {
   "cell_type": "code",
   "execution_count": null,
   "metadata": {},
   "outputs": [],
   "source": [
    "# get the main character names from the Lord of the Ring movies\n",
    "for id in test_ids:\n",
    "    movie_xml = str(id) + '.xml'\n",
    "    print(get_main_character(movie_xml))"
   ]
  },
  {
   "cell_type": "markdown",
   "metadata": {},
   "source": [
    "As we expect, we extract Frodo as the main character of all the Lord of the Ring movies.\n",
    "But we see that depending on the plot summary, the character's full name extracted can be different...\n",
    "\n",
    "We thus need to check in a bidirectional way what the \"fullest\" name used is between the name extracted from the summary and the one used in the character metadata before merging."
   ]
  },
  {
   "cell_type": "code",
   "execution_count": null,
   "metadata": {},
   "outputs": [],
   "source": [
    "lst = []\n",
    "# we only iterate over movies for which both character and movie metadata is available\n",
    "ids = np.intersect1d(movies['WikiMovieID'].unique(), characters['WikiMovieID'].unique())\n",
    "for id in ids[:100]:\n",
    "    # We extract the data from the .xml files into a list of dictionaries\n",
    "    if os.path.isfile(CORE_NLP_XML + '/' + str(id) + '.xml'):\n",
    "        lst = lst + get_list_movie(str(id) + '.xml')\n",
    "        cmu_characters = list(cmu[cmu['WikiMovieID'] == id].CharacterName)\n",
    "        xml_characters = list(get_characters_from_xml(str(id) + '.xml'))\n",
    "        characters = cmu_characters + xml_characters\n",
    "        # type cast to string\n",
    "        characters = [str(x) for x in characters]\n",
    "        # get the full names of the characters\n",
    "        dict = get_full_names_dict(characters)\n",
    "        # replace cmu CharacterName by the full name in that movie\n",
    "        cmu.loc[cmu['WikiMovieID'] == id, 'CharacterName'] = cmu.loc[cmu['WikiMovieID'] == id, 'CharacterName'].apply(lambda x: dict[x] if x in dict.keys() else x)\n",
    "\n",
    "# We convert the list of dictionaries into a dataframe\n",
    "df_corenlp = pd.DataFrame(lst)\n",
    "\n",
    "df_corenlp.head()"
   ]
  },
  {
   "cell_type": "markdown",
   "metadata": {},
   "source": [
    "The code takes a lot of time to run so for now we only do it for a few movies (for the first 100 IDs)."
   ]
  },
  {
   "cell_type": "code",
   "execution_count": null,
   "metadata": {},
   "outputs": [],
   "source": [
    "print(type(cmu.WikiMovieID[0]))\n",
    "print(type(df_corenlp.WikiMovieID[0]))"
   ]
  },
  {
   "cell_type": "markdown",
   "metadata": {},
   "source": [
    "We need to typecast so that we can merge!"
   ]
  },
  {
   "cell_type": "code",
   "execution_count": null,
   "metadata": {},
   "outputs": [],
   "source": [
    "# change the type of the WikiMovieID column to int64\n",
    "df_corenlp['WikiMovieID'] = df_corenlp['WikiMovieID'].astype('int64')"
   ]
  },
  {
   "cell_type": "code",
   "execution_count": null,
   "metadata": {},
   "outputs": [],
   "source": [
    "cmu_corenlp = cmu.merge(df_corenlp, how='inner', on=['WikiMovieID', 'CharacterName'])"
   ]
  },
  {
   "cell_type": "code",
   "execution_count": null,
   "metadata": {},
   "outputs": [],
   "source": [
    "cmu_corenlp.head()"
   ]
  },
  {
   "cell_type": "markdown",
   "metadata": {},
   "source": [
    "We get a dataframe with character information extracted from the movie plot summary joined with metadata from the CMU movie corpus. The information extracted from the CoreNLP parsed summaries will be used to cluster characters based on their depiction in the summary."
   ]
  },
  {
   "cell_type": "markdown",
   "metadata": {},
   "source": [
    "## PART 3: IMDB datasets <a id=\"part3\"></a>"
   ]
  },
  {
   "cell_type": "code",
   "execution_count": 32,
   "metadata": {},
   "outputs": [],
   "source": [
    "#Load the datasets\n",
    "IMDB_title = pd.read_csv(IMDB_BASICS_PATH,sep='\\t', low_memory=False)\n",
    "IMDB_ratings = pd.read_csv(IMDB_RATINGS_PATH, sep = '\\t')"
   ]
  },
  {
   "cell_type": "code",
   "execution_count": 33,
   "metadata": {},
   "outputs": [
    {
     "data": {
      "text/html": [
       "<div>\n",
       "<style scoped>\n",
       "    .dataframe tbody tr th:only-of-type {\n",
       "        vertical-align: middle;\n",
       "    }\n",
       "\n",
       "    .dataframe tbody tr th {\n",
       "        vertical-align: top;\n",
       "    }\n",
       "\n",
       "    .dataframe thead th {\n",
       "        text-align: right;\n",
       "    }\n",
       "</style>\n",
       "<table border=\"1\" class=\"dataframe\">\n",
       "  <thead>\n",
       "    <tr style=\"text-align: right;\">\n",
       "      <th></th>\n",
       "      <th>tconst</th>\n",
       "      <th>averageRating</th>\n",
       "      <th>numVotes</th>\n",
       "    </tr>\n",
       "  </thead>\n",
       "  <tbody>\n",
       "    <tr>\n",
       "      <th>0</th>\n",
       "      <td>tt0000001</td>\n",
       "      <td>5.7</td>\n",
       "      <td>2005</td>\n",
       "    </tr>\n",
       "    <tr>\n",
       "      <th>1</th>\n",
       "      <td>tt0000002</td>\n",
       "      <td>5.8</td>\n",
       "      <td>269</td>\n",
       "    </tr>\n",
       "    <tr>\n",
       "      <th>2</th>\n",
       "      <td>tt0000003</td>\n",
       "      <td>6.5</td>\n",
       "      <td>1908</td>\n",
       "    </tr>\n",
       "    <tr>\n",
       "      <th>3</th>\n",
       "      <td>tt0000004</td>\n",
       "      <td>5.5</td>\n",
       "      <td>178</td>\n",
       "    </tr>\n",
       "    <tr>\n",
       "      <th>4</th>\n",
       "      <td>tt0000005</td>\n",
       "      <td>6.2</td>\n",
       "      <td>2688</td>\n",
       "    </tr>\n",
       "    <tr>\n",
       "      <th>...</th>\n",
       "      <td>...</td>\n",
       "      <td>...</td>\n",
       "      <td>...</td>\n",
       "    </tr>\n",
       "    <tr>\n",
       "      <th>1366964</th>\n",
       "      <td>tt9916730</td>\n",
       "      <td>7.6</td>\n",
       "      <td>11</td>\n",
       "    </tr>\n",
       "    <tr>\n",
       "      <th>1366965</th>\n",
       "      <td>tt9916766</td>\n",
       "      <td>7.0</td>\n",
       "      <td>22</td>\n",
       "    </tr>\n",
       "    <tr>\n",
       "      <th>1366966</th>\n",
       "      <td>tt9916778</td>\n",
       "      <td>7.2</td>\n",
       "      <td>36</td>\n",
       "    </tr>\n",
       "    <tr>\n",
       "      <th>1366967</th>\n",
       "      <td>tt9916840</td>\n",
       "      <td>8.8</td>\n",
       "      <td>6</td>\n",
       "    </tr>\n",
       "    <tr>\n",
       "      <th>1366968</th>\n",
       "      <td>tt9916880</td>\n",
       "      <td>8.2</td>\n",
       "      <td>6</td>\n",
       "    </tr>\n",
       "  </tbody>\n",
       "</table>\n",
       "<p>1366969 rows × 3 columns</p>\n",
       "</div>"
      ],
      "text/plain": [
       "            tconst  averageRating  numVotes\n",
       "0        tt0000001            5.7      2005\n",
       "1        tt0000002            5.8       269\n",
       "2        tt0000003            6.5      1908\n",
       "3        tt0000004            5.5       178\n",
       "4        tt0000005            6.2      2688\n",
       "...            ...            ...       ...\n",
       "1366964  tt9916730            7.6        11\n",
       "1366965  tt9916766            7.0        22\n",
       "1366966  tt9916778            7.2        36\n",
       "1366967  tt9916840            8.8         6\n",
       "1366968  tt9916880            8.2         6\n",
       "\n",
       "[1366969 rows x 3 columns]"
      ]
     },
     "metadata": {},
     "output_type": "display_data"
    }
   ],
   "source": [
    "display(IMDB_ratings)"
   ]
  },
  {
   "cell_type": "code",
   "execution_count": 34,
   "metadata": {},
   "outputs": [
    {
     "data": {
      "text/html": [
       "<div>\n",
       "<style scoped>\n",
       "    .dataframe tbody tr th:only-of-type {\n",
       "        vertical-align: middle;\n",
       "    }\n",
       "\n",
       "    .dataframe tbody tr th {\n",
       "        vertical-align: top;\n",
       "    }\n",
       "\n",
       "    .dataframe thead th {\n",
       "        text-align: right;\n",
       "    }\n",
       "</style>\n",
       "<table border=\"1\" class=\"dataframe\">\n",
       "  <thead>\n",
       "    <tr style=\"text-align: right;\">\n",
       "      <th></th>\n",
       "      <th>tconst</th>\n",
       "      <th>titleType</th>\n",
       "      <th>primaryTitle</th>\n",
       "      <th>originalTitle</th>\n",
       "      <th>isAdult</th>\n",
       "      <th>startYear</th>\n",
       "      <th>endYear</th>\n",
       "      <th>runtimeMinutes</th>\n",
       "      <th>genres</th>\n",
       "    </tr>\n",
       "  </thead>\n",
       "  <tbody>\n",
       "    <tr>\n",
       "      <th>0</th>\n",
       "      <td>tt0000001</td>\n",
       "      <td>short</td>\n",
       "      <td>Carmencita</td>\n",
       "      <td>Carmencita</td>\n",
       "      <td>0</td>\n",
       "      <td>1894</td>\n",
       "      <td>\\N</td>\n",
       "      <td>1</td>\n",
       "      <td>Documentary,Short</td>\n",
       "    </tr>\n",
       "    <tr>\n",
       "      <th>1</th>\n",
       "      <td>tt0000002</td>\n",
       "      <td>short</td>\n",
       "      <td>Le clown et ses chiens</td>\n",
       "      <td>Le clown et ses chiens</td>\n",
       "      <td>0</td>\n",
       "      <td>1892</td>\n",
       "      <td>\\N</td>\n",
       "      <td>5</td>\n",
       "      <td>Animation,Short</td>\n",
       "    </tr>\n",
       "    <tr>\n",
       "      <th>2</th>\n",
       "      <td>tt0000003</td>\n",
       "      <td>short</td>\n",
       "      <td>Pauvre Pierrot</td>\n",
       "      <td>Pauvre Pierrot</td>\n",
       "      <td>0</td>\n",
       "      <td>1892</td>\n",
       "      <td>\\N</td>\n",
       "      <td>4</td>\n",
       "      <td>Animation,Comedy,Romance</td>\n",
       "    </tr>\n",
       "    <tr>\n",
       "      <th>3</th>\n",
       "      <td>tt0000004</td>\n",
       "      <td>short</td>\n",
       "      <td>Un bon bock</td>\n",
       "      <td>Un bon bock</td>\n",
       "      <td>0</td>\n",
       "      <td>1892</td>\n",
       "      <td>\\N</td>\n",
       "      <td>12</td>\n",
       "      <td>Animation,Short</td>\n",
       "    </tr>\n",
       "    <tr>\n",
       "      <th>4</th>\n",
       "      <td>tt0000005</td>\n",
       "      <td>short</td>\n",
       "      <td>Blacksmith Scene</td>\n",
       "      <td>Blacksmith Scene</td>\n",
       "      <td>0</td>\n",
       "      <td>1893</td>\n",
       "      <td>\\N</td>\n",
       "      <td>1</td>\n",
       "      <td>Comedy,Short</td>\n",
       "    </tr>\n",
       "    <tr>\n",
       "      <th>...</th>\n",
       "      <td>...</td>\n",
       "      <td>...</td>\n",
       "      <td>...</td>\n",
       "      <td>...</td>\n",
       "      <td>...</td>\n",
       "      <td>...</td>\n",
       "      <td>...</td>\n",
       "      <td>...</td>\n",
       "      <td>...</td>\n",
       "    </tr>\n",
       "    <tr>\n",
       "      <th>10295872</th>\n",
       "      <td>tt9916848</td>\n",
       "      <td>tvEpisode</td>\n",
       "      <td>Episode #3.17</td>\n",
       "      <td>Episode #3.17</td>\n",
       "      <td>0</td>\n",
       "      <td>2009</td>\n",
       "      <td>\\N</td>\n",
       "      <td>\\N</td>\n",
       "      <td>Action,Drama,Family</td>\n",
       "    </tr>\n",
       "    <tr>\n",
       "      <th>10295873</th>\n",
       "      <td>tt9916850</td>\n",
       "      <td>tvEpisode</td>\n",
       "      <td>Episode #3.19</td>\n",
       "      <td>Episode #3.19</td>\n",
       "      <td>0</td>\n",
       "      <td>2010</td>\n",
       "      <td>\\N</td>\n",
       "      <td>\\N</td>\n",
       "      <td>Action,Drama,Family</td>\n",
       "    </tr>\n",
       "    <tr>\n",
       "      <th>10295874</th>\n",
       "      <td>tt9916852</td>\n",
       "      <td>tvEpisode</td>\n",
       "      <td>Episode #3.20</td>\n",
       "      <td>Episode #3.20</td>\n",
       "      <td>0</td>\n",
       "      <td>2010</td>\n",
       "      <td>\\N</td>\n",
       "      <td>\\N</td>\n",
       "      <td>Action,Drama,Family</td>\n",
       "    </tr>\n",
       "    <tr>\n",
       "      <th>10295875</th>\n",
       "      <td>tt9916856</td>\n",
       "      <td>short</td>\n",
       "      <td>The Wind</td>\n",
       "      <td>The Wind</td>\n",
       "      <td>0</td>\n",
       "      <td>2015</td>\n",
       "      <td>\\N</td>\n",
       "      <td>27</td>\n",
       "      <td>Short</td>\n",
       "    </tr>\n",
       "    <tr>\n",
       "      <th>10295876</th>\n",
       "      <td>tt9916880</td>\n",
       "      <td>tvEpisode</td>\n",
       "      <td>Horrid Henry Knows It All</td>\n",
       "      <td>Horrid Henry Knows It All</td>\n",
       "      <td>0</td>\n",
       "      <td>2014</td>\n",
       "      <td>\\N</td>\n",
       "      <td>10</td>\n",
       "      <td>Adventure,Animation,Comedy</td>\n",
       "    </tr>\n",
       "  </tbody>\n",
       "</table>\n",
       "<p>10295877 rows × 9 columns</p>\n",
       "</div>"
      ],
      "text/plain": [
       "             tconst  titleType               primaryTitle  \\\n",
       "0         tt0000001      short                 Carmencita   \n",
       "1         tt0000002      short     Le clown et ses chiens   \n",
       "2         tt0000003      short             Pauvre Pierrot   \n",
       "3         tt0000004      short                Un bon bock   \n",
       "4         tt0000005      short           Blacksmith Scene   \n",
       "...             ...        ...                        ...   \n",
       "10295872  tt9916848  tvEpisode              Episode #3.17   \n",
       "10295873  tt9916850  tvEpisode              Episode #3.19   \n",
       "10295874  tt9916852  tvEpisode              Episode #3.20   \n",
       "10295875  tt9916856      short                   The Wind   \n",
       "10295876  tt9916880  tvEpisode  Horrid Henry Knows It All   \n",
       "\n",
       "                      originalTitle isAdult startYear endYear runtimeMinutes  \\\n",
       "0                        Carmencita       0      1894      \\N              1   \n",
       "1            Le clown et ses chiens       0      1892      \\N              5   \n",
       "2                    Pauvre Pierrot       0      1892      \\N              4   \n",
       "3                       Un bon bock       0      1892      \\N             12   \n",
       "4                  Blacksmith Scene       0      1893      \\N              1   \n",
       "...                             ...     ...       ...     ...            ...   \n",
       "10295872              Episode #3.17       0      2009      \\N             \\N   \n",
       "10295873              Episode #3.19       0      2010      \\N             \\N   \n",
       "10295874              Episode #3.20       0      2010      \\N             \\N   \n",
       "10295875                   The Wind       0      2015      \\N             27   \n",
       "10295876  Horrid Henry Knows It All       0      2014      \\N             10   \n",
       "\n",
       "                              genres  \n",
       "0                  Documentary,Short  \n",
       "1                    Animation,Short  \n",
       "2           Animation,Comedy,Romance  \n",
       "3                    Animation,Short  \n",
       "4                       Comedy,Short  \n",
       "...                              ...  \n",
       "10295872         Action,Drama,Family  \n",
       "10295873         Action,Drama,Family  \n",
       "10295874         Action,Drama,Family  \n",
       "10295875                       Short  \n",
       "10295876  Adventure,Animation,Comedy  \n",
       "\n",
       "[10295877 rows x 9 columns]"
      ]
     },
     "metadata": {},
     "output_type": "display_data"
    }
   ],
   "source": [
    "display(IMDB_title)"
   ]
  },
  {
   "cell_type": "code",
   "execution_count": 35,
   "metadata": {},
   "outputs": [
    {
     "data": {
      "text/html": [
       "<div>\n",
       "<style scoped>\n",
       "    .dataframe tbody tr th:only-of-type {\n",
       "        vertical-align: middle;\n",
       "    }\n",
       "\n",
       "    .dataframe tbody tr th {\n",
       "        vertical-align: top;\n",
       "    }\n",
       "\n",
       "    .dataframe thead th {\n",
       "        text-align: right;\n",
       "    }\n",
       "</style>\n",
       "<table border=\"1\" class=\"dataframe\">\n",
       "  <thead>\n",
       "    <tr style=\"text-align: right;\">\n",
       "      <th></th>\n",
       "      <th>tconst</th>\n",
       "      <th>titleType</th>\n",
       "      <th>primaryTitle</th>\n",
       "      <th>originalTitle</th>\n",
       "      <th>isAdult</th>\n",
       "      <th>startYear</th>\n",
       "      <th>endYear</th>\n",
       "      <th>runtimeMinutes</th>\n",
       "      <th>genres</th>\n",
       "      <th>averageRating</th>\n",
       "      <th>numVotes</th>\n",
       "    </tr>\n",
       "  </thead>\n",
       "  <tbody>\n",
       "    <tr>\n",
       "      <th>0</th>\n",
       "      <td>tt0000009</td>\n",
       "      <td>movie</td>\n",
       "      <td>Miss Jerry</td>\n",
       "      <td>Miss Jerry</td>\n",
       "      <td>0</td>\n",
       "      <td>1894</td>\n",
       "      <td>\\N</td>\n",
       "      <td>45</td>\n",
       "      <td>Romance</td>\n",
       "      <td>5.3</td>\n",
       "      <td>207</td>\n",
       "    </tr>\n",
       "    <tr>\n",
       "      <th>1</th>\n",
       "      <td>tt0000147</td>\n",
       "      <td>movie</td>\n",
       "      <td>The Corbett-Fitzsimmons Fight</td>\n",
       "      <td>The Corbett-Fitzsimmons Fight</td>\n",
       "      <td>0</td>\n",
       "      <td>1897</td>\n",
       "      <td>\\N</td>\n",
       "      <td>100</td>\n",
       "      <td>Documentary,News,Sport</td>\n",
       "      <td>5.3</td>\n",
       "      <td>484</td>\n",
       "    </tr>\n",
       "    <tr>\n",
       "      <th>2</th>\n",
       "      <td>tt0000502</td>\n",
       "      <td>movie</td>\n",
       "      <td>Bohemios</td>\n",
       "      <td>Bohemios</td>\n",
       "      <td>0</td>\n",
       "      <td>1905</td>\n",
       "      <td>\\N</td>\n",
       "      <td>100</td>\n",
       "      <td>\\N</td>\n",
       "      <td>4.1</td>\n",
       "      <td>15</td>\n",
       "    </tr>\n",
       "    <tr>\n",
       "      <th>3</th>\n",
       "      <td>tt0000574</td>\n",
       "      <td>movie</td>\n",
       "      <td>The Story of the Kelly Gang</td>\n",
       "      <td>The Story of the Kelly Gang</td>\n",
       "      <td>0</td>\n",
       "      <td>1906</td>\n",
       "      <td>\\N</td>\n",
       "      <td>70</td>\n",
       "      <td>Action,Adventure,Biography</td>\n",
       "      <td>6.0</td>\n",
       "      <td>855</td>\n",
       "    </tr>\n",
       "    <tr>\n",
       "      <th>4</th>\n",
       "      <td>tt0000591</td>\n",
       "      <td>movie</td>\n",
       "      <td>The Prodigal Son</td>\n",
       "      <td>L'enfant prodigue</td>\n",
       "      <td>0</td>\n",
       "      <td>1907</td>\n",
       "      <td>\\N</td>\n",
       "      <td>90</td>\n",
       "      <td>Drama</td>\n",
       "      <td>5.0</td>\n",
       "      <td>21</td>\n",
       "    </tr>\n",
       "    <tr>\n",
       "      <th>...</th>\n",
       "      <td>...</td>\n",
       "      <td>...</td>\n",
       "      <td>...</td>\n",
       "      <td>...</td>\n",
       "      <td>...</td>\n",
       "      <td>...</td>\n",
       "      <td>...</td>\n",
       "      <td>...</td>\n",
       "      <td>...</td>\n",
       "      <td>...</td>\n",
       "      <td>...</td>\n",
       "    </tr>\n",
       "    <tr>\n",
       "      <th>299653</th>\n",
       "      <td>tt9916270</td>\n",
       "      <td>movie</td>\n",
       "      <td>Il talento del calabrone</td>\n",
       "      <td>Il talento del calabrone</td>\n",
       "      <td>0</td>\n",
       "      <td>2020</td>\n",
       "      <td>\\N</td>\n",
       "      <td>84</td>\n",
       "      <td>Thriller</td>\n",
       "      <td>5.8</td>\n",
       "      <td>1448</td>\n",
       "    </tr>\n",
       "    <tr>\n",
       "      <th>299654</th>\n",
       "      <td>tt9916362</td>\n",
       "      <td>movie</td>\n",
       "      <td>Coven</td>\n",
       "      <td>Akelarre</td>\n",
       "      <td>0</td>\n",
       "      <td>2020</td>\n",
       "      <td>\\N</td>\n",
       "      <td>92</td>\n",
       "      <td>Drama,History</td>\n",
       "      <td>6.4</td>\n",
       "      <td>5605</td>\n",
       "    </tr>\n",
       "    <tr>\n",
       "      <th>299655</th>\n",
       "      <td>tt9916428</td>\n",
       "      <td>movie</td>\n",
       "      <td>The Secret of China</td>\n",
       "      <td>Hong xing zhao yao Zhong guo</td>\n",
       "      <td>0</td>\n",
       "      <td>2019</td>\n",
       "      <td>\\N</td>\n",
       "      <td>\\N</td>\n",
       "      <td>Adventure,History,War</td>\n",
       "      <td>3.5</td>\n",
       "      <td>17</td>\n",
       "    </tr>\n",
       "    <tr>\n",
       "      <th>299656</th>\n",
       "      <td>tt9916538</td>\n",
       "      <td>movie</td>\n",
       "      <td>Kuambil Lagi Hatiku</td>\n",
       "      <td>Kuambil Lagi Hatiku</td>\n",
       "      <td>0</td>\n",
       "      <td>2019</td>\n",
       "      <td>\\N</td>\n",
       "      <td>123</td>\n",
       "      <td>Drama</td>\n",
       "      <td>8.6</td>\n",
       "      <td>7</td>\n",
       "    </tr>\n",
       "    <tr>\n",
       "      <th>299657</th>\n",
       "      <td>tt9916730</td>\n",
       "      <td>movie</td>\n",
       "      <td>6 Gunn</td>\n",
       "      <td>6 Gunn</td>\n",
       "      <td>0</td>\n",
       "      <td>2017</td>\n",
       "      <td>\\N</td>\n",
       "      <td>116</td>\n",
       "      <td>Drama</td>\n",
       "      <td>7.6</td>\n",
       "      <td>11</td>\n",
       "    </tr>\n",
       "  </tbody>\n",
       "</table>\n",
       "<p>299658 rows × 11 columns</p>\n",
       "</div>"
      ],
      "text/plain": [
       "           tconst titleType                   primaryTitle  \\\n",
       "0       tt0000009     movie                     Miss Jerry   \n",
       "1       tt0000147     movie  The Corbett-Fitzsimmons Fight   \n",
       "2       tt0000502     movie                       Bohemios   \n",
       "3       tt0000574     movie    The Story of the Kelly Gang   \n",
       "4       tt0000591     movie               The Prodigal Son   \n",
       "...           ...       ...                            ...   \n",
       "299653  tt9916270     movie       Il talento del calabrone   \n",
       "299654  tt9916362     movie                          Coven   \n",
       "299655  tt9916428     movie            The Secret of China   \n",
       "299656  tt9916538     movie            Kuambil Lagi Hatiku   \n",
       "299657  tt9916730     movie                         6 Gunn   \n",
       "\n",
       "                        originalTitle isAdult startYear endYear  \\\n",
       "0                          Miss Jerry       0      1894      \\N   \n",
       "1       The Corbett-Fitzsimmons Fight       0      1897      \\N   \n",
       "2                            Bohemios       0      1905      \\N   \n",
       "3         The Story of the Kelly Gang       0      1906      \\N   \n",
       "4                   L'enfant prodigue       0      1907      \\N   \n",
       "...                               ...     ...       ...     ...   \n",
       "299653       Il talento del calabrone       0      2020      \\N   \n",
       "299654                       Akelarre       0      2020      \\N   \n",
       "299655   Hong xing zhao yao Zhong guo       0      2019      \\N   \n",
       "299656            Kuambil Lagi Hatiku       0      2019      \\N   \n",
       "299657                         6 Gunn       0      2017      \\N   \n",
       "\n",
       "       runtimeMinutes                      genres  averageRating  numVotes  \n",
       "0                  45                     Romance            5.3       207  \n",
       "1                 100      Documentary,News,Sport            5.3       484  \n",
       "2                 100                          \\N            4.1        15  \n",
       "3                  70  Action,Adventure,Biography            6.0       855  \n",
       "4                  90                       Drama            5.0        21  \n",
       "...               ...                         ...            ...       ...  \n",
       "299653             84                    Thriller            5.8      1448  \n",
       "299654             92               Drama,History            6.4      5605  \n",
       "299655             \\N       Adventure,History,War            3.5        17  \n",
       "299656            123                       Drama            8.6         7  \n",
       "299657            116                       Drama            7.6        11  \n",
       "\n",
       "[299658 rows x 11 columns]"
      ]
     },
     "metadata": {},
     "output_type": "display_data"
    }
   ],
   "source": [
    "# only choose the rows which correspond to data of a movie\n",
    "IMDB_title = IMDB_title[IMDB_title['titleType'] == 'movie'].copy(deep=True)\n",
    "\n",
    "#merge the dataset with the titles and the dataset with the ratings\n",
    "df_IMDB = IMDB_title.merge(IMDB_ratings, left_on='tconst', right_on='tconst')\n",
    "display(df_IMDB)"
   ]
  },
  {
   "cell_type": "markdown",
   "metadata": {},
   "source": [
    "Let's check if there are aberrant values in the averageRating column, for example negative values or values higher than 10."
   ]
  },
  {
   "cell_type": "code",
   "execution_count": 36,
   "metadata": {},
   "outputs": [
    {
     "data": {
      "text/html": [
       "<div>\n",
       "<style scoped>\n",
       "    .dataframe tbody tr th:only-of-type {\n",
       "        vertical-align: middle;\n",
       "    }\n",
       "\n",
       "    .dataframe tbody tr th {\n",
       "        vertical-align: top;\n",
       "    }\n",
       "\n",
       "    .dataframe thead th {\n",
       "        text-align: right;\n",
       "    }\n",
       "</style>\n",
       "<table border=\"1\" class=\"dataframe\">\n",
       "  <thead>\n",
       "    <tr style=\"text-align: right;\">\n",
       "      <th></th>\n",
       "      <th>averageRating</th>\n",
       "      <th>numVotes</th>\n",
       "    </tr>\n",
       "  </thead>\n",
       "  <tbody>\n",
       "    <tr>\n",
       "      <th>count</th>\n",
       "      <td>299658.000000</td>\n",
       "      <td>2.996580e+05</td>\n",
       "    </tr>\n",
       "    <tr>\n",
       "      <th>mean</th>\n",
       "      <td>6.175995</td>\n",
       "      <td>3.619263e+03</td>\n",
       "    </tr>\n",
       "    <tr>\n",
       "      <th>std</th>\n",
       "      <td>1.370387</td>\n",
       "      <td>3.570741e+04</td>\n",
       "    </tr>\n",
       "    <tr>\n",
       "      <th>min</th>\n",
       "      <td>1.000000</td>\n",
       "      <td>5.000000e+00</td>\n",
       "    </tr>\n",
       "    <tr>\n",
       "      <th>25%</th>\n",
       "      <td>5.300000</td>\n",
       "      <td>1.900000e+01</td>\n",
       "    </tr>\n",
       "    <tr>\n",
       "      <th>50%</th>\n",
       "      <td>6.300000</td>\n",
       "      <td>6.100000e+01</td>\n",
       "    </tr>\n",
       "    <tr>\n",
       "      <th>75%</th>\n",
       "      <td>7.100000</td>\n",
       "      <td>3.130000e+02</td>\n",
       "    </tr>\n",
       "    <tr>\n",
       "      <th>max</th>\n",
       "      <td>10.000000</td>\n",
       "      <td>2.816055e+06</td>\n",
       "    </tr>\n",
       "  </tbody>\n",
       "</table>\n",
       "</div>"
      ],
      "text/plain": [
       "       averageRating      numVotes\n",
       "count  299658.000000  2.996580e+05\n",
       "mean        6.175995  3.619263e+03\n",
       "std         1.370387  3.570741e+04\n",
       "min         1.000000  5.000000e+00\n",
       "25%         5.300000  1.900000e+01\n",
       "50%         6.300000  6.100000e+01\n",
       "75%         7.100000  3.130000e+02\n",
       "max        10.000000  2.816055e+06"
      ]
     },
     "execution_count": 36,
     "metadata": {},
     "output_type": "execute_result"
    }
   ],
   "source": [
    "df_IMDB.describe()"
   ]
  },
  {
   "cell_type": "markdown",
   "metadata": {},
   "source": [
    "There are no aberrant values in the averageRating column."
   ]
  },
  {
   "cell_type": "markdown",
   "metadata": {},
   "source": [
    "### Calculate the average rating of each movie"
   ]
  },
  {
   "cell_type": "markdown",
   "metadata": {},
   "source": [
    "We want to have the average rating of each movie. In df_IMDB, we have several ratings for each movies; indeed, the same movie (characterized by its 'orginialTitle') has a grade for each 'primaryTitle' used.\n",
    "In the calculation of the average rating per originalTitle, we will ponderate the rating per primaryTitle with the number of votes per primaryTitle.\n",
    "Then, we will calculate the average rating across all primaryTitle i for an originalTitle as :  \n",
    "$Average\\, Rating\\, of\\, originalTitle =\\frac{\\sum {average\\,rating\\,of\\,primaryTitle(i) \\times number\\,of\\,votes\\,of\\,primaryTitle(i)}} {\\sum{number\\,of\\,votes\\,of\\,primaryTitle(i)}}$"
   ]
  },
  {
   "cell_type": "code",
   "execution_count": 37,
   "metadata": {},
   "outputs": [
    {
     "data": {
      "text/html": [
       "<div>\n",
       "<style scoped>\n",
       "    .dataframe tbody tr th:only-of-type {\n",
       "        vertical-align: middle;\n",
       "    }\n",
       "\n",
       "    .dataframe tbody tr th {\n",
       "        vertical-align: top;\n",
       "    }\n",
       "\n",
       "    .dataframe thead th {\n",
       "        text-align: right;\n",
       "    }\n",
       "</style>\n",
       "<table border=\"1\" class=\"dataframe\">\n",
       "  <thead>\n",
       "    <tr style=\"text-align: right;\">\n",
       "      <th></th>\n",
       "      <th>MovieName</th>\n",
       "      <th>ReleaseYear</th>\n",
       "      <th>AverageRating</th>\n",
       "      <th>NumberofVotes</th>\n",
       "    </tr>\n",
       "  </thead>\n",
       "  <tbody>\n",
       "    <tr>\n",
       "      <th>0</th>\n",
       "      <td>Miss Jerry</td>\n",
       "      <td>1894.0</td>\n",
       "      <td>5.300000</td>\n",
       "      <td>207</td>\n",
       "    </tr>\n",
       "    <tr>\n",
       "      <th>1</th>\n",
       "      <td>The Corbett-Fitzsimmons Fight</td>\n",
       "      <td>1897.0</td>\n",
       "      <td>5.300000</td>\n",
       "      <td>484</td>\n",
       "    </tr>\n",
       "    <tr>\n",
       "      <th>2</th>\n",
       "      <td>Bohemios</td>\n",
       "      <td>1905.0</td>\n",
       "      <td>4.285714</td>\n",
       "      <td>28</td>\n",
       "    </tr>\n",
       "    <tr>\n",
       "      <th>3</th>\n",
       "      <td>The Story of the Kelly Gang</td>\n",
       "      <td>1906.0</td>\n",
       "      <td>6.000000</td>\n",
       "      <td>855</td>\n",
       "    </tr>\n",
       "    <tr>\n",
       "      <th>4</th>\n",
       "      <td>The Prodigal Son</td>\n",
       "      <td>1907.0</td>\n",
       "      <td>5.036364</td>\n",
       "      <td>33</td>\n",
       "    </tr>\n",
       "    <tr>\n",
       "      <th>...</th>\n",
       "      <td>...</td>\n",
       "      <td>...</td>\n",
       "      <td>...</td>\n",
       "      <td>...</td>\n",
       "    </tr>\n",
       "    <tr>\n",
       "      <th>299652</th>\n",
       "      <td>Safeguard</td>\n",
       "      <td>2020.0</td>\n",
       "      <td>3.700000</td>\n",
       "      <td>245</td>\n",
       "    </tr>\n",
       "    <tr>\n",
       "      <th>299653</th>\n",
       "      <td>Il talento del calabrone</td>\n",
       "      <td>2020.0</td>\n",
       "      <td>5.800000</td>\n",
       "      <td>1448</td>\n",
       "    </tr>\n",
       "    <tr>\n",
       "      <th>299655</th>\n",
       "      <td>The Secret of China</td>\n",
       "      <td>2019.0</td>\n",
       "      <td>3.500000</td>\n",
       "      <td>17</td>\n",
       "    </tr>\n",
       "    <tr>\n",
       "      <th>299656</th>\n",
       "      <td>Kuambil Lagi Hatiku</td>\n",
       "      <td>2019.0</td>\n",
       "      <td>8.600000</td>\n",
       "      <td>7</td>\n",
       "    </tr>\n",
       "    <tr>\n",
       "      <th>299657</th>\n",
       "      <td>6 Gunn</td>\n",
       "      <td>2017.0</td>\n",
       "      <td>7.600000</td>\n",
       "      <td>11</td>\n",
       "    </tr>\n",
       "  </tbody>\n",
       "</table>\n",
       "<p>297972 rows × 4 columns</p>\n",
       "</div>"
      ],
      "text/plain": [
       "                            MovieName  ReleaseYear  AverageRating  \\\n",
       "0                          Miss Jerry       1894.0       5.300000   \n",
       "1       The Corbett-Fitzsimmons Fight       1897.0       5.300000   \n",
       "2                            Bohemios       1905.0       4.285714   \n",
       "3         The Story of the Kelly Gang       1906.0       6.000000   \n",
       "4                    The Prodigal Son       1907.0       5.036364   \n",
       "...                               ...          ...            ...   \n",
       "299652                      Safeguard       2020.0       3.700000   \n",
       "299653       Il talento del calabrone       2020.0       5.800000   \n",
       "299655            The Secret of China       2019.0       3.500000   \n",
       "299656            Kuambil Lagi Hatiku       2019.0       8.600000   \n",
       "299657                         6 Gunn       2017.0       7.600000   \n",
       "\n",
       "        NumberofVotes  \n",
       "0                 207  \n",
       "1                 484  \n",
       "2                  28  \n",
       "3                 855  \n",
       "4                  33  \n",
       "...               ...  \n",
       "299652            245  \n",
       "299653           1448  \n",
       "299655             17  \n",
       "299656              7  \n",
       "299657             11  \n",
       "\n",
       "[297972 rows x 4 columns]"
      ]
     },
     "metadata": {},
     "output_type": "display_data"
    }
   ],
   "source": [
    "#create datasets of average ratings of a movie considering the ratings of movies with titles in different language\n",
    "\n",
    "\n",
    "#Calculate average_rating_language(i) * number_of_votes_language(i) (ponderate)\n",
    "df_IMDB['mult_ratings'] = df_IMDB['averageRating']*df_IMDB['numVotes']\n",
    "\n",
    "average_ratings = pd.DataFrame()\n",
    "average_ratings['sum_of_mult_ratings'] = df_IMDB[['originalTitle', 'mult_ratings']].groupby('originalTitle').sum()\n",
    "average_ratings['total_vote'] = df_IMDB[['originalTitle', 'numVotes']].groupby('originalTitle').sum()\n",
    "average_ratings['total_average_rating'] = average_ratings['sum_of_mult_ratings']/average_ratings['total_vote']\n",
    "\n",
    "average_ratings = average_ratings.reset_index(level=0)\n",
    "\n",
    "#Create a new dataframe with the movies primary titles, release years, and average ratings.\n",
    "ratings = df_IMDB.merge(average_ratings[['total_average_rating', 'originalTitle', 'total_vote']], how = 'left', on = 'originalTitle')\n",
    "ratings=ratings[['primaryTitle', 'startYear', 'total_average_rating', 'total_vote']]\n",
    "ratings=ratings.drop_duplicates(subset=['primaryTitle', 'startYear' ]).copy(deep=True)\n",
    "\n",
    "#Prepare the dataset to be merged with CMU movies.\n",
    "ratings= ratings.rename(columns = {\"primaryTitle\" : \"MovieName\", \"startYear\" : \"ReleaseYear\", \"total_average_rating\" : \"AverageRating\", \"total_vote\" : \"NumberofVotes\"})\n",
    "ratings[\"ReleaseYear\"]=pd.to_datetime(ratings[\"ReleaseYear\"], errors='coerce').dt.year\n",
    "\n",
    "display(ratings)"
   ]
  },
  {
   "cell_type": "markdown",
   "metadata": {},
   "source": [
    "### Merge with the CMU movies dataset"
   ]
  },
  {
   "cell_type": "markdown",
   "metadata": {},
   "source": [
    "We populate our movies dataset with the available movie ratings. "
   ]
  },
  {
   "cell_type": "code",
   "execution_count": 38,
   "metadata": {},
   "outputs": [
    {
     "data": {
      "text/html": [
       "<div>\n",
       "<style scoped>\n",
       "    .dataframe tbody tr th:only-of-type {\n",
       "        vertical-align: middle;\n",
       "    }\n",
       "\n",
       "    .dataframe tbody tr th {\n",
       "        vertical-align: top;\n",
       "    }\n",
       "\n",
       "    .dataframe thead th {\n",
       "        text-align: right;\n",
       "    }\n",
       "</style>\n",
       "<table border=\"1\" class=\"dataframe\">\n",
       "  <thead>\n",
       "    <tr style=\"text-align: right;\">\n",
       "      <th></th>\n",
       "      <th>WikiMovieID</th>\n",
       "      <th>FreebaseMovieID</th>\n",
       "      <th>MovieName</th>\n",
       "      <th>ReleaseDate</th>\n",
       "      <th>BORevenue</th>\n",
       "      <th>Languages</th>\n",
       "      <th>Countries</th>\n",
       "      <th>MovieGenre</th>\n",
       "      <th>ReleaseYear</th>\n",
       "      <th>CharacterName</th>\n",
       "      <th>Gender</th>\n",
       "      <th>Ethnicity</th>\n",
       "      <th>ActorName</th>\n",
       "      <th>Age</th>\n",
       "      <th>FreebaseActorMapID</th>\n",
       "      <th>FreebaseCharacterID</th>\n",
       "      <th>FreebaseActorID</th>\n",
       "      <th>AverageRating</th>\n",
       "      <th>NumberofVotes</th>\n",
       "    </tr>\n",
       "  </thead>\n",
       "  <tbody>\n",
       "    <tr>\n",
       "      <th>0</th>\n",
       "      <td>975900</td>\n",
       "      <td>/m/03vyhn</td>\n",
       "      <td>Ghosts of Mars</td>\n",
       "      <td>2001-08-24</td>\n",
       "      <td>14010832.0</td>\n",
       "      <td>{'/m/02h40lc': 'English Language'}</td>\n",
       "      <td>{'/m/09c7w0': 'United States of America'}</td>\n",
       "      <td>{'/m/01jfsb': 'Thriller', '/m/06n90': 'Science...</td>\n",
       "      <td>2001.0</td>\n",
       "      <td>Akooshay</td>\n",
       "      <td>F</td>\n",
       "      <td>NaN</td>\n",
       "      <td>Wanda De Jesus</td>\n",
       "      <td>42.0</td>\n",
       "      <td>/m/0bgchxw</td>\n",
       "      <td>/m/0bgcj3x</td>\n",
       "      <td>/m/03wcfv7</td>\n",
       "      <td>4.9</td>\n",
       "      <td>56894.0</td>\n",
       "    </tr>\n",
       "    <tr>\n",
       "      <th>1</th>\n",
       "      <td>975900</td>\n",
       "      <td>/m/03vyhn</td>\n",
       "      <td>Ghosts of Mars</td>\n",
       "      <td>2001-08-24</td>\n",
       "      <td>14010832.0</td>\n",
       "      <td>{'/m/02h40lc': 'English Language'}</td>\n",
       "      <td>{'/m/09c7w0': 'United States of America'}</td>\n",
       "      <td>{'/m/01jfsb': 'Thriller', '/m/06n90': 'Science...</td>\n",
       "      <td>2001.0</td>\n",
       "      <td>Lieutenant Melanie Ballard</td>\n",
       "      <td>F</td>\n",
       "      <td>/m/044038p</td>\n",
       "      <td>Natasha Henstridge</td>\n",
       "      <td>27.0</td>\n",
       "      <td>/m/0jys3m</td>\n",
       "      <td>/m/0bgchn4</td>\n",
       "      <td>/m/0346l4</td>\n",
       "      <td>4.9</td>\n",
       "      <td>56894.0</td>\n",
       "    </tr>\n",
       "    <tr>\n",
       "      <th>2</th>\n",
       "      <td>975900</td>\n",
       "      <td>/m/03vyhn</td>\n",
       "      <td>Ghosts of Mars</td>\n",
       "      <td>2001-08-24</td>\n",
       "      <td>14010832.0</td>\n",
       "      <td>{'/m/02h40lc': 'English Language'}</td>\n",
       "      <td>{'/m/09c7w0': 'United States of America'}</td>\n",
       "      <td>{'/m/01jfsb': 'Thriller', '/m/06n90': 'Science...</td>\n",
       "      <td>2001.0</td>\n",
       "      <td>Desolation Williams</td>\n",
       "      <td>M</td>\n",
       "      <td>/m/0x67</td>\n",
       "      <td>Ice Cube</td>\n",
       "      <td>32.0</td>\n",
       "      <td>/m/0jys3g</td>\n",
       "      <td>/m/0bgchn_</td>\n",
       "      <td>/m/01vw26l</td>\n",
       "      <td>4.9</td>\n",
       "      <td>56894.0</td>\n",
       "    </tr>\n",
       "    <tr>\n",
       "      <th>3</th>\n",
       "      <td>975900</td>\n",
       "      <td>/m/03vyhn</td>\n",
       "      <td>Ghosts of Mars</td>\n",
       "      <td>2001-08-24</td>\n",
       "      <td>14010832.0</td>\n",
       "      <td>{'/m/02h40lc': 'English Language'}</td>\n",
       "      <td>{'/m/09c7w0': 'United States of America'}</td>\n",
       "      <td>{'/m/01jfsb': 'Thriller', '/m/06n90': 'Science...</td>\n",
       "      <td>2001.0</td>\n",
       "      <td>Sgt Jericho Butler</td>\n",
       "      <td>M</td>\n",
       "      <td>NaN</td>\n",
       "      <td>Jason Statham</td>\n",
       "      <td>33.0</td>\n",
       "      <td>/m/02vchl6</td>\n",
       "      <td>/m/0bgchnq</td>\n",
       "      <td>/m/034hyc</td>\n",
       "      <td>4.9</td>\n",
       "      <td>56894.0</td>\n",
       "    </tr>\n",
       "    <tr>\n",
       "      <th>4</th>\n",
       "      <td>975900</td>\n",
       "      <td>/m/03vyhn</td>\n",
       "      <td>Ghosts of Mars</td>\n",
       "      <td>2001-08-24</td>\n",
       "      <td>14010832.0</td>\n",
       "      <td>{'/m/02h40lc': 'English Language'}</td>\n",
       "      <td>{'/m/09c7w0': 'United States of America'}</td>\n",
       "      <td>{'/m/01jfsb': 'Thriller', '/m/06n90': 'Science...</td>\n",
       "      <td>2001.0</td>\n",
       "      <td>Bashira Kincaid</td>\n",
       "      <td>F</td>\n",
       "      <td>NaN</td>\n",
       "      <td>Clea DuVall</td>\n",
       "      <td>23.0</td>\n",
       "      <td>/m/02vbb3r</td>\n",
       "      <td>/m/0bgchp9</td>\n",
       "      <td>/m/01y9xg</td>\n",
       "      <td>4.9</td>\n",
       "      <td>56894.0</td>\n",
       "    </tr>\n",
       "    <tr>\n",
       "      <th>...</th>\n",
       "      <td>...</td>\n",
       "      <td>...</td>\n",
       "      <td>...</td>\n",
       "      <td>...</td>\n",
       "      <td>...</td>\n",
       "      <td>...</td>\n",
       "      <td>...</td>\n",
       "      <td>...</td>\n",
       "      <td>...</td>\n",
       "      <td>...</td>\n",
       "      <td>...</td>\n",
       "      <td>...</td>\n",
       "      <td>...</td>\n",
       "      <td>...</td>\n",
       "      <td>...</td>\n",
       "      <td>...</td>\n",
       "      <td>...</td>\n",
       "      <td>...</td>\n",
       "      <td>...</td>\n",
       "    </tr>\n",
       "    <tr>\n",
       "      <th>68553</th>\n",
       "      <td>35061219</td>\n",
       "      <td>/m/0h2jw2t</td>\n",
       "      <td>Payback Season</td>\n",
       "      <td>2012-03-09</td>\n",
       "      <td>NaN</td>\n",
       "      <td>{'/m/02h40lc': 'English Language'}</td>\n",
       "      <td>{'/m/07ssc': 'United Kingdom'}</td>\n",
       "      <td>{'/m/07s9rl0': 'Drama'}</td>\n",
       "      <td>2012.0</td>\n",
       "      <td>Andy</td>\n",
       "      <td>M</td>\n",
       "      <td>NaN</td>\n",
       "      <td>Leo Gregory</td>\n",
       "      <td>33.0</td>\n",
       "      <td>/m/0h9757y</td>\n",
       "      <td>/m/0h97kj1</td>\n",
       "      <td>/m/04ghm8g</td>\n",
       "      <td>3.7</td>\n",
       "      <td>649.0</td>\n",
       "    </tr>\n",
       "    <tr>\n",
       "      <th>68554</th>\n",
       "      <td>35061219</td>\n",
       "      <td>/m/0h2jw2t</td>\n",
       "      <td>Payback Season</td>\n",
       "      <td>2012-03-09</td>\n",
       "      <td>NaN</td>\n",
       "      <td>{'/m/02h40lc': 'English Language'}</td>\n",
       "      <td>{'/m/07ssc': 'United Kingdom'}</td>\n",
       "      <td>{'/m/07s9rl0': 'Drama'}</td>\n",
       "      <td>2012.0</td>\n",
       "      <td>Lisa</td>\n",
       "      <td>F</td>\n",
       "      <td>NaN</td>\n",
       "      <td>Nichola Burley</td>\n",
       "      <td>25.0</td>\n",
       "      <td>/m/0h9759t</td>\n",
       "      <td>/m/0h97kj9</td>\n",
       "      <td>/m/0404916</td>\n",
       "      <td>3.7</td>\n",
       "      <td>649.0</td>\n",
       "    </tr>\n",
       "    <tr>\n",
       "      <th>68555</th>\n",
       "      <td>35061219</td>\n",
       "      <td>/m/0h2jw2t</td>\n",
       "      <td>Payback Season</td>\n",
       "      <td>2012-03-09</td>\n",
       "      <td>NaN</td>\n",
       "      <td>{'/m/02h40lc': 'English Language'}</td>\n",
       "      <td>{'/m/07ssc': 'United Kingdom'}</td>\n",
       "      <td>{'/m/07s9rl0': 'Drama'}</td>\n",
       "      <td>2012.0</td>\n",
       "      <td>Katie</td>\n",
       "      <td>F</td>\n",
       "      <td>NaN</td>\n",
       "      <td>Stephanie Siadatan</td>\n",
       "      <td>NaN</td>\n",
       "      <td>/m/0h97593</td>\n",
       "      <td>/m/0h97kh1</td>\n",
       "      <td>/m/0h97596</td>\n",
       "      <td>3.7</td>\n",
       "      <td>649.0</td>\n",
       "    </tr>\n",
       "    <tr>\n",
       "      <th>68556</th>\n",
       "      <td>35061219</td>\n",
       "      <td>/m/0h2jw2t</td>\n",
       "      <td>Payback Season</td>\n",
       "      <td>2012-03-09</td>\n",
       "      <td>NaN</td>\n",
       "      <td>{'/m/02h40lc': 'English Language'}</td>\n",
       "      <td>{'/m/07ssc': 'United Kingdom'}</td>\n",
       "      <td>{'/m/07s9rl0': 'Drama'}</td>\n",
       "      <td>2012.0</td>\n",
       "      <td>Brooksy</td>\n",
       "      <td>M</td>\n",
       "      <td>NaN</td>\n",
       "      <td>Bronson Webb</td>\n",
       "      <td>29.0</td>\n",
       "      <td>/m/0h9759g</td>\n",
       "      <td>/m/0h97kk9</td>\n",
       "      <td>/m/0bb9qzp</td>\n",
       "      <td>3.7</td>\n",
       "      <td>649.0</td>\n",
       "    </tr>\n",
       "    <tr>\n",
       "      <th>68557</th>\n",
       "      <td>35061219</td>\n",
       "      <td>/m/0h2jw2t</td>\n",
       "      <td>Payback Season</td>\n",
       "      <td>2012-03-09</td>\n",
       "      <td>NaN</td>\n",
       "      <td>{'/m/02h40lc': 'English Language'}</td>\n",
       "      <td>{'/m/07ssc': 'United Kingdom'}</td>\n",
       "      <td>{'/m/07s9rl0': 'Drama'}</td>\n",
       "      <td>2012.0</td>\n",
       "      <td>Clarissa</td>\n",
       "      <td>F</td>\n",
       "      <td>NaN</td>\n",
       "      <td>Zaraah Abrahams</td>\n",
       "      <td>24.0</td>\n",
       "      <td>/m/0h9759m</td>\n",
       "      <td>/m/0h97klb</td>\n",
       "      <td>/m/0fy268</td>\n",
       "      <td>3.7</td>\n",
       "      <td>649.0</td>\n",
       "    </tr>\n",
       "  </tbody>\n",
       "</table>\n",
       "<p>68558 rows × 19 columns</p>\n",
       "</div>"
      ],
      "text/plain": [
       "       WikiMovieID FreebaseMovieID       MovieName ReleaseDate   BORevenue  \\\n",
       "0           975900       /m/03vyhn  Ghosts of Mars  2001-08-24  14010832.0   \n",
       "1           975900       /m/03vyhn  Ghosts of Mars  2001-08-24  14010832.0   \n",
       "2           975900       /m/03vyhn  Ghosts of Mars  2001-08-24  14010832.0   \n",
       "3           975900       /m/03vyhn  Ghosts of Mars  2001-08-24  14010832.0   \n",
       "4           975900       /m/03vyhn  Ghosts of Mars  2001-08-24  14010832.0   \n",
       "...            ...             ...             ...         ...         ...   \n",
       "68553     35061219      /m/0h2jw2t  Payback Season  2012-03-09         NaN   \n",
       "68554     35061219      /m/0h2jw2t  Payback Season  2012-03-09         NaN   \n",
       "68555     35061219      /m/0h2jw2t  Payback Season  2012-03-09         NaN   \n",
       "68556     35061219      /m/0h2jw2t  Payback Season  2012-03-09         NaN   \n",
       "68557     35061219      /m/0h2jw2t  Payback Season  2012-03-09         NaN   \n",
       "\n",
       "                                Languages  \\\n",
       "0      {'/m/02h40lc': 'English Language'}   \n",
       "1      {'/m/02h40lc': 'English Language'}   \n",
       "2      {'/m/02h40lc': 'English Language'}   \n",
       "3      {'/m/02h40lc': 'English Language'}   \n",
       "4      {'/m/02h40lc': 'English Language'}   \n",
       "...                                   ...   \n",
       "68553  {'/m/02h40lc': 'English Language'}   \n",
       "68554  {'/m/02h40lc': 'English Language'}   \n",
       "68555  {'/m/02h40lc': 'English Language'}   \n",
       "68556  {'/m/02h40lc': 'English Language'}   \n",
       "68557  {'/m/02h40lc': 'English Language'}   \n",
       "\n",
       "                                       Countries  \\\n",
       "0      {'/m/09c7w0': 'United States of America'}   \n",
       "1      {'/m/09c7w0': 'United States of America'}   \n",
       "2      {'/m/09c7w0': 'United States of America'}   \n",
       "3      {'/m/09c7w0': 'United States of America'}   \n",
       "4      {'/m/09c7w0': 'United States of America'}   \n",
       "...                                          ...   \n",
       "68553             {'/m/07ssc': 'United Kingdom'}   \n",
       "68554             {'/m/07ssc': 'United Kingdom'}   \n",
       "68555             {'/m/07ssc': 'United Kingdom'}   \n",
       "68556             {'/m/07ssc': 'United Kingdom'}   \n",
       "68557             {'/m/07ssc': 'United Kingdom'}   \n",
       "\n",
       "                                              MovieGenre  ReleaseYear  \\\n",
       "0      {'/m/01jfsb': 'Thriller', '/m/06n90': 'Science...       2001.0   \n",
       "1      {'/m/01jfsb': 'Thriller', '/m/06n90': 'Science...       2001.0   \n",
       "2      {'/m/01jfsb': 'Thriller', '/m/06n90': 'Science...       2001.0   \n",
       "3      {'/m/01jfsb': 'Thriller', '/m/06n90': 'Science...       2001.0   \n",
       "4      {'/m/01jfsb': 'Thriller', '/m/06n90': 'Science...       2001.0   \n",
       "...                                                  ...          ...   \n",
       "68553                            {'/m/07s9rl0': 'Drama'}       2012.0   \n",
       "68554                            {'/m/07s9rl0': 'Drama'}       2012.0   \n",
       "68555                            {'/m/07s9rl0': 'Drama'}       2012.0   \n",
       "68556                            {'/m/07s9rl0': 'Drama'}       2012.0   \n",
       "68557                            {'/m/07s9rl0': 'Drama'}       2012.0   \n",
       "\n",
       "                    CharacterName Gender   Ethnicity           ActorName  \\\n",
       "0                        Akooshay      F         NaN      Wanda De Jesus   \n",
       "1      Lieutenant Melanie Ballard      F  /m/044038p  Natasha Henstridge   \n",
       "2             Desolation Williams      M     /m/0x67            Ice Cube   \n",
       "3              Sgt Jericho Butler      M         NaN       Jason Statham   \n",
       "4                 Bashira Kincaid      F         NaN         Clea DuVall   \n",
       "...                           ...    ...         ...                 ...   \n",
       "68553                        Andy      M         NaN         Leo Gregory   \n",
       "68554                        Lisa      F         NaN      Nichola Burley   \n",
       "68555                       Katie      F         NaN  Stephanie Siadatan   \n",
       "68556                     Brooksy      M         NaN        Bronson Webb   \n",
       "68557                    Clarissa      F         NaN     Zaraah Abrahams   \n",
       "\n",
       "        Age FreebaseActorMapID FreebaseCharacterID FreebaseActorID  \\\n",
       "0      42.0         /m/0bgchxw          /m/0bgcj3x      /m/03wcfv7   \n",
       "1      27.0          /m/0jys3m          /m/0bgchn4       /m/0346l4   \n",
       "2      32.0          /m/0jys3g          /m/0bgchn_      /m/01vw26l   \n",
       "3      33.0         /m/02vchl6          /m/0bgchnq       /m/034hyc   \n",
       "4      23.0         /m/02vbb3r          /m/0bgchp9       /m/01y9xg   \n",
       "...     ...                ...                 ...             ...   \n",
       "68553  33.0         /m/0h9757y          /m/0h97kj1      /m/04ghm8g   \n",
       "68554  25.0         /m/0h9759t          /m/0h97kj9      /m/0404916   \n",
       "68555   NaN         /m/0h97593          /m/0h97kh1      /m/0h97596   \n",
       "68556  29.0         /m/0h9759g          /m/0h97kk9      /m/0bb9qzp   \n",
       "68557  24.0         /m/0h9759m          /m/0h97klb       /m/0fy268   \n",
       "\n",
       "       AverageRating  NumberofVotes  \n",
       "0                4.9        56894.0  \n",
       "1                4.9        56894.0  \n",
       "2                4.9        56894.0  \n",
       "3                4.9        56894.0  \n",
       "4                4.9        56894.0  \n",
       "...              ...            ...  \n",
       "68553            3.7          649.0  \n",
       "68554            3.7          649.0  \n",
       "68555            3.7          649.0  \n",
       "68556            3.7          649.0  \n",
       "68557            3.7          649.0  \n",
       "\n",
       "[68558 rows x 19 columns]"
      ]
     },
     "metadata": {},
     "output_type": "display_data"
    }
   ],
   "source": [
    "ratings = cmu.merge(ratings, on=[\"MovieName\", \"ReleaseYear\"], how='left' ).copy(deep=True)\n",
    "display(ratings)"
   ]
  },
  {
   "cell_type": "code",
   "execution_count": 39,
   "metadata": {},
   "outputs": [
    {
     "name": "stdout",
     "output_type": "stream",
     "text": [
      "Percentage of missing entries in the ratings dataset:\n",
      " AverageRating    34.184194\n",
      "NumberofVotes    34.184194\n",
      "dtype: float64\n"
     ]
    }
   ],
   "source": [
    "print('Percentage of missing entries in the ratings dataset:\\n', 100*ratings[['AverageRating', 'NumberofVotes']].isna().sum() / len(ratings))"
   ]
  },
  {
   "cell_type": "markdown",
   "metadata": {},
   "source": [
    "## PART 4: Oscars datasets <a id=\"part4\"></a>"
   ]
  },
  {
   "cell_type": "code",
   "execution_count": 49,
   "metadata": {},
   "outputs": [
    {
     "data": {
      "text/html": [
       "<div>\n",
       "<style scoped>\n",
       "    .dataframe tbody tr th:only-of-type {\n",
       "        vertical-align: middle;\n",
       "    }\n",
       "\n",
       "    .dataframe tbody tr th {\n",
       "        vertical-align: top;\n",
       "    }\n",
       "\n",
       "    .dataframe thead th {\n",
       "        text-align: right;\n",
       "    }\n",
       "</style>\n",
       "<table border=\"1\" class=\"dataframe\">\n",
       "  <thead>\n",
       "    <tr style=\"text-align: right;\">\n",
       "      <th></th>\n",
       "      <th>ReleaseYear</th>\n",
       "      <th>CeremonyYear</th>\n",
       "      <th>Ceremony</th>\n",
       "      <th>Category</th>\n",
       "      <th>NomineeName</th>\n",
       "      <th>MovieName</th>\n",
       "      <th>Winner</th>\n",
       "    </tr>\n",
       "  </thead>\n",
       "  <tbody>\n",
       "    <tr>\n",
       "      <th>0</th>\n",
       "      <td>1927</td>\n",
       "      <td>1928</td>\n",
       "      <td>1</td>\n",
       "      <td>ACTOR</td>\n",
       "      <td>Richard Barthelmess</td>\n",
       "      <td>The Noose</td>\n",
       "      <td>False</td>\n",
       "    </tr>\n",
       "    <tr>\n",
       "      <th>1</th>\n",
       "      <td>1927</td>\n",
       "      <td>1928</td>\n",
       "      <td>1</td>\n",
       "      <td>ACTOR</td>\n",
       "      <td>Emil Jannings</td>\n",
       "      <td>The Last Command</td>\n",
       "      <td>True</td>\n",
       "    </tr>\n",
       "    <tr>\n",
       "      <th>2</th>\n",
       "      <td>1927</td>\n",
       "      <td>1928</td>\n",
       "      <td>1</td>\n",
       "      <td>ACTRESS</td>\n",
       "      <td>Louise Dresser</td>\n",
       "      <td>A Ship Comes In</td>\n",
       "      <td>False</td>\n",
       "    </tr>\n",
       "    <tr>\n",
       "      <th>3</th>\n",
       "      <td>1927</td>\n",
       "      <td>1928</td>\n",
       "      <td>1</td>\n",
       "      <td>ACTRESS</td>\n",
       "      <td>Janet Gaynor</td>\n",
       "      <td>7th Heaven</td>\n",
       "      <td>True</td>\n",
       "    </tr>\n",
       "    <tr>\n",
       "      <th>4</th>\n",
       "      <td>1927</td>\n",
       "      <td>1928</td>\n",
       "      <td>1</td>\n",
       "      <td>ACTRESS</td>\n",
       "      <td>Gloria Swanson</td>\n",
       "      <td>Sadie Thompson</td>\n",
       "      <td>False</td>\n",
       "    </tr>\n",
       "    <tr>\n",
       "      <th>...</th>\n",
       "      <td>...</td>\n",
       "      <td>...</td>\n",
       "      <td>...</td>\n",
       "      <td>...</td>\n",
       "      <td>...</td>\n",
       "      <td>...</td>\n",
       "      <td>...</td>\n",
       "    </tr>\n",
       "    <tr>\n",
       "      <th>10760</th>\n",
       "      <td>2022</td>\n",
       "      <td>2023</td>\n",
       "      <td>95</td>\n",
       "      <td>HONORARY AWARD</td>\n",
       "      <td>To Euzhan Palcy, a masterful filmmaker who bro...</td>\n",
       "      <td>NaN</td>\n",
       "      <td>True</td>\n",
       "    </tr>\n",
       "    <tr>\n",
       "      <th>10761</th>\n",
       "      <td>2022</td>\n",
       "      <td>2023</td>\n",
       "      <td>95</td>\n",
       "      <td>HONORARY AWARD</td>\n",
       "      <td>To Diane Warren, for her genius, generosity an...</td>\n",
       "      <td>NaN</td>\n",
       "      <td>True</td>\n",
       "    </tr>\n",
       "    <tr>\n",
       "      <th>10762</th>\n",
       "      <td>2022</td>\n",
       "      <td>2023</td>\n",
       "      <td>95</td>\n",
       "      <td>HONORARY AWARD</td>\n",
       "      <td>To Peter Weir, a fearless and consummate filmm...</td>\n",
       "      <td>NaN</td>\n",
       "      <td>True</td>\n",
       "    </tr>\n",
       "    <tr>\n",
       "      <th>10763</th>\n",
       "      <td>2022</td>\n",
       "      <td>2023</td>\n",
       "      <td>95</td>\n",
       "      <td>GORDON E. SAWYER AWARD</td>\n",
       "      <td>Iain Neil</td>\n",
       "      <td>NaN</td>\n",
       "      <td>True</td>\n",
       "    </tr>\n",
       "    <tr>\n",
       "      <th>10764</th>\n",
       "      <td>2022</td>\n",
       "      <td>2023</td>\n",
       "      <td>95</td>\n",
       "      <td>AWARD OF COMMENDATION</td>\n",
       "      <td>To Ryan Laney for his innovative adaptation an...</td>\n",
       "      <td>Welcome to Chechnya</td>\n",
       "      <td>True</td>\n",
       "    </tr>\n",
       "  </tbody>\n",
       "</table>\n",
       "<p>10765 rows × 7 columns</p>\n",
       "</div>"
      ],
      "text/plain": [
       "       ReleaseYear  CeremonyYear  Ceremony                Category  \\\n",
       "0             1927          1928         1                   ACTOR   \n",
       "1             1927          1928         1                   ACTOR   \n",
       "2             1927          1928         1                 ACTRESS   \n",
       "3             1927          1928         1                 ACTRESS   \n",
       "4             1927          1928         1                 ACTRESS   \n",
       "...            ...           ...       ...                     ...   \n",
       "10760         2022          2023        95          HONORARY AWARD   \n",
       "10761         2022          2023        95          HONORARY AWARD   \n",
       "10762         2022          2023        95          HONORARY AWARD   \n",
       "10763         2022          2023        95  GORDON E. SAWYER AWARD   \n",
       "10764         2022          2023        95   AWARD OF COMMENDATION   \n",
       "\n",
       "                                             NomineeName            MovieName  \\\n",
       "0                                    Richard Barthelmess            The Noose   \n",
       "1                                          Emil Jannings     The Last Command   \n",
       "2                                         Louise Dresser      A Ship Comes In   \n",
       "3                                           Janet Gaynor           7th Heaven   \n",
       "4                                         Gloria Swanson       Sadie Thompson   \n",
       "...                                                  ...                  ...   \n",
       "10760  To Euzhan Palcy, a masterful filmmaker who bro...                  NaN   \n",
       "10761  To Diane Warren, for her genius, generosity an...                  NaN   \n",
       "10762  To Peter Weir, a fearless and consummate filmm...                  NaN   \n",
       "10763                                          Iain Neil                  NaN   \n",
       "10764  To Ryan Laney for his innovative adaptation an...  Welcome to Chechnya   \n",
       "\n",
       "       Winner  \n",
       "0       False  \n",
       "1        True  \n",
       "2       False  \n",
       "3        True  \n",
       "4       False  \n",
       "...       ...  \n",
       "10760    True  \n",
       "10761    True  \n",
       "10762    True  \n",
       "10763    True  \n",
       "10764    True  \n",
       "\n",
       "[10765 rows x 7 columns]"
      ]
     },
     "metadata": {},
     "output_type": "display_data"
    }
   ],
   "source": [
    "awards = pd.read_csv(AWARDS_PATH, names = ['ReleaseYear','CeremonyYear' ,'Ceremony','Category','NomineeName',\n",
    "                                                                      'MovieName','Winner'], skiprows=1)\n",
    "\n",
    "display(awards)"
   ]
  },
  {
   "cell_type": "code",
   "execution_count": 50,
   "metadata": {},
   "outputs": [
    {
     "name": "stdout",
     "output_type": "stream",
     "text": [
      "Percentage of missing entries in the awards dataset:\n",
      " ReleaseYear     0.000000\n",
      "CeremonyYear    0.000000\n",
      "Ceremony        0.000000\n",
      "Category        0.000000\n",
      "NomineeName     0.037157\n",
      "MovieName       2.926150\n",
      "Winner          0.000000\n",
      "dtype: float64\n"
     ]
    }
   ],
   "source": [
    "print('Percentage of missing entries in the awards dataset:\\n', 100*awards[['ReleaseYear', 'CeremonyYear', 'Ceremony', 'Category', 'NomineeName', 'MovieName', 'Winner']].isna().sum() / len(awards))"
   ]
  },
  {
   "cell_type": "markdown",
   "metadata": {},
   "source": [
    "We remove lines where we lack the nominee name and movie name"
   ]
  },
  {
   "cell_type": "code",
   "execution_count": 51,
   "metadata": {},
   "outputs": [
    {
     "name": "stdout",
     "output_type": "stream",
     "text": [
      "After filtering, we are left with 10450 entries\n"
     ]
    }
   ],
   "source": [
    "awards = awards.drop(awards[awards['MovieName'].isnull()].index).copy(deep=True)\n",
    "awards = awards.drop(awards[awards['NomineeName'].isnull()].index).copy(deep=True)\n",
    "\n",
    "print(f'After filtering, we are left with {len(awards.index)} entries')"
   ]
  },
  {
   "cell_type": "code",
   "execution_count": 54,
   "metadata": {},
   "outputs": [
    {
     "name": "stdout",
     "output_type": "stream",
     "text": [
      "Percentage of common films between the awards and CMU movies compared to total CMU:  1.0822952828262202\n",
      "Percentage of common films between the awards and CMU movies compared to total awards:  7.100478468899522\n"
     ]
    }
   ],
   "source": [
    "common_films = len(set(awards['MovieName']) & set(cmu['MovieName']))\n",
    "print('Percentage of common films between the awards and CMU movies compared to total CMU: ', 100*common_films/len(cmu['MovieName']))\n",
    "print('Percentage of common films between the awards and CMU movies compared to total awards: ',100*common_films/len(awards['MovieName']))"
   ]
  },
  {
   "cell_type": "markdown",
   "metadata": {},
   "source": [
    "## PART 5: Bechdel dataset <a id=\"part4\"></a>"
   ]
  },
  {
   "cell_type": "code",
   "execution_count": 55,
   "metadata": {},
   "outputs": [
    {
     "data": {
      "text/html": [
       "<div>\n",
       "<style scoped>\n",
       "    .dataframe tbody tr th:only-of-type {\n",
       "        vertical-align: middle;\n",
       "    }\n",
       "\n",
       "    .dataframe tbody tr th {\n",
       "        vertical-align: top;\n",
       "    }\n",
       "\n",
       "    .dataframe thead th {\n",
       "        text-align: right;\n",
       "    }\n",
       "</style>\n",
       "<table border=\"1\" class=\"dataframe\">\n",
       "  <thead>\n",
       "    <tr style=\"text-align: right;\">\n",
       "      <th></th>\n",
       "      <th>title</th>\n",
       "      <th>year</th>\n",
       "      <th>rating</th>\n",
       "      <th>dubious</th>\n",
       "      <th>imdbid</th>\n",
       "      <th>id</th>\n",
       "      <th>submitterid</th>\n",
       "      <th>date</th>\n",
       "      <th>visible</th>\n",
       "    </tr>\n",
       "  </thead>\n",
       "  <tbody>\n",
       "    <tr>\n",
       "      <th>0</th>\n",
       "      <td>Passage de Venus</td>\n",
       "      <td>1874</td>\n",
       "      <td>0</td>\n",
       "      <td>0.0</td>\n",
       "      <td>3155794</td>\n",
       "      <td>9602</td>\n",
       "      <td>18880</td>\n",
       "      <td>2021-04-02 20:58</td>\n",
       "      <td>1</td>\n",
       "    </tr>\n",
       "    <tr>\n",
       "      <th>1</th>\n",
       "      <td>La Rosace Magique</td>\n",
       "      <td>1877</td>\n",
       "      <td>0</td>\n",
       "      <td>0.0</td>\n",
       "      <td>14495706</td>\n",
       "      <td>9804</td>\n",
       "      <td>19145</td>\n",
       "      <td>2021-05-11 0:11</td>\n",
       "      <td>1</td>\n",
       "    </tr>\n",
       "    <tr>\n",
       "      <th>2</th>\n",
       "      <td>Sallie Gardner at a Gallop</td>\n",
       "      <td>1878</td>\n",
       "      <td>0</td>\n",
       "      <td>0.0</td>\n",
       "      <td>2221420</td>\n",
       "      <td>9603</td>\n",
       "      <td>18882</td>\n",
       "      <td>2021-04-03 2:25</td>\n",
       "      <td>1</td>\n",
       "    </tr>\n",
       "    <tr>\n",
       "      <th>3</th>\n",
       "      <td>Le singe musicien</td>\n",
       "      <td>1878</td>\n",
       "      <td>0</td>\n",
       "      <td>0.0</td>\n",
       "      <td>12592084</td>\n",
       "      <td>9806</td>\n",
       "      <td>19151</td>\n",
       "      <td>2021-05-11 23:38</td>\n",
       "      <td>1</td>\n",
       "    </tr>\n",
       "    <tr>\n",
       "      <th>4</th>\n",
       "      <td>Athlete Swinging a Pick</td>\n",
       "      <td>1881</td>\n",
       "      <td>0</td>\n",
       "      <td>0.0</td>\n",
       "      <td>7816420</td>\n",
       "      <td>9816</td>\n",
       "      <td>19162</td>\n",
       "      <td>2021-05-13 1:32</td>\n",
       "      <td>1</td>\n",
       "    </tr>\n",
       "    <tr>\n",
       "      <th>...</th>\n",
       "      <td>...</td>\n",
       "      <td>...</td>\n",
       "      <td>...</td>\n",
       "      <td>...</td>\n",
       "      <td>...</td>\n",
       "      <td>...</td>\n",
       "      <td>...</td>\n",
       "      <td>...</td>\n",
       "      <td>...</td>\n",
       "    </tr>\n",
       "    <tr>\n",
       "      <th>9897</th>\n",
       "      <td>Spider-Man: No Way Home</td>\n",
       "      <td>2021</td>\n",
       "      <td>3</td>\n",
       "      <td>1.0</td>\n",
       "      <td>10872600</td>\n",
       "      <td>10166</td>\n",
       "      <td>19768</td>\n",
       "      <td>2021-12-21 02:14:30</td>\n",
       "      <td>1</td>\n",
       "    </tr>\n",
       "    <tr>\n",
       "      <th>9898</th>\n",
       "      <td>Timeless</td>\n",
       "      <td>2018</td>\n",
       "      <td>3</td>\n",
       "      <td>0.0</td>\n",
       "      <td>5511582</td>\n",
       "      <td>10165</td>\n",
       "      <td>19766</td>\n",
       "      <td>2021-12-21 00:49:07</td>\n",
       "      <td>1</td>\n",
       "    </tr>\n",
       "    <tr>\n",
       "      <th>9899</th>\n",
       "      <td>Red Notice</td>\n",
       "      <td>2021</td>\n",
       "      <td>1</td>\n",
       "      <td>0.0</td>\n",
       "      <td>7991608</td>\n",
       "      <td>10164</td>\n",
       "      <td>19765</td>\n",
       "      <td>2021-12-20 14:10:11</td>\n",
       "      <td>1</td>\n",
       "    </tr>\n",
       "    <tr>\n",
       "      <th>9900</th>\n",
       "      <td>Abbott and Costello Meet Frankenstein</td>\n",
       "      <td>1948</td>\n",
       "      <td>3</td>\n",
       "      <td>0.0</td>\n",
       "      <td>40068</td>\n",
       "      <td>10163</td>\n",
       "      <td>19764</td>\n",
       "      <td>2021-12-19 18:11:42</td>\n",
       "      <td>1</td>\n",
       "    </tr>\n",
       "    <tr>\n",
       "      <th>9901</th>\n",
       "      <td>Moomins on the Riviera</td>\n",
       "      <td>2014</td>\n",
       "      <td>3</td>\n",
       "      <td>0.0</td>\n",
       "      <td>2371399</td>\n",
       "      <td>10162</td>\n",
       "      <td>19758</td>\n",
       "      <td>2021-12-17 19:56:15</td>\n",
       "      <td>1</td>\n",
       "    </tr>\n",
       "  </tbody>\n",
       "</table>\n",
       "<p>9902 rows × 9 columns</p>\n",
       "</div>"
      ],
      "text/plain": [
       "                                      title  year  rating  dubious    imdbid  \\\n",
       "0                          Passage de Venus  1874       0      0.0   3155794   \n",
       "1                         La Rosace Magique  1877       0      0.0  14495706   \n",
       "2                Sallie Gardner at a Gallop  1878       0      0.0   2221420   \n",
       "3                         Le singe musicien  1878       0      0.0  12592084   \n",
       "4                   Athlete Swinging a Pick  1881       0      0.0   7816420   \n",
       "...                                     ...   ...     ...      ...       ...   \n",
       "9897                Spider-Man: No Way Home  2021       3      1.0  10872600   \n",
       "9898                               Timeless  2018       3      0.0   5511582   \n",
       "9899                             Red Notice  2021       1      0.0   7991608   \n",
       "9900  Abbott and Costello Meet Frankenstein  1948       3      0.0     40068   \n",
       "9901                 Moomins on the Riviera  2014       3      0.0   2371399   \n",
       "\n",
       "         id  submitterid                 date  visible  \n",
       "0      9602        18880     2021-04-02 20:58        1  \n",
       "1      9804        19145      2021-05-11 0:11        1  \n",
       "2      9603        18882      2021-04-03 2:25        1  \n",
       "3      9806        19151     2021-05-11 23:38        1  \n",
       "4      9816        19162      2021-05-13 1:32        1  \n",
       "...     ...          ...                  ...      ...  \n",
       "9897  10166        19768  2021-12-21 02:14:30        1  \n",
       "9898  10165        19766  2021-12-21 00:49:07        1  \n",
       "9899  10164        19765  2021-12-20 14:10:11        1  \n",
       "9900  10163        19764  2021-12-19 18:11:42        1  \n",
       "9901  10162        19758  2021-12-17 19:56:15        1  \n",
       "\n",
       "[9902 rows x 9 columns]"
      ]
     },
     "metadata": {},
     "output_type": "display_data"
    }
   ],
   "source": [
    "# Load bechdel data\n",
    "bechdel = pd.read_csv(BECHDEL_PATH, sep='\\t', names=['MovieName', 'ReleaseYear', 'BechdelScore', 'Dubious', 'IMDB_ID','ID', 'SubmitterID', 'R'] )\n",
    "display(bechdel)"
   ]
  },
  {
   "cell_type": "code",
   "execution_count": 56,
   "metadata": {},
   "outputs": [
    {
     "data": {
      "text/html": [
       "<div>\n",
       "<style scoped>\n",
       "    .dataframe tbody tr th:only-of-type {\n",
       "        vertical-align: middle;\n",
       "    }\n",
       "\n",
       "    .dataframe tbody tr th {\n",
       "        vertical-align: top;\n",
       "    }\n",
       "\n",
       "    .dataframe thead th {\n",
       "        text-align: right;\n",
       "    }\n",
       "</style>\n",
       "<table border=\"1\" class=\"dataframe\">\n",
       "  <thead>\n",
       "    <tr style=\"text-align: right;\">\n",
       "      <th></th>\n",
       "      <th>year</th>\n",
       "      <th>rating</th>\n",
       "      <th>dubious</th>\n",
       "      <th>imdbid</th>\n",
       "      <th>id</th>\n",
       "      <th>submitterid</th>\n",
       "      <th>visible</th>\n",
       "    </tr>\n",
       "  </thead>\n",
       "  <tbody>\n",
       "    <tr>\n",
       "      <th>count</th>\n",
       "      <td>9902.000000</td>\n",
       "      <td>9902.000000</td>\n",
       "      <td>9603.000000</td>\n",
       "      <td>9.902000e+03</td>\n",
       "      <td>9902.000000</td>\n",
       "      <td>9902.000000</td>\n",
       "      <td>9902.0</td>\n",
       "    </tr>\n",
       "    <tr>\n",
       "      <th>mean</th>\n",
       "      <td>1996.405171</td>\n",
       "      <td>2.133205</td>\n",
       "      <td>0.090909</td>\n",
       "      <td>2.342054e+06</td>\n",
       "      <td>5283.208645</td>\n",
       "      <td>9801.553828</td>\n",
       "      <td>1.0</td>\n",
       "    </tr>\n",
       "    <tr>\n",
       "      <th>std</th>\n",
       "      <td>25.110394</td>\n",
       "      <td>1.100234</td>\n",
       "      <td>0.287495</td>\n",
       "      <td>6.164546e+07</td>\n",
       "      <td>3088.966247</td>\n",
       "      <td>6462.398855</td>\n",
       "      <td>0.0</td>\n",
       "    </tr>\n",
       "    <tr>\n",
       "      <th>min</th>\n",
       "      <td>1874.000000</td>\n",
       "      <td>0.000000</td>\n",
       "      <td>0.000000</td>\n",
       "      <td>1.000000e+00</td>\n",
       "      <td>1.000000</td>\n",
       "      <td>1.000000</td>\n",
       "      <td>1.0</td>\n",
       "    </tr>\n",
       "    <tr>\n",
       "      <th>25%</th>\n",
       "      <td>1988.000000</td>\n",
       "      <td>1.000000</td>\n",
       "      <td>0.000000</td>\n",
       "      <td>9.977825e+04</td>\n",
       "      <td>2583.250000</td>\n",
       "      <td>3865.500000</td>\n",
       "      <td>1.0</td>\n",
       "    </tr>\n",
       "    <tr>\n",
       "      <th>50%</th>\n",
       "      <td>2006.000000</td>\n",
       "      <td>3.000000</td>\n",
       "      <td>0.000000</td>\n",
       "      <td>4.382925e+05</td>\n",
       "      <td>5265.500000</td>\n",
       "      <td>9626.500000</td>\n",
       "      <td>1.0</td>\n",
       "    </tr>\n",
       "    <tr>\n",
       "      <th>75%</th>\n",
       "      <td>2013.000000</td>\n",
       "      <td>3.000000</td>\n",
       "      <td>0.000000</td>\n",
       "      <td>2.035422e+06</td>\n",
       "      <td>7891.500000</td>\n",
       "      <td>15388.500000</td>\n",
       "      <td>1.0</td>\n",
       "    </tr>\n",
       "    <tr>\n",
       "      <th>max</th>\n",
       "      <td>2023.000000</td>\n",
       "      <td>3.000000</td>\n",
       "      <td>1.000000</td>\n",
       "      <td>6.129999e+09</td>\n",
       "      <td>10785.000000</td>\n",
       "      <td>20969.000000</td>\n",
       "      <td>1.0</td>\n",
       "    </tr>\n",
       "  </tbody>\n",
       "</table>\n",
       "</div>"
      ],
      "text/plain": [
       "              year       rating      dubious        imdbid            id  \\\n",
       "count  9902.000000  9902.000000  9603.000000  9.902000e+03   9902.000000   \n",
       "mean   1996.405171     2.133205     0.090909  2.342054e+06   5283.208645   \n",
       "std      25.110394     1.100234     0.287495  6.164546e+07   3088.966247   \n",
       "min    1874.000000     0.000000     0.000000  1.000000e+00      1.000000   \n",
       "25%    1988.000000     1.000000     0.000000  9.977825e+04   2583.250000   \n",
       "50%    2006.000000     3.000000     0.000000  4.382925e+05   5265.500000   \n",
       "75%    2013.000000     3.000000     0.000000  2.035422e+06   7891.500000   \n",
       "max    2023.000000     3.000000     1.000000  6.129999e+09  10785.000000   \n",
       "\n",
       "        submitterid  visible  \n",
       "count   9902.000000   9902.0  \n",
       "mean    9801.553828      1.0  \n",
       "std     6462.398855      0.0  \n",
       "min        1.000000      1.0  \n",
       "25%     3865.500000      1.0  \n",
       "50%     9626.500000      1.0  \n",
       "75%    15388.500000      1.0  \n",
       "max    20969.000000      1.0  "
      ]
     },
     "execution_count": 56,
     "metadata": {},
     "output_type": "execute_result"
    }
   ],
   "source": [
    "bechdel.describe()"
   ]
  },
  {
   "cell_type": "code",
   "execution_count": 57,
   "metadata": {},
   "outputs": [
    {
     "ename": "KeyError",
     "evalue": "\"None of [Index([''], dtype='object')] are in the [columns]\"",
     "output_type": "error",
     "traceback": [
      "\u001b[0;31m---------------------------------------------------------------------------\u001b[0m",
      "\u001b[0;31mKeyError\u001b[0m                                  Traceback (most recent call last)",
      "\u001b[1;32m/Users/colinemaille/Desktop/ADA Test/P2.ipynb Cellule 89\u001b[0m line \u001b[0;36m1\n\u001b[0;32m----> <a href='vscode-notebook-cell:/Users/colinemaille/Desktop/ADA%20Test/P2.ipynb#Y422sZmlsZQ%3D%3D?line=0'>1</a>\u001b[0m \u001b[39mprint\u001b[39m(\u001b[39m'\u001b[39m\u001b[39mPercentage of missing entries in the bechdel dataset:\u001b[39m\u001b[39m\\n\u001b[39;00m\u001b[39m'\u001b[39m, \u001b[39m100\u001b[39m\u001b[39m*\u001b[39mbechdel[[\u001b[39m'\u001b[39;49m\u001b[39m'\u001b[39;49m]]\u001b[39m.\u001b[39misna()\u001b[39m.\u001b[39msum() \u001b[39m/\u001b[39m \u001b[39mlen\u001b[39m(bechdel))\n",
      "File \u001b[0;32m/opt/anaconda3/envs/ada/lib/python3.9/site-packages/pandas/core/frame.py:3767\u001b[0m, in \u001b[0;36mDataFrame.__getitem__\u001b[0;34m(self, key)\u001b[0m\n\u001b[1;32m   3765\u001b[0m     \u001b[39mif\u001b[39;00m is_iterator(key):\n\u001b[1;32m   3766\u001b[0m         key \u001b[39m=\u001b[39m \u001b[39mlist\u001b[39m(key)\n\u001b[0;32m-> 3767\u001b[0m     indexer \u001b[39m=\u001b[39m \u001b[39mself\u001b[39;49m\u001b[39m.\u001b[39;49mcolumns\u001b[39m.\u001b[39;49m_get_indexer_strict(key, \u001b[39m\"\u001b[39;49m\u001b[39mcolumns\u001b[39;49m\u001b[39m\"\u001b[39;49m)[\u001b[39m1\u001b[39m]\n\u001b[1;32m   3769\u001b[0m \u001b[39m# take() does not accept boolean indexers\u001b[39;00m\n\u001b[1;32m   3770\u001b[0m \u001b[39mif\u001b[39;00m \u001b[39mgetattr\u001b[39m(indexer, \u001b[39m\"\u001b[39m\u001b[39mdtype\u001b[39m\u001b[39m\"\u001b[39m, \u001b[39mNone\u001b[39;00m) \u001b[39m==\u001b[39m \u001b[39mbool\u001b[39m:\n",
      "File \u001b[0;32m/opt/anaconda3/envs/ada/lib/python3.9/site-packages/pandas/core/indexes/base.py:5877\u001b[0m, in \u001b[0;36mIndex._get_indexer_strict\u001b[0;34m(self, key, axis_name)\u001b[0m\n\u001b[1;32m   5874\u001b[0m \u001b[39melse\u001b[39;00m:\n\u001b[1;32m   5875\u001b[0m     keyarr, indexer, new_indexer \u001b[39m=\u001b[39m \u001b[39mself\u001b[39m\u001b[39m.\u001b[39m_reindex_non_unique(keyarr)\n\u001b[0;32m-> 5877\u001b[0m \u001b[39mself\u001b[39;49m\u001b[39m.\u001b[39;49m_raise_if_missing(keyarr, indexer, axis_name)\n\u001b[1;32m   5879\u001b[0m keyarr \u001b[39m=\u001b[39m \u001b[39mself\u001b[39m\u001b[39m.\u001b[39mtake(indexer)\n\u001b[1;32m   5880\u001b[0m \u001b[39mif\u001b[39;00m \u001b[39misinstance\u001b[39m(key, Index):\n\u001b[1;32m   5881\u001b[0m     \u001b[39m# GH 42790 - Preserve name from an Index\u001b[39;00m\n",
      "File \u001b[0;32m/opt/anaconda3/envs/ada/lib/python3.9/site-packages/pandas/core/indexes/base.py:5938\u001b[0m, in \u001b[0;36mIndex._raise_if_missing\u001b[0;34m(self, key, indexer, axis_name)\u001b[0m\n\u001b[1;32m   5936\u001b[0m     \u001b[39mif\u001b[39;00m use_interval_msg:\n\u001b[1;32m   5937\u001b[0m         key \u001b[39m=\u001b[39m \u001b[39mlist\u001b[39m(key)\n\u001b[0;32m-> 5938\u001b[0m     \u001b[39mraise\u001b[39;00m \u001b[39mKeyError\u001b[39;00m(\u001b[39mf\u001b[39m\u001b[39m\"\u001b[39m\u001b[39mNone of [\u001b[39m\u001b[39m{\u001b[39;00mkey\u001b[39m}\u001b[39;00m\u001b[39m] are in the [\u001b[39m\u001b[39m{\u001b[39;00maxis_name\u001b[39m}\u001b[39;00m\u001b[39m]\u001b[39m\u001b[39m\"\u001b[39m)\n\u001b[1;32m   5940\u001b[0m not_found \u001b[39m=\u001b[39m \u001b[39mlist\u001b[39m(ensure_index(key)[missing_mask\u001b[39m.\u001b[39mnonzero()[\u001b[39m0\u001b[39m]]\u001b[39m.\u001b[39munique())\n\u001b[1;32m   5941\u001b[0m \u001b[39mraise\u001b[39;00m \u001b[39mKeyError\u001b[39;00m(\u001b[39mf\u001b[39m\u001b[39m\"\u001b[39m\u001b[39m{\u001b[39;00mnot_found\u001b[39m}\u001b[39;00m\u001b[39m not in index\u001b[39m\u001b[39m\"\u001b[39m)\n",
      "\u001b[0;31mKeyError\u001b[0m: \"None of [Index([''], dtype='object')] are in the [columns]\""
     ]
    }
   ],
   "source": [
    "print('Percentage of missing entries in the bechdel dataset:\\n', 100*bechdel[['year', 'rating', 'dubious', 'imdbid', 'id', 'submitterid', 'visible']].isna().sum() / len(bechdel))"
   ]
  },
  {
   "cell_type": "markdown",
   "metadata": {},
   "source": [
    "In case we want to merge the bechdel and the cmu datasets, we need to format the movie names the same way. We choose to rewrite every movie name in lower case."
   ]
  },
  {
   "cell_type": "code",
   "execution_count": null,
   "metadata": {},
   "outputs": [],
   "source": [
    "# Put all title in lower case\n",
    "bechdel['title'] = df_bechdel['title'].apply(lambda x: x.lower())\n",
    "cmu_bechdel = cmu.copy(deep=True)\n",
    "cmu_bechdel['MovieName'] = cmu_bechdel['MovieName'].apply(lambda x: x.lower())\n",
    "\n",
    "#We populate the cmu dataset with availables Bechdel\n"
   ]
  },
  {
   "cell_type": "markdown",
   "id": "e1510d56-3b79-42e2-a230-8a14c787e7fb",
   "metadata": {},
   "source": [
    "# STEP 2: DATA ANALYSIS <a id=\"Data-analysis\"></a>"
   ]
  },
  {
   "cell_type": "markdown",
   "id": "c052928f-f41b-4905-98f5-d0a2db9ec247",
   "metadata": {},
   "source": [
    "---"
   ]
  },
  {
   "cell_type": "markdown",
   "id": "b9cda833-a015-4141-ba10-c43496a1d41c",
   "metadata": {},
   "source": [
    "## PART 1: Quantitative analysis of gender inequalities in movies <a id=\"part1\"></a>"
   ]
  },
  {
   "cell_type": "markdown",
   "id": "65057770",
   "metadata": {},
   "source": [
    "We will start by analysing the main differences we can find between the representation of men and women in the movie industry."
   ]
  },
  {
   "cell_type": "markdown",
   "id": "182cae2b-0c10-4869-881a-871c18ad12a9",
   "metadata": {},
   "source": [
    "### AGE: IS THERE A DIFFERENCE ?"
   ]
  },
  {
   "cell_type": "markdown",
   "id": "c832d0e7-0ac9-4c9c-b387-fe03fabd1dfd",
   "metadata": {},
   "source": [
    "We often hear clichés about the evolution of beauty with age: women are described as blossoming in their youth, while men become more handsome with age. An intriguing question arises: does this perceived divergence in the aesthetics of aging manifest itself in the film industry, and if so, is this disparity statistically significant? \n",
    "\n",
    "Let's explore the data !"
   ]
  },
  {
   "cell_type": "code",
   "execution_count": null,
   "id": "80f32630-5105-45f9-abe6-c3b14fd50a92",
   "metadata": {
    "tags": []
   },
   "outputs": [],
   "source": [
    "# Set the plot style and color palette\n",
    "sns.set(style=\"darkgrid\", palette=\"Set2\")\n",
    "\n",
    "plt.figure(figsize=(8, 5))\n",
    "\n",
    "sns.boxplot(x='Gender', y='Age', data=cmu)\n",
    "plt.title('Distribution of Age between Male and Female', fontsize=15)\n",
    "\n",
    "plt.xlabel('Gender', fontsize=12)\n",
    "plt.ylabel('Age', fontsize=12)\n",
    "\n",
    "plt.show()"
   ]
  },
  {
   "cell_type": "code",
   "execution_count": null,
   "id": "6c30dd32-fa40-4e58-8bf3-05457e998153",
   "metadata": {
    "tags": []
   },
   "outputs": [],
   "source": [
    "women_cmu = cmu.loc[cmu['Gender']=='F'].copy(deep=True)\n",
    "men_cmu = cmu.loc[cmu['Gender']=='M'].copy(deep=True)"
   ]
  },
  {
   "cell_type": "code",
   "execution_count": null,
   "id": "f0548c63",
   "metadata": {},
   "outputs": [],
   "source": [
    "women_cmu.sample(2)"
   ]
  },
  {
   "cell_type": "code",
   "execution_count": null,
   "id": "480d5108-efbf-484c-b0a9-b583500a16dd",
   "metadata": {
    "tags": []
   },
   "outputs": [],
   "source": [
    "# T-test to determine if the difference in age between men and women is statistically significant \n",
    "stats.ttest_ind(women_cmu['Age'], men_cmu['Age'], nan_policy='omit')"
   ]
  },
  {
   "cell_type": "markdown",
   "id": "94d25b5e-af95-4bdf-96d7-752bf1180e23",
   "metadata": {},
   "source": [
    "We used a two-sided t-test for the null hypothesis that the age of actors and actresses have identical average (expected) values. The p-value is much smaller than 0.05, therefore we can reject the null hypothesis, meaning that there is a statistically significant difference in the average ages between the two groups. As the t-statistic is strongly negative (-104), it supports our conclusion that women are significantly younger than men."
   ]
  },
  {
   "cell_type": "markdown",
   "id": "349071a8-6a2f-4287-9770-24f1835a6d74",
   "metadata": {},
   "source": [
    "### Has this tendency evolved with years ?"
   ]
  },
  {
   "cell_type": "code",
   "execution_count": null,
   "id": "ec894c24-01a1-46a1-8004-8c4d1afcb5e9",
   "metadata": {
    "tags": []
   },
   "outputs": [],
   "source": [
    "# Calculate the average age of actors and actresses in movies across year\n",
    "women_mean_age_per_year = women_cmu.groupby('ReleaseYear').agg({'Age': 'mean'})\n",
    "men_mean_age_per_year = men_cmu.groupby('ReleaseYear').agg({'Age': 'mean'})\n",
    "\n",
    "# Calculate the 95% CIs\n",
    "women_std_age_per_year = women_cmu.groupby('ReleaseYear').agg({'Age': 'std'})\n",
    "men_std_age_per_year = men_cmu.groupby('ReleaseYear').agg({'Age': 'std'})\n",
    "\n",
    "z=1.96\n",
    "upper_bound_women = women_mean_age_per_year['Age'] + z*women_std_age_per_year['Age']/np.sqrt(women_cmu.groupby('ReleaseYear').agg({'CharacterName' : 'count'})['CharacterName'])\n",
    "lower_bound_women = women_mean_age_per_year['Age'] - z*women_std_age_per_year['Age']/np.sqrt(women_cmu.groupby('ReleaseYear').agg({'CharacterName' : 'count'})['CharacterName'])\n",
    "\n",
    "upper_bound_men = men_mean_age_per_year['Age'] + z*men_std_age_per_year['Age']/np.sqrt(men_cmu.groupby('ReleaseYear').agg({'CharacterName' : 'count'})['CharacterName'])\n",
    "lower_bound_men = men_mean_age_per_year['Age'] - z*men_std_age_per_year['Age']/np.sqrt(men_cmu.groupby('ReleaseYear').agg({'CharacterName' : 'count'})['CharacterName'])\n",
    "\n",
    "# Plot the evolution of mean age of men and women in movies\n",
    "fig, ax = plt.subplots(figsize=(10, 6))\n",
    "\n",
    "ax.plot(women_mean_age_per_year, label='F', color='green')\n",
    "ax.fill_between(women_mean_age_per_year.index, lower_bound_women, upper_bound_women, alpha =0.2, color='green', label = 'F 95% CI')\n",
    "\n",
    "ax.plot(men_mean_age_per_year, label='M', color='red')\n",
    "ax.fill_between(men_mean_age_per_year.index, lower_bound_men, upper_bound_men, alpha =0.2, color='red', label = 'M 95% CI')\n",
    "\n",
    "ax.set_ylim(10,47)\n",
    "ax.set_xlabel('Year')\n",
    "ax.set_ylabel('Age')\n",
    "ax.set_title('Evolution of mean age of men and women in movies')\n",
    "ax.legend()\n",
    "\n",
    "plt.show()"
   ]
  },
  {
   "cell_type": "markdown",
   "id": "bb70a894",
   "metadata": {},
   "source": [
    "### PROPORTION OF FEMALE CHARACTERS"
   ]
  },
  {
   "cell_type": "markdown",
   "id": "a146b534",
   "metadata": {},
   "source": [
    "We will explore the proportion of female characters in movies."
   ]
  },
  {
   "cell_type": "code",
   "execution_count": null,
   "id": "63123ab8",
   "metadata": {
    "tags": []
   },
   "outputs": [],
   "source": [
    "df_gender_proportion_by_movie=pd.DataFrame()\n",
    "\n",
    "df_gender_proportion_by_movie['MaleCharacters'] = men_cmu.groupby('WikiMovieID')['CharacterName'].nunique()\n",
    "df_gender_proportion_by_movie['FemaleCharacters'] = women_cmu.groupby('WikiMovieID')['CharacterName'].nunique()\n",
    "\n",
    "df_gender_proportion_by_movie['TotalNumberofCharacters'] = cmu.groupby('WikiMovieID')['CharacterName'].nunique()\n",
    "\n",
    "df_gender_proportion_by_movie = df_gender_proportion_by_movie.merge(cmu[['ReleaseYear', 'WikiMovieID', 'Countries', 'Continent']], how='left', left_index=True, right_on='WikiMovieID' )\n",
    "\n",
    "df_gender_proportion_by_movie['PercentageofFemale'] = df_gender_proportion_by_movie['FemaleCharacters'] / df_gender_proportion_by_movie['TotalNumberofCharacters'] * 100\n",
    "df_gender_proportion_by_movie['PercentageofMale'] = df_gender_proportion_by_movie['MaleCharacters'] / df_gender_proportion_by_movie['TotalNumberofCharacters'] * 100\n",
    "\n",
    "df_gender_proportion_by_movie =df_gender_proportion_by_movie.drop_duplicates(subset=['WikiMovieID'])\n",
    "\n",
    "#Plot\n",
    "fig, ax = plt.subplots(1, 3, figsize=(16,8), sharey=True)\n",
    "\n",
    "ax[0].hist(df_gender_proportion_by_movie['PercentageofFemale'], bins=50, label='F', alpha=0.4, color='green')\n",
    "ax[0].hist(df_gender_proportion_by_movie['PercentageofMale'], bins=50, label='M', alpha=0.4, color='red')\n",
    "ax[0].legend(loc='upper right', fontsize=14) \n",
    "\n",
    "ax[1].hist(df_gender_proportion_by_movie['PercentageofFemale'], bins=50, label='F', alpha=0.5, color='green')\n",
    "ax[1].legend(loc='upper right', fontsize=14) \n",
    "\n",
    "\n",
    "ax[2].hist(df_gender_proportion_by_movie['PercentageofMale'], bins=50, label='M', alpha=0.5, color='red')\n",
    "ax[2].legend(loc='upper right', fontsize=14) \n",
    "\n",
    "fig.supxlabel('Percentage of characters per movie', fontsize=16)\n",
    "fig.supylabel('Counts', va='center', rotation=90, fontsize=16)\n",
    "fig.suptitle('Histograms of the percentage of Female and Male characters per movie', fontsize=20)\n",
    "\n",
    "plt.tight_layout()\n",
    "\n",
    "plt.show()"
   ]
  },
  {
   "cell_type": "code",
   "execution_count": null,
   "id": "4d096c50",
   "metadata": {
    "tags": []
   },
   "outputs": [],
   "source": [
    "#Calculate the mean percentage of actors and actresses in movies across year\n",
    "percentage_of_women_by_movie = df_gender_proportion_by_movie.groupby('ReleaseYear').agg({'PercentageofFemale':'mean'})\n",
    "percentage_of_men_by_movie = df_gender_proportion_by_movie.groupby('ReleaseYear').agg({'PercentageofMale':'mean'})\n",
    "\n",
    "#Calculate the 95% CIs\n",
    "women_std_perc_per_year = df_gender_proportion_by_movie.groupby('ReleaseYear').agg({'PercentageofFemale':'std'})\n",
    "men_std_perc_per_year = df_gender_proportion_by_movie.groupby('ReleaseYear').agg({'PercentageofMale':'std'})\n",
    "\n",
    "z=1.96\n",
    "upper_bound_women = percentage_of_women_by_movie['PercentageofFemale'] + z*women_std_perc_per_year['PercentageofFemale']/np.sqrt(women_cmu.groupby('ReleaseYear').agg({'CharacterName': 'count'})['CharacterName'])\n",
    "lower_bound_women = percentage_of_women_by_movie['PercentageofFemale'] - z*women_std_perc_per_year['PercentageofFemale']/np.sqrt(women_cmu.groupby('ReleaseYear').agg({'CharacterName': 'count'})['CharacterName'])\n",
    "\n",
    "upper_bound_men = percentage_of_men_by_movie['PercentageofMale'] + z*men_std_perc_per_year['PercentageofMale']/np.sqrt(men_cmu.groupby('ReleaseYear').agg({'CharacterName': 'count'})['CharacterName'])\n",
    "lower_bound_men = percentage_of_men_by_movie['PercentageofMale'] - z*men_std_perc_per_year['PercentageofMale']/np.sqrt(men_cmu.groupby('ReleaseYear').agg({'CharacterName': 'count'})['CharacterName'])\n",
    "\n",
    "#Plot\n",
    "fig, ax = plt.subplots(figsize=(10, 6))\n",
    "\n",
    "ax.plot(percentage_of_women_by_movie, label='F', color='green')\n",
    "ax.fill_between(lower_bound_women.index, lower_bound_women, upper_bound_women, alpha =0.2, color='green', label = 'F 95% CI')\n",
    "\n",
    "ax.plot(percentage_of_men_by_movie, label='M', color='red')\n",
    "ax.fill_between(lower_bound_men.index, lower_bound_men, upper_bound_men, alpha =0.2, color='red', label = 'M 95% CI')\n",
    "\n",
    "#ax.set_ylim(0,101)\n",
    "ax.set_xlabel('Year')\n",
    "ax.set_ylabel('Percentage')\n",
    "ax.set_title('Evolution of mean percentage of male and female characters in movies')\n",
    "ax.legend()\n",
    "plt.show()"
   ]
  },
  {
   "cell_type": "markdown",
   "id": "5b84f2e5-fa8f-4d24-9c53-78c890d81ab4",
   "metadata": {},
   "source": [
    "### GENRE OF MOVIE: IS THERE A DIFFERENCE ?"
   ]
  },
  {
   "cell_type": "markdown",
   "id": "4aff2bda-ffea-46e9-97f3-49cec5a7bd0b",
   "metadata": {},
   "source": [
    "An often-repeated stereotype regarding women suggests that they are not inclined towards action, sports, or intellectual pursuits, but rather, their primary role is portrayed as being centered around romantic relationships. We aim to investigate whether this stereotype is reflected in the portrayal of women in movies from our dataset."
   ]
  },
  {
   "cell_type": "markdown",
   "id": "78ede132-5add-4ba1-b628-992c83a4809a",
   "metadata": {},
   "source": [
    "We will do our analysis only based on the 16 major genres of movie in the dataset. First, we need to determine what these 16 genres are."
   ]
  },
  {
   "cell_type": "code",
   "execution_count": null,
   "id": "ebd87c5e-c2c9-452f-a6d5-fd84268f2a7e",
   "metadata": {
    "tags": []
   },
   "outputs": [],
   "source": [
    "# Filter the cmu dataset to get only 1 row per movie. Otherwise, the genres are counted too many times\n",
    "cmu_without_duplicates = cmu.drop_duplicates(subset=['WikiMovieID'], keep='first')"
   ]
  },
  {
   "cell_type": "code",
   "execution_count": null,
   "id": "4562f9c3-6a97-4524-9c31-123a8a46329b",
   "metadata": {
    "tags": []
   },
   "outputs": [],
   "source": [
    "all_unique_genres = set()\n",
    "\n",
    "# Get all the movie genres\n",
    "cmu_without_duplicates['MovieGenre'].apply(lambda x: all_unique_genres.update(x.values()) if isinstance(x, dict) else None)\n",
    "\n",
    "# Initialize dictionary with keys and values set to 0\n",
    "genres_count = {genre: 0 for genre in all_unique_genres}\n",
    "\n",
    "# Count the occurence of each genre\n",
    "for row in cmu_without_duplicates['MovieGenre']:\n",
    "    for key, value in row.items():\n",
    "        genres_count[value]+=1\n",
    "        \n",
    "# Sort the dictionary by values in descending order\n",
    "genres_count = dict(sorted(genres_count.items(), key=lambda item: item[1], reverse=True))"
   ]
  },
  {
   "cell_type": "code",
   "execution_count": null,
   "id": "4a266536-80cb-4ec4-a594-89244949b1e9",
   "metadata": {
    "tags": []
   },
   "outputs": [],
   "source": [
    "plt.figure(figsize=(8, 4))\n",
    "\n",
    "# Keep the first 16 major genres\n",
    "major_16_genres = dict(islice(genres_count.items(), 16))\n",
    "\n",
    "x = np.arange(len(major_16_genres))\n",
    "\n",
    "plt.bar(x, major_16_genres.values())\n",
    "plt.xticks(x, major_16_genres.keys(), rotation='vertical')\n",
    "plt.title('16 Major Genres of Movies', fontsize=16)\n",
    "plt.ylabel('Number of movie for each genre')\n",
    "plt.show()"
   ]
  },
  {
   "cell_type": "markdown",
   "id": "42c7fbc1-6b10-41d8-8e6e-9900c2792c6f",
   "metadata": {},
   "source": [
    "For the analysis we consider that:\n",
    "- If a movie has several genres, we will keep the one that appears in the 16 major genres, and if several are in the 16 major genres, we keep the first one.\n",
    "- If none is in the 16 major genre, or if the genre is not given, then we drop the row"
   ]
  },
  {
   "cell_type": "code",
   "execution_count": null,
   "id": "9f0b327d-b618-478a-8e6c-1d1e87ca7943",
   "metadata": {
    "tags": []
   },
   "outputs": [],
   "source": [
    "# List of rows to drop \n",
    "rows_to_drop = []\n",
    "\n",
    "cmu_genre = cmu.copy()\n",
    "\n",
    "for index, row in cmu_genre.iterrows():\n",
    "    movie_genre = row['MovieGenre']\n",
    "    \n",
    "    # If there is one genre only, drop the row if not in the 16 major genre\n",
    "    if len(movie_genre) == 1 and list(movie_genre.values())[0] not in major_16_genres:\n",
    "        rows_to_drop.append(index)\n",
    "        \n",
    "    # If there is no genre, drop the corresponding row\n",
    "    elif not bool(movie_genre):\n",
    "        rows_to_drop.append(index)\n",
    "            \n",
    "    # If there are multiple genres        \n",
    "    else:\n",
    "        count = 0  # To keep the first value only\n",
    "        for key, value in movie_genre.items():\n",
    "            if value in major_16_genres:\n",
    "                if count == 0:\n",
    "                    value_to_keep = value\n",
    "                    key_to_keep = key\n",
    "                    count = 1\n",
    "                    break\n",
    "\n",
    "        if count == 0:  # If none of the genres is in the major_16_genres, drop the row\n",
    "            rows_to_drop.append(index)\n",
    "\n",
    "        if count == 1:\n",
    "            cmu_genre.at[index, 'MovieGenre'] = {key_to_keep: value_to_keep}\n",
    "\n",
    "# Create a new DataFrame with only the rows to keep\n",
    "cmu_genre = cmu_genre.drop(rows_to_drop)\n",
    "movie_counts = cmu_genre['WikiMovieID'].nunique()\n",
    "print(f'We are left with {movie_counts} movies')"
   ]
  },
  {
   "cell_type": "markdown",
   "id": "113fecce-4dfd-42b6-b3ef-55067f6aaaf7",
   "metadata": {},
   "source": [
    "To facilitate analysis, we replace the dictionary for the 'MovieGenre' column with a str:"
   ]
  },
  {
   "cell_type": "code",
   "execution_count": null,
   "id": "75c1b056-d323-4ddd-8889-b1063da5cb18",
   "metadata": {
    "tags": []
   },
   "outputs": [],
   "source": [
    "cmu_genre['MovieGenre'] = cmu_genre['MovieGenre'].apply(lambda x: list(x.values())[0])"
   ]
  },
  {
   "cell_type": "code",
   "execution_count": null,
   "id": "96d29c2a-8a15-4456-bdb1-b8da527ccdca",
   "metadata": {
    "tags": []
   },
   "outputs": [],
   "source": [
    "# Split the dataset in 2 according to actor gender\n",
    "women_with_genre = cmu_genre.loc[cmu_genre['Gender']=='F'].copy(deep=True)\n",
    "men_with_genre = cmu_genre.loc[cmu_genre['Gender']=='M'].copy(deep=True)"
   ]
  },
  {
   "cell_type": "code",
   "execution_count": null,
   "id": "7ae8164e-36d6-481c-b49c-34291a79ff7d",
   "metadata": {
    "tags": []
   },
   "outputs": [],
   "source": [
    "# Group by 'MovieGenre' and count the number of occurence\n",
    "women_genre_counts = women_with_genre.groupby('MovieGenre').size().reset_index(name='Women_Count')\n",
    "men_genre_counts = men_with_genre.groupby('MovieGenre').size().reset_index(name='Men_Count')\n",
    "\n",
    "# New dataframe with the counts\n",
    "genre_counts = women_genre_counts.merge(men_genre_counts, how='left', on='MovieGenre')\n",
    "\n",
    "# Compute the percentage of Women and Men per movie genre\n",
    "genre_counts['Percent_Women']=(genre_counts['Women_Count']/(genre_counts['Women_Count']+genre_counts['Men_Count']))*100\n",
    "genre_counts['Percent_Men']=(genre_counts['Men_Count']/(genre_counts['Women_Count']+genre_counts['Men_Count']))*100"
   ]
  },
  {
   "cell_type": "code",
   "execution_count": null,
   "id": "c9e4f4ba-273d-4f9d-bbc0-45acb397e1bb",
   "metadata": {
    "tags": []
   },
   "outputs": [],
   "source": [
    "genre_counts.sample(2)"
   ]
  },
  {
   "cell_type": "code",
   "execution_count": null,
   "id": "edadeafa-5472-4fba-98f6-afa3d1cd7f9c",
   "metadata": {
    "tags": []
   },
   "outputs": [],
   "source": [
    "# Plot the percentage of Women and Men per movie genre\n",
    "\n",
    "# Sort the DataFrame for better visualization\n",
    "genre_counts = genre_counts.sort_values(by='Percent_Men', ascending=True)\n",
    "\n",
    "fig, ax = plt.subplots(figsize=(10, 5))\n",
    "\n",
    "ax.bar(genre_counts['MovieGenre'], genre_counts['Percent_Men'], label='Men', alpha=0.9)\n",
    "ax.bar(genre_counts['MovieGenre'], genre_counts['Percent_Women'], bottom=genre_counts['Percent_Men'], label='Women', alpha=0.9)\n",
    "\n",
    "plt.xticks(rotation='vertical')\n",
    "ax.set_ylabel('Percentage')\n",
    "ax.set_title('Percentages of Women and Men by Movie Genre')\n",
    "ax.legend()\n",
    "\n",
    "plt.show()"
   ]
  },
  {
   "cell_type": "markdown",
   "id": "59e8c37b",
   "metadata": {},
   "source": [
    "Is there a difference in actors' ages between genres? "
   ]
  },
  {
   "cell_type": "code",
   "execution_count": null,
   "id": "2d545667",
   "metadata": {
    "tags": []
   },
   "outputs": [],
   "source": [
    "cmu_by_genre = cmu_genre.groupby('MovieGenre')\n",
    "\n",
    "fig, axes = plt.subplots(4,4,figsize= (16,16), sharey=True)\n",
    "\n",
    "for genre, ax in zip(cmu_by_genre.groups.keys(), axes.flat):\n",
    "    sns.set(style=\"darkgrid\", palette=\"Set2\")\n",
    "    \n",
    "    plot = sns.barplot(x='Gender', y='Age', data=cmu_by_genre.get_group(genre), ax=ax, order=['M', 'F'], errorbar=('ci',95))\n",
    "    plot.set_title(genre)\n",
    "    plot.set(ylabel=None)\n",
    "    plot.set(xlabel=None)\n",
    "    plot.set(ylim = (0,44))\n",
    "\n",
    "fig.supxlabel('Gender', fontsize=20)\n",
    "fig.supylabel('Mean Age', va='center', rotation=90, fontsize=20)\n",
    "fig.suptitle('Difference in mean age between actor and actress per genre of movie', fontsize=24)\n",
    "\n",
    "plt.tight_layout()\n",
    "\n",
    "plt.show()"
   ]
  },
  {
   "cell_type": "markdown",
   "id": "184592cb",
   "metadata": {},
   "source": [
    "Across all genres we observe a similar inequality in the average age of actors and actresses. Actresses are generally younger in all movie genres and the difference is significant when looking at the small 95 % confidence intervals"
   ]
  },
  {
   "cell_type": "markdown",
   "id": "479da9a8-a517-4fad-b803-3ef078d1233b",
   "metadata": {},
   "source": [
    "### What is the typical carrier of men and women ?"
   ]
  },
  {
   "cell_type": "code",
   "execution_count": null,
   "id": "0bc3456d-bf1d-4f75-bc97-c14df9f1b58c",
   "metadata": {
    "tags": []
   },
   "outputs": [],
   "source": [
    "movies_per_actress = women_cmu.groupby('ActorName').size().reset_index(name='number_of_movies')\n",
    "movies_per_actor = men_cmu.groupby('ActorName').size().reset_index(name='number_of_movies')"
   ]
  },
  {
   "cell_type": "code",
   "execution_count": null,
   "id": "5632c2f7-58f3-4cdf-8295-034c17ec5ec6",
   "metadata": {
    "tags": []
   },
   "outputs": [],
   "source": [
    "# Combine the two DataFrames into a single DataFrame\n",
    "movies_per_actor_and_actress = pd.concat([movies_per_actress.assign(gender='F'), \n",
    "                                          movies_per_actor.assign(gender='M')])\n",
    "\n",
    "plt.figure(figsize=(10, 6))\n",
    "sns.boxplot(x='gender', y='number_of_movies', data=movies_per_actor_and_actress, showfliers=False)\n",
    "plt.xlabel('Gender')\n",
    "plt.ylabel('Number of Movies')\n",
    "plt.title('Comparison of Number of Movies for Actors and Actresses')\n",
    "plt.show()"
   ]
  },
  {
   "cell_type": "markdown",
   "id": "934aed46-e6d3-42eb-8154-63f6089a4e98",
   "metadata": {},
   "source": [
    "## PART 2: Qualitative analysis of gender representation in movies <a id=\"part2\"></a>\n",
    "\n",
    "### What are the types of characters women interpret ? "
   ]
  },
  {
   "cell_type": "markdown",
   "id": "bc9d6910-13cb-4d74-965c-2b162b9567da",
   "metadata": {},
   "source": [
    "Let's uncover whether the common stereotypes about women align with the characters we observe on the screen.\n"
   ]
  },
  {
   "cell_type": "markdown",
   "id": "8e640033-e769-459e-a527-97d43a7651f7",
   "metadata": {},
   "source": [
    "For this analysis, we will use the tvtropes.clusters file"
   ]
  },
  {
   "cell_type": "code",
   "execution_count": null,
   "id": "f1d2537f-407a-4e42-bdf0-e43ad90c7529",
   "metadata": {
    "tags": []
   },
   "outputs": [],
   "source": [
    "with open(CHARACTER_TYPE_PATH, 'r') as file:\n",
    "    lines = file.readlines()\n",
    "    new_lines = []\n",
    "    \n",
    "    for line in lines:\n",
    "        char_type = line.split()[0]\n",
    "        char_type_dict = {'CharType': char_type}\n",
    "\n",
    "        space_index = line.find('\t')\n",
    "        char_info = ast.literal_eval(line[space_index+1:])\n",
    "        \n",
    "        new_line = {**char_type_dict, **char_info}\n",
    "        \n",
    "        new_lines.append(new_line)\n",
    "    \n",
    "\n",
    "# Evaluate each line and extract the column name and corresponding dictionary\n",
    "\n",
    "headers_names = ['CharType',\n",
    "                 'CharName',\n",
    "                 'MovieName',\n",
    "                 'FreebaseActorMapID',\n",
    "                 'ActorName']\n",
    "\n",
    "chartypes = pd.DataFrame(new_lines)\n",
    "chartypes.columns = headers_names\n",
    "chartypes.head()"
   ]
  },
  {
   "cell_type": "code",
   "execution_count": null,
   "id": "c22674f6-f20e-42f7-9bc4-031eea58fb10",
   "metadata": {
    "tags": []
   },
   "outputs": [],
   "source": [
    "chartype_cmu = cmu.merge(chartypes, how='right', on=['FreebaseActorMapID', 'MovieName'])\n",
    "chartype_women = chartype_cmu.loc[chartype_cmu['Gender']=='F'].copy(deep=True)\n",
    "chartype_men = chartype_cmu.loc[chartype_cmu['Gender']=='M'].copy(deep=True)"
   ]
  },
  {
   "cell_type": "code",
   "execution_count": null,
   "id": "0fff7a59-1f90-4457-a56d-ff069c1225ac",
   "metadata": {
    "tags": []
   },
   "outputs": [],
   "source": [
    "women_counts = chartype_women['CharType'].value_counts().head(5)\n",
    "men_counts = chartype_men['CharType'].value_counts().head(5)"
   ]
  },
  {
   "cell_type": "code",
   "execution_count": null,
   "id": "ce368e21-562d-40f7-a2fe-739b6888ccbd",
   "metadata": {
    "tags": []
   },
   "outputs": [],
   "source": [
    "# Create WordClouds for women and men\n",
    "women_wordcloud = WordCloud(width=800, height=400, background_color='white', colormap='Oranges').generate_from_frequencies(women_counts)\n",
    "men_wordcloud = WordCloud(width=800, height=400, background_color='white', colormap='Oranges').generate_from_frequencies(men_counts)\n",
    "\n",
    "# Plotting the WordClouds\n",
    "plt.figure(figsize=(12, 6))\n",
    "\n",
    "plt.subplot(1, 2, 1)\n",
    "plt.imshow(women_wordcloud, interpolation='bilinear')\n",
    "plt.title('Women Main Characters', color='black', fontsize=16)\n",
    "plt.axis('off')\n",
    "\n",
    "plt.subplot(1, 2, 2)\n",
    "plt.imshow(men_wordcloud, interpolation='bilinear')\n",
    "plt.title('Men Main Characters', color='black', fontsize=16)\n",
    "plt.axis('off')\n",
    "\n",
    "plt.show()"
   ]
  },
  {
   "cell_type": "markdown",
   "id": "e5ad7ec6",
   "metadata": {},
   "source": [
    "## PART 3: Analysis of the reception of movies by the public <a id=\"part3\"></a>\n",
    "\n",
    "### Is there a difference in revenue and popularity between female-dominated and male-dominated films?"
   ]
  },
  {
   "cell_type": "markdown",
   "id": "876d0835",
   "metadata": {},
   "source": [
    "We want to analyse whether the success of a movie is correlated with the proportion of women in a movie. To to this we will take the Box Office Revenue as a measure of success, as well as the IMDb ratings given around the world to each movie."
   ]
  },
  {
   "cell_type": "markdown",
   "id": "ac1d297c",
   "metadata": {},
   "source": [
    "### Looking at the ratings"
   ]
  },
  {
   "cell_type": "code",
   "execution_count": null,
   "id": "823ff432",
   "metadata": {
    "tags": []
   },
   "outputs": [],
   "source": [
    "# IMDb data set merged with the CMU movies\n",
    "ratings = pd.read_csv(RATINGS_PATH, sep='\\t',)\n",
    "ratings.sample(2)"
   ]
  },
  {
   "cell_type": "code",
   "execution_count": null,
   "id": "342070cb",
   "metadata": {
    "tags": []
   },
   "outputs": [],
   "source": [
    "# We're interested only in movies for which we have information on gender distribution, so we perform a right join\n",
    "ratings_gender = pd.merge(ratings, df_gender_proportion_by_movie, on='WikiMovieID', how='right')\n",
    "\n",
    "# Sort the values according to Percentage of Female \n",
    "ratings_gender.sort_values(by='PercentageofFemale', inplace=True)\n",
    "\n",
    "plt.figure(figsize=(10,5))\n",
    "\n",
    "sns.regplot(x=ratings_gender['PercentageofFemale'], y=ratings_gender['AverageRating'], ci=95, scatter_kws={'color': 'blue', 's': 2, 'alpha': 0.5}, line_kws={'color': 'red'})\n",
    "\n",
    "plt.ylabel('Average IMDb Rating')\n",
    "plt.xlabel('Percentage of actresses in a movie')\n",
    "\n",
    "plt.title('Correlation Between IMDb Average Rating and Proportion of Actresses in Movies')\n",
    "\n",
    "plt.show()"
   ]
  },
  {
   "cell_type": "markdown",
   "id": "c14be2a8",
   "metadata": {},
   "source": [
    "We do a linear regression to see the correlation between the percentage of women in movies and the rating given on IMDb. This shows us that there is a slight negative correlation, meaning that movies with a higher percentage of women tend to have a slightly worse rating. We need to check this with other statistical metrics. "
   ]
  },
  {
   "cell_type": "markdown",
   "id": "631f1484",
   "metadata": {},
   "source": [
    "### Looking at the Box office revenue"
   ]
  },
  {
   "cell_type": "markdown",
   "id": "673849de",
   "metadata": {},
   "source": [
    "Aside from how a movie has been rated on IMDb, it is also interesting to look at its comercial success. This gives another insight on how the movie was globally percieved and if it impacted a lot of people or not. Therefore we are now looking at the boxoffice revenue of movies where we have the information from the original CMU data set. "
   ]
  },
  {
   "cell_type": "code",
   "execution_count": null,
   "id": "b44cea3c",
   "metadata": {
    "tags": []
   },
   "outputs": [],
   "source": [
    "# Remove movies where we don't have the Box Office Revenue.\n",
    "BO_ratings = ratings_gender.dropna(subset = 'BORevenue')\n",
    "\n",
    "# Sort the values according to Percentage of Female \n",
    "BO_ratings.sort_values(by='PercentageofFemale', inplace=True)\n",
    "\n",
    "plt.figure(figsize=(10,5))\n",
    "\n",
    "sns.regplot(x=BO_ratings['PercentageofFemale'], y=BO_ratings['BORevenue'], ci=95, scatter_kws={'color': 'blue', 's': 2, 'alpha': 0.5}, line_kws={'color': 'red'})\n",
    "\n",
    "plt.yscale(\"log\")\n",
    "plt.ylabel('Box Office Revenue')\n",
    "plt.xlabel('Percentage of actresses in a movie')\n",
    "\n",
    "plt.title('Correlation Between Box Office Revenue and Proportion of Actresses in Movies')\n",
    "\n",
    "plt.show()"
   ]
  },
  {
   "cell_type": "markdown",
   "id": "06df9a85",
   "metadata": {},
   "source": [
    "We do a linear regression to see the correlation between the percentage of women in movies and the Box Office Revenue. This shows us that there is a negative correlation, meaning that movies with a higher percentage of women tend to have a lower Box Office Revenue. We need to check this with other statistical metrics. "
   ]
  },
  {
   "cell_type": "markdown",
   "id": "ae4ae2de-5a44-4cdd-8e66-69f3dde74ee3",
   "metadata": {},
   "source": [
    "## PART 4: Analysis by geographical production region <a class=\"anchor\" id=\"part4\"></a>"
   ]
  },
  {
   "cell_type": "markdown",
   "id": "898b69ed-c8d1-4784-ad5a-91e9c23f8309",
   "metadata": {
    "tags": []
   },
   "source": [
    "### Do we have enough movies per continent ?"
   ]
  },
  {
   "cell_type": "code",
   "execution_count": null,
   "id": "4c8f5c2c-1b61-4c63-886f-ca4563fc06cb",
   "metadata": {},
   "outputs": [],
   "source": [
    "# Keep only 1 row per movie to count the number of movies per continent\n",
    "cmu_countries_filtered = cmu.drop_duplicates(subset=['MovieName', 'ReleaseYear', 'Continent'])\n",
    "counts_per_continent = cmu_countries_filtered.groupby('Continent').size()"
   ]
  },
  {
   "cell_type": "code",
   "execution_count": null,
   "id": "15164bfe-ce2a-4cf9-b2f3-b624aba50252",
   "metadata": {
    "tags": []
   },
   "outputs": [],
   "source": [
    "plt.figure(figsize=(8, 4))\n",
    "counts_per_continent.plot(kind='bar')\n",
    "\n",
    "plt.xlabel('Continents')\n",
    "plt.ylabel('Number of movies')\n",
    "plt.title('Number of movies per continent')\n",
    "\n",
    "plt.show()"
   ]
  },
  {
   "cell_type": "markdown",
   "id": "1b22316d",
   "metadata": {},
   "source": [
    "### Gender proportion split by geographical area"
   ]
  },
  {
   "cell_type": "code",
   "execution_count": null,
   "id": "0a6d0610",
   "metadata": {},
   "outputs": [],
   "source": [
    "cmu_countries_filtered.sample(2)"
   ]
  },
  {
   "cell_type": "code",
   "execution_count": null,
   "id": "31ed0936",
   "metadata": {},
   "outputs": [],
   "source": [
    "# convert list in string\n",
    "cmu_countries['Countries'] = cmu_countries['Countries'].apply(lambda x: x[0] if isinstance(x, list) else x)\n",
    "cmu_countries.sample(2)"
   ]
  },
  {
   "cell_type": "code",
   "execution_count": null,
   "id": "c473f167",
   "metadata": {},
   "outputs": [],
   "source": [
    "# Proportion of gender in USA\n",
    "df_gender_proportion_by_movie_us = df_gender_proportion_by_movie[df_gender_proportion_by_movie['Countries'] == 'US']\n",
    "df_gender_proportion_by_movie_us.sample(2)\n"
   ]
  },
  {
   "cell_type": "code",
   "execution_count": null,
   "id": "985374c3",
   "metadata": {},
   "outputs": [],
   "source": [
    "# Proportion of gender in Europe\n",
    "df_gender_proportion_by_movie_europe = df_gender_proportion_by_movie[df_gender_proportion_by_movie['Continent'] == 'EU']\n",
    "df_gender_proportion_by_movie_europe.sample(2)"
   ]
  },
  {
   "cell_type": "code",
   "execution_count": null,
   "id": "4f272cb0",
   "metadata": {},
   "outputs": [],
   "source": [
    "# Proportion of gender in India\n",
    "df_gender_proportion_by_movie_india = df_gender_proportion_by_movie[df_gender_proportion_by_movie['Countries'] == 'IN']\n",
    "df_gender_proportion_by_movie_india.sample(2)"
   ]
  },
  {
   "cell_type": "code",
   "execution_count": null,
   "id": "b1dc98c1",
   "metadata": {},
   "outputs": [],
   "source": [
    "#Calculate the mean percentage of actors and actresses in movies across year in US\n",
    "percentage_of_women_by_movie = df_gender_proportion_by_movie.groupby(['ReleaseYear', 'Countries', 'Continent']).agg({'PercentageofFemale':'mean'})\n",
    "percentage_of_men_by_movie = df_gender_proportion_by_movie.groupby(['ReleaseYear', 'Countries', 'Continent']).agg({'PercentageofMale':'mean'})\n",
    "\n",
    "#Calculate the 95% CIs\n",
    "women_std_perc_per_year = df_gender_proportion_by_movie.groupby(['ReleaseYear', 'Countries', 'Continent']).agg({'PercentageofFemale':'std'})\n",
    "men_std_perc_per_year = df_gender_proportion_by_movie.groupby(['ReleaseYear', 'Countries', 'Continent']).agg({'PercentageofMale':'std'})\n",
    "\n",
    "z=1.96\n",
    "upper_bound_women = percentage_of_women_by_movie['PercentageofFemale'] + z*women_std_perc_per_year['PercentageofFemale']/np.sqrt(women_cmu.groupby(['ReleaseYear', 'Countries', 'Continent']).agg({'CharacterName': 'count'})['CharacterName'])\n",
    "lower_bound_women = percentage_of_women_by_movie['PercentageofFemale'] - z*women_std_perc_per_year['PercentageofFemale']/np.sqrt(women_cmu.groupby(['ReleaseYear', 'Countries', 'Continent']).agg({'CharacterName': 'count'})['CharacterName'])\n",
    "\n",
    "upper_bound_men = percentage_of_men_by_movie['PercentageofMale'] + z*men_std_perc_per_year['PercentageofMale']/np.sqrt(men_cmu.groupby(['ReleaseYear', 'Countries', 'Continent']).agg({'CharacterName': 'count'})['CharacterName'])\n",
    "lower_bound_men = percentage_of_men_by_movie['PercentageofMale'] - z*men_std_perc_per_year['PercentageofMale']/np.sqrt(men_cmu.groupby(['ReleaseYear', 'Countries', 'Continent']).agg({'CharacterName': 'count'})['CharacterName'])\n"
   ]
  },
  {
   "cell_type": "code",
   "execution_count": null,
   "metadata": {},
   "outputs": [],
   "source": [
    "# Plot gender distribution for US, Europe and India\n",
    "percentage_of_women_by_movie_us = percentage_of_women_by_movie[percentage_of_women_by_movie.index.get_level_values('Countries') == 'US']\n",
    "lower_bound_women_us = lower_bound_women[lower_bound_women.index.get_level_values('Countries') == 'US']\n",
    "upper_bound_women_us = upper_bound_women[upper_bound_women.index.get_level_values('Countries') == 'US']\n",
    "percentage_of_men_by_movie_us = percentage_of_men_by_movie[percentage_of_men_by_movie.index.get_level_values('Countries') == 'US']\n",
    "lower_bound_men_us = lower_bound_men[lower_bound_men.index.get_level_values('Countries') == 'US']\n",
    "upper_bound_men_us = upper_bound_men[upper_bound_men.index.get_level_values('Countries') == 'US']\n",
    "\n",
    "percentage_of_women_by_movie_eu = percentage_of_women_by_movie[percentage_of_women_by_movie.index.get_level_values('Continent') == 'EU']\n",
    "lower_bound_women_eu = lower_bound_women[lower_bound_women.index.get_level_values('Continent') == 'EU']\n",
    "upper_bound_women_eu = upper_bound_women[upper_bound_women.index.get_level_values('Continent') == 'EU']\n",
    "percentage_of_men_by_movie_eu = percentage_of_men_by_movie[percentage_of_men_by_movie.index.get_level_values('Continent') == 'EU']\n",
    "lower_bound_men_eu = lower_bound_men[lower_bound_men.index.get_level_values('Continent') == 'EU']\n",
    "upper_bound_men_eu = upper_bound_men[upper_bound_men.index.get_level_values('Continent') == 'EU']\n",
    "\n",
    "percentage_of_women_by_movie_in = percentage_of_women_by_movie[percentage_of_women_by_movie.index.get_level_values('Countries') == 'IN']\n",
    "lower_bound_women_in = lower_bound_women[lower_bound_women.index.get_level_values('Countries') == 'IN']\n",
    "upper_bound_women_in = upper_bound_women[upper_bound_women.index.get_level_values('Countries') == 'IN']\n",
    "percentage_of_men_by_movie_in = percentage_of_men_by_movie[percentage_of_men_by_movie.index.get_level_values('Countries') == 'IN']\n",
    "lower_bound_men_in = lower_bound_men[lower_bound_men.index.get_level_values('Countries') == 'IN']\n",
    "upper_bound_men_in = upper_bound_men[upper_bound_men.index.get_level_values('Countries') == 'IN']\n",
    "\n",
    "fig, ax = plt.subplots(1, 3, figsize=(14,4))\n",
    "\n",
    "ax[0].plot(percentage_of_women_by_movie_us.index.get_level_values('ReleaseYear'), percentage_of_women_by_movie_us['PercentageofFemale'], label='F', color='green')\n",
    "#ax[0].fill_between(lower_bound_women_us.index, lower_bound_women_us, upper_bound_women_us, alpha =0.2, color='green', label = 'F 95% CI')\n",
    "ax[0].plot(percentage_of_men_by_movie_us.index.get_level_values('ReleaseYear'), percentage_of_men_by_movie_us['PercentageofMale'], label='M', color='red')\n",
    "#ax[0].fill_between(lower_bound_men_us.index, lower_bound_men_us, upper_bound_men_us, alpha =0.2, color='red', label = 'M 95% CI')\n",
    "ax[0].set_xlabel('Year')\n",
    "ax[0].set_ylabel('Percentage')\n",
    "ax[0].set_title('Gender distribution in movies in US')\n",
    "ax[0].legend()\n",
    "\n",
    "ax[1].plot(percentage_of_women_by_movie_eu.index.get_level_values('ReleaseYear'), percentage_of_women_by_movie_eu['PercentageofFemale'], label='F', color='green')\n",
    "#ax[1].fill_between(lower_bound_women_us.index, lower_bound_women_us, upper_bound_women_us, alpha =0.2, color='green', label = 'F 95% CI')\n",
    "ax[1].plot(percentage_of_men_by_movie_eu.index.get_level_values('ReleaseYear'), percentage_of_men_by_movie_eu['PercentageofMale'], label='M', color='red')\n",
    "#ax[1].fill_between(lower_bound_men_us.index, lower_bound_men_us, upper_bound_men_us, alpha =0.2, color='red', label = 'M 95% CI')\n",
    "ax[1].set_xlabel('Year')\n",
    "ax[1].set_ylabel('Percentage')\n",
    "ax[1].set_title('Gender distribution in movies in Europe')\n",
    "ax[1].legend()\n",
    "\n",
    "ax[2].plot(percentage_of_women_by_movie_in.index.get_level_values('ReleaseYear'), percentage_of_women_by_movie_in['PercentageofFemale'], label='F', color='green')\n",
    "#ax[2].fill_between(lower_bound_women_us.index, lower_bound_women_us, upper_bound_women_us, alpha =0.2, color='green', label = 'F 95% CI')\n",
    "ax[2].plot(percentage_of_men_by_movie_in.index.get_level_values('ReleaseYear'), percentage_of_men_by_movie_in['PercentageofMale'], label='M', color='red')\n",
    "#ax[2].fill_between(lower_bound_men_us.index, lower_bound_men_us, upper_bound_men_us, alpha =0.2, color='red', label = 'M 95% CI')\n",
    "ax[2].set_xlabel('Year')\n",
    "ax[2].set_ylabel('Percentage')\n",
    "ax[2].set_title('Gender distribution in movies in Europe')\n",
    "ax[2].legend()"
   ]
  }
 ],
 "metadata": {
  "kernelspec": {
   "display_name": "Python 3 (ipykernel)",
   "language": "python",
   "name": "python3"
  },
  "language_info": {
   "codemirror_mode": {
    "name": "ipython",
    "version": 3
   },
   "file_extension": ".py",
   "mimetype": "text/x-python",
   "name": "python",
   "nbconvert_exporter": "python",
   "pygments_lexer": "ipython3",
   "version": "3.9.18"
  }
 },
 "nbformat": 4,
 "nbformat_minor": 5
}
