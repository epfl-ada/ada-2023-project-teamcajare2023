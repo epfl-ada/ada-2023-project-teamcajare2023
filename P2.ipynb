{
 "cells": [
  {
   "cell_type": "markdown",
   "id": "48673693-597b-4585-aa9d-dc701a264acd",
   "metadata": {},
   "source": [
    "# The representation of women in the cinematic industry over the years"
   ]
  },
  {
   "cell_type": "code",
   "execution_count": 1,
   "id": "ac33916a-a4d3-4537-a8b6-ff2ca6f347eb",
   "metadata": {},
   "outputs": [],
   "source": [
    "import pandas as pd\n",
    "import numpy as np\n",
    "import matplotlib.pyplot as plt\n",
    "import seaborn as sns\n",
    "import ast\n",
    "\n",
    "from scipy import stats"
   ]
  },
  {
   "cell_type": "code",
   "execution_count": 2,
   "id": "16db3d70-0bfa-49d2-8e46-227fba1998c2",
   "metadata": {
    "tags": []
   },
   "outputs": [],
   "source": [
    "DATA_PATH = \"MovieSummaries\"\n",
    "MOVIE_PATH = DATA_PATH + \"/movie.metadata.tsv\"\n",
    "CHARACTER_PATH = DATA_PATH + \"/character.metadata.tsv\""
   ]
  },
  {
   "cell_type": "code",
   "execution_count": 3,
   "id": "18bccf3c-ff50-4866-86f0-bfe8d3273abe",
   "metadata": {
    "tags": []
   },
   "outputs": [],
   "source": [
    "def convert_date(date_string):\n",
    "    \"\"\"\n",
    "    Convert a date string to a pandas datetime object.\n",
    "\n",
    "    Parameters:\n",
    "    - date_string (str): The input date string to be converted.\n",
    "\n",
    "    Returns:\n",
    "    - pd.Timestamp: A pandas datetime object representing the converted date.\n",
    "\n",
    "    Raises:\n",
    "    - ValueError: If the input date string cannot be converted using any of the specified formats.\n",
    "    \"\"\"\n",
    "    try:\n",
    "        return pd.to_datetime(date_string, format='%Y-%m-%d')\n",
    "    except ValueError:\n",
    "        try:\n",
    "            return pd.to_datetime(date_string, format='%Y-%m')\n",
    "        except ValueError:\n",
    "            try:\n",
    "                return pd.to_datetime(date_string, format='%Y')\n",
    "            except ValueError:\n",
    "                return pd.to_datetime(date_string, format='%Y-%m-%d %H:%M:%S.%f')  "
   ]
  },
  {
   "cell_type": "markdown",
   "id": "a3b9e9a7-aa14-445e-9af9-2e44cd7fcfe2",
   "metadata": {},
   "source": [
    "---"
   ]
  },
  {
   "cell_type": "markdown",
   "id": "e1510d56-3b79-42e2-a230-8a14c787e7fb",
   "metadata": {},
   "source": [
    "### GENERAL ANALYSIS"
   ]
  },
  {
   "cell_type": "markdown",
   "id": "41d89abe-87b8-4560-90e6-a30d3e6d19b2",
   "metadata": {},
   "source": [
    "---"
   ]
  },
  {
   "cell_type": "markdown",
   "id": "f095f06d-b65d-4306-b009-832cece0df42",
   "metadata": {},
   "source": [
    "### DATA PREPROCESSING"
   ]
  },
  {
   "cell_type": "markdown",
   "id": "ad5dd7d7-6bfd-434d-be6f-597e834790fc",
   "metadata": {},
   "source": [
    "For this analysis, we will use the files movies.metadata and characters.metadata. "
   ]
  },
  {
   "cell_type": "code",
   "execution_count": 4,
   "id": "d9fcf8ad-b520-428a-9120-b86f46636730",
   "metadata": {},
   "outputs": [],
   "source": [
    "# Load the datasets\n",
    "headers_movies = ['WikiMovieID', \n",
    "                  'FreebaseMovieID', \n",
    "                  'MovieName', \n",
    "                  'ReleaseDate', \n",
    "                  'BORevenue', \n",
    "                  'Runtime',\n",
    "                  'Languages', \n",
    "                  'Countries', \n",
    "                  'MovieGenre']\n",
    "\n",
    "headers_characters = ['WikiMovieID', \n",
    "                      'FreebaseMovieID', \n",
    "                      'ReleaseDate', \n",
    "                      'CharacterName', \n",
    "                      'DoB', \n",
    "                      'Gender', \n",
    "                      'Height', \n",
    "                      'Ethnicity', \n",
    "                      'ActorName', \n",
    "                      'Age', \n",
    "                      'FreebaseActorMapID', \n",
    "                      'FreebaseCharacterID', \n",
    "                      'FreebaseActorID']\n",
    "\n",
    "movies = pd.read_csv(MOVIE_PATH, sep='\\t', names=headers_movies)\n",
    "characters = pd.read_csv(CHARACTER_PATH, sep='\\t', names=headers_characters)"
   ]
  },
  {
   "cell_type": "code",
   "execution_count": 5,
   "id": "af6f0650-2312-4f25-877c-8a0b78aa49c8",
   "metadata": {
    "tags": []
   },
   "outputs": [
    {
     "data": {
      "text/html": [
       "<div>\n",
       "<style scoped>\n",
       "    .dataframe tbody tr th:only-of-type {\n",
       "        vertical-align: middle;\n",
       "    }\n",
       "\n",
       "    .dataframe tbody tr th {\n",
       "        vertical-align: top;\n",
       "    }\n",
       "\n",
       "    .dataframe thead th {\n",
       "        text-align: right;\n",
       "    }\n",
       "</style>\n",
       "<table border=\"1\" class=\"dataframe\">\n",
       "  <thead>\n",
       "    <tr style=\"text-align: right;\">\n",
       "      <th></th>\n",
       "      <th>WikiMovieID</th>\n",
       "      <th>FreebaseMovieID</th>\n",
       "      <th>MovieName</th>\n",
       "      <th>ReleaseDate</th>\n",
       "      <th>BORevenue</th>\n",
       "      <th>Runtime</th>\n",
       "      <th>Countries</th>\n",
       "      <th>MovieGenre</th>\n",
       "      <th>CharacterName</th>\n",
       "      <th>Gender</th>\n",
       "      <th>Height</th>\n",
       "      <th>Ethnicity</th>\n",
       "      <th>Age</th>\n",
       "      <th>FreebaseActorMapID</th>\n",
       "      <th>FreebaseCharacterID</th>\n",
       "      <th>FreebaseActorID</th>\n",
       "    </tr>\n",
       "  </thead>\n",
       "  <tbody>\n",
       "    <tr>\n",
       "      <th>262649</th>\n",
       "      <td>13599177</td>\n",
       "      <td>/m/03cbhmq</td>\n",
       "      <td>Hoodoo for Voodoo</td>\n",
       "      <td>2006</td>\n",
       "      <td>NaN</td>\n",
       "      <td>80.0</td>\n",
       "      <td>{\"/m/09c7w0\": \"United States of America\"}</td>\n",
       "      <td>{\"/m/03npn\": \"Horror\", \"/m/0qdzd\": \"B-movie\", ...</td>\n",
       "      <td>NaN</td>\n",
       "      <td>NaN</td>\n",
       "      <td>NaN</td>\n",
       "      <td>NaN</td>\n",
       "      <td>NaN</td>\n",
       "      <td>/m/0gcybc2</td>\n",
       "      <td>NaN</td>\n",
       "      <td>/m/0gcybc4</td>\n",
       "    </tr>\n",
       "    <tr>\n",
       "      <th>404167</th>\n",
       "      <td>7409519</td>\n",
       "      <td>/m/0kv6vt</td>\n",
       "      <td>Strategic Command</td>\n",
       "      <td>1997-01-06</td>\n",
       "      <td>NaN</td>\n",
       "      <td>90.0</td>\n",
       "      <td>{\"/m/09c7w0\": \"United States of America\"}</td>\n",
       "      <td>{\"/m/01jfsb\": \"Thriller\", \"/m/03btsm8\": \"Actio...</td>\n",
       "      <td>Vice President Charles Baker</td>\n",
       "      <td>M</td>\n",
       "      <td>NaN</td>\n",
       "      <td>NaN</td>\n",
       "      <td>54.0</td>\n",
       "      <td>/m/0gcj7_z</td>\n",
       "      <td>/m/0ld3g6g</td>\n",
       "      <td>/m/0c1h8bs</td>\n",
       "    </tr>\n",
       "  </tbody>\n",
       "</table>\n",
       "</div>"
      ],
      "text/plain": [
       "        WikiMovieID FreebaseMovieID          MovieName ReleaseDate  BORevenue  \\\n",
       "262649     13599177      /m/03cbhmq  Hoodoo for Voodoo        2006        NaN   \n",
       "404167      7409519       /m/0kv6vt  Strategic Command  1997-01-06        NaN   \n",
       "\n",
       "        Runtime                                  Countries  \\\n",
       "262649     80.0  {\"/m/09c7w0\": \"United States of America\"}   \n",
       "404167     90.0  {\"/m/09c7w0\": \"United States of America\"}   \n",
       "\n",
       "                                               MovieGenre  \\\n",
       "262649  {\"/m/03npn\": \"Horror\", \"/m/0qdzd\": \"B-movie\", ...   \n",
       "404167  {\"/m/01jfsb\": \"Thriller\", \"/m/03btsm8\": \"Actio...   \n",
       "\n",
       "                       CharacterName Gender  Height Ethnicity   Age  \\\n",
       "262649                           NaN    NaN     NaN       NaN   NaN   \n",
       "404167  Vice President Charles Baker      M     NaN       NaN  54.0   \n",
       "\n",
       "       FreebaseActorMapID FreebaseCharacterID FreebaseActorID  \n",
       "262649         /m/0gcybc2                 NaN      /m/0gcybc4  \n",
       "404167         /m/0gcj7_z          /m/0ld3g6g      /m/0c1h8bs  "
      ]
     },
     "execution_count": 5,
     "metadata": {},
     "output_type": "execute_result"
    }
   ],
   "source": [
    "# Merge the 2 datasets according to the common columns, and drop the columns that we don't need\n",
    "cmu = movies.merge(characters, how='left', on=['WikiMovieID', 'FreebaseMovieID', 'ReleaseDate'])\n",
    "cmu = cmu.drop('DoB', axis=1)\n",
    "cmu = cmu.drop('ActorName', axis=1)\n",
    "cmu = cmu.drop('Languages', axis=1)\n",
    "cmu.sample(2)"
   ]
  },
  {
   "cell_type": "code",
   "execution_count": 6,
   "id": "08a3ebb5-9a2f-4edb-8590-09dce8f8b985",
   "metadata": {},
   "outputs": [],
   "source": [
    "# Keep only the rows for which we have the gender of the actor\n",
    "cmu = cmu.loc[cmu['Gender'].isin(['F', 'M'])].copy(deep=True)\n",
    "\n",
    "# The movie 'Hunting Season' has an incorrect data: 1010 instead of 2010\n",
    "cmu['ReleaseDate'] = cmu['ReleaseDate'].replace('1010-12-02', '2010-12-02')\n",
    "# Convert the date in the column 'ReleaseDate' into datetime\n",
    "ReleaseDate_datatime = cmu['ReleaseDate'].apply(convert_date)\n",
    "# Add a column with the year of release only\n",
    "cmu['ReleaseYear'] = ReleaseDate_datatime.dt.year.fillna(0).astype(int)\n",
    "cmu['ReleaseYear'] = cmu['ReleaseYear'].astype('int64')\n",
    "cmu['ReleaseYear'].replace(0, np.nan, inplace=True)\n",
    "\n",
    "# Convert the str-like dictionaries to dictionaries\n",
    "cmu['Countries'] = cmu['Countries'].apply(ast.literal_eval)\n",
    "cmu['MovieGenre'] = cmu['MovieGenre'].apply(ast.literal_eval)\n",
    "\n",
    "# Remove outliers for age and replace null or negative values by NaN\n",
    "cmu['Age'] = cmu['Age'].apply(lambda x: np.nan if x <= 0 else x)\n",
    "\n",
    "# Drop outliers for height\n",
    "Q1 = cmu['Height'].quantile(0.25)\n",
    "Q3 = cmu['Height'].quantile(0.75)\n",
    "IQR = Q3 - Q1\n",
    "cmu = cmu[(cmu['Height'] > Q1 - 1.5 * IQR) & (cmu['Height'] < Q3 + 1.5 * IQR)]\n",
    "\n",
    "# Drop outliers for Runtime\n",
    "lower, upper = 40, 180\n",
    "cmu = cmu[(cmu['Runtime'] >= lower) & (cmu['Runtime'] <= upper)]"
   ]
  },
  {
   "cell_type": "code",
   "execution_count": 7,
   "id": "aee19332-ab03-4794-89e7-8efd6623d290",
   "metadata": {},
   "outputs": [
    {
     "data": {
      "text/html": [
       "<div>\n",
       "<style scoped>\n",
       "    .dataframe tbody tr th:only-of-type {\n",
       "        vertical-align: middle;\n",
       "    }\n",
       "\n",
       "    .dataframe tbody tr th {\n",
       "        vertical-align: top;\n",
       "    }\n",
       "\n",
       "    .dataframe thead th {\n",
       "        text-align: right;\n",
       "    }\n",
       "</style>\n",
       "<table border=\"1\" class=\"dataframe\">\n",
       "  <thead>\n",
       "    <tr style=\"text-align: right;\">\n",
       "      <th></th>\n",
       "      <th>WikiMovieID</th>\n",
       "      <th>FreebaseMovieID</th>\n",
       "      <th>MovieName</th>\n",
       "      <th>ReleaseDate</th>\n",
       "      <th>BORevenue</th>\n",
       "      <th>Runtime</th>\n",
       "      <th>Countries</th>\n",
       "      <th>MovieGenre</th>\n",
       "      <th>CharacterName</th>\n",
       "      <th>Gender</th>\n",
       "      <th>Height</th>\n",
       "      <th>Ethnicity</th>\n",
       "      <th>Age</th>\n",
       "      <th>FreebaseActorMapID</th>\n",
       "      <th>FreebaseCharacterID</th>\n",
       "      <th>FreebaseActorID</th>\n",
       "      <th>ReleaseYear</th>\n",
       "    </tr>\n",
       "  </thead>\n",
       "  <tbody>\n",
       "    <tr>\n",
       "      <th>352881</th>\n",
       "      <td>24845777</td>\n",
       "      <td>/m/09gmg1y</td>\n",
       "      <td>Start Cheering</td>\n",
       "      <td>1938</td>\n",
       "      <td>NaN</td>\n",
       "      <td>78.0</td>\n",
       "      <td>{'/m/09c7w0': 'United States of America'}</td>\n",
       "      <td>{'/m/06cvj': 'Romantic comedy', '/m/04t36': 'M...</td>\n",
       "      <td>Willie Gumbatz</td>\n",
       "      <td>M</td>\n",
       "      <td>1.70</td>\n",
       "      <td>/m/0xnvg</td>\n",
       "      <td>NaN</td>\n",
       "      <td>/m/09j42p4</td>\n",
       "      <td>/m/0h4zyc8</td>\n",
       "      <td>/m/0p9vh</td>\n",
       "      <td>1938.0</td>\n",
       "    </tr>\n",
       "    <tr>\n",
       "      <th>196249</th>\n",
       "      <td>146236</td>\n",
       "      <td>/m/012mrr</td>\n",
       "      <td>Close Encounters of the Third Kind</td>\n",
       "      <td>1977-11-15</td>\n",
       "      <td>337700000.0</td>\n",
       "      <td>137.0</td>\n",
       "      <td>{'/m/09c7w0': 'United States of America'}</td>\n",
       "      <td>{'/m/06n90': 'Science Fiction', '/m/07s9rl0': ...</td>\n",
       "      <td>Gillian Guiler</td>\n",
       "      <td>F</td>\n",
       "      <td>1.72</td>\n",
       "      <td>NaN</td>\n",
       "      <td>38.0</td>\n",
       "      <td>/m/03jq91b</td>\n",
       "      <td>/m/045ctvs</td>\n",
       "      <td>/m/05wk2m</td>\n",
       "      <td>1977.0</td>\n",
       "    </tr>\n",
       "    <tr>\n",
       "      <th>55346</th>\n",
       "      <td>2236324</td>\n",
       "      <td>/m/06y60c</td>\n",
       "      <td>Freaky Friday</td>\n",
       "      <td>2003-08-04</td>\n",
       "      <td>160846332.0</td>\n",
       "      <td>97.0</td>\n",
       "      <td>{'/m/09c7w0': 'United States of America'}</td>\n",
       "      <td>{'/m/0hqxf': 'Family Film', '/m/01hmnh': 'Fant...</td>\n",
       "      <td>Pei-Pei</td>\n",
       "      <td>F</td>\n",
       "      <td>1.67</td>\n",
       "      <td>/m/0d2by</td>\n",
       "      <td>43.0</td>\n",
       "      <td>/m/03js8ln</td>\n",
       "      <td>/m/0h5sv4x</td>\n",
       "      <td>/m/01lsq_</td>\n",
       "      <td>2003.0</td>\n",
       "    </tr>\n",
       "    <tr>\n",
       "      <th>26603</th>\n",
       "      <td>27693775</td>\n",
       "      <td>/m/0c3_662</td>\n",
       "      <td>The Dilemma</td>\n",
       "      <td>2011-01-13</td>\n",
       "      <td>NaN</td>\n",
       "      <td>118.0</td>\n",
       "      <td>{'/m/09c7w0': 'United States of America'}</td>\n",
       "      <td>{'/m/01t_vv': 'Comedy-drama', '/m/07s9rl0': 'D...</td>\n",
       "      <td>Beth</td>\n",
       "      <td>F</td>\n",
       "      <td>1.69</td>\n",
       "      <td>/m/041rx</td>\n",
       "      <td>40.0</td>\n",
       "      <td>/m/0c5n2yg</td>\n",
       "      <td>/m/0g4g34k</td>\n",
       "      <td>/m/0fgg4</td>\n",
       "      <td>2011.0</td>\n",
       "    </tr>\n",
       "  </tbody>\n",
       "</table>\n",
       "</div>"
      ],
      "text/plain": [
       "        WikiMovieID FreebaseMovieID                           MovieName  \\\n",
       "352881     24845777      /m/09gmg1y                      Start Cheering   \n",
       "196249       146236       /m/012mrr  Close Encounters of the Third Kind   \n",
       "55346       2236324       /m/06y60c                       Freaky Friday   \n",
       "26603      27693775      /m/0c3_662                         The Dilemma   \n",
       "\n",
       "       ReleaseDate    BORevenue  Runtime  \\\n",
       "352881        1938          NaN     78.0   \n",
       "196249  1977-11-15  337700000.0    137.0   \n",
       "55346   2003-08-04  160846332.0     97.0   \n",
       "26603   2011-01-13          NaN    118.0   \n",
       "\n",
       "                                        Countries  \\\n",
       "352881  {'/m/09c7w0': 'United States of America'}   \n",
       "196249  {'/m/09c7w0': 'United States of America'}   \n",
       "55346   {'/m/09c7w0': 'United States of America'}   \n",
       "26603   {'/m/09c7w0': 'United States of America'}   \n",
       "\n",
       "                                               MovieGenre   CharacterName  \\\n",
       "352881  {'/m/06cvj': 'Romantic comedy', '/m/04t36': 'M...  Willie Gumbatz   \n",
       "196249  {'/m/06n90': 'Science Fiction', '/m/07s9rl0': ...  Gillian Guiler   \n",
       "55346   {'/m/0hqxf': 'Family Film', '/m/01hmnh': 'Fant...         Pei-Pei   \n",
       "26603   {'/m/01t_vv': 'Comedy-drama', '/m/07s9rl0': 'D...            Beth   \n",
       "\n",
       "       Gender  Height Ethnicity   Age FreebaseActorMapID FreebaseCharacterID  \\\n",
       "352881      M    1.70  /m/0xnvg   NaN         /m/09j42p4          /m/0h4zyc8   \n",
       "196249      F    1.72       NaN  38.0         /m/03jq91b          /m/045ctvs   \n",
       "55346       F    1.67  /m/0d2by  43.0         /m/03js8ln          /m/0h5sv4x   \n",
       "26603       F    1.69  /m/041rx  40.0         /m/0c5n2yg          /m/0g4g34k   \n",
       "\n",
       "       FreebaseActorID  ReleaseYear  \n",
       "352881        /m/0p9vh       1938.0  \n",
       "196249       /m/05wk2m       1977.0  \n",
       "55346        /m/01lsq_       2003.0  \n",
       "26603         /m/0fgg4       2011.0  "
      ]
     },
     "execution_count": 7,
     "metadata": {},
     "output_type": "execute_result"
    }
   ],
   "source": [
    "cmu.sample(4)"
   ]
  },
  {
   "cell_type": "markdown",
   "id": "182cae2b-0c10-4869-881a-871c18ad12a9",
   "metadata": {},
   "source": [
    "## AGE: IS THERE A DIFFERENCE ?"
   ]
  },
  {
   "cell_type": "markdown",
   "id": "c832d0e7-0ac9-4c9c-b387-fe03fabd1dfd",
   "metadata": {},
   "source": [
    "We often hear clichés about the evolution of beauty with age: women are described as blossoming in their youth, while men become more handsome with age. An intriguing question arises: does this perceived divergence in the aesthetics of aging manifest itself in the film industry, and if so, is this disparity statistically significant? \n",
    "\n",
    "Let's explore the data !"
   ]
  },
  {
   "cell_type": "code",
   "execution_count": 14,
   "id": "80f32630-5105-45f9-abe6-c3b14fd50a92",
   "metadata": {},
   "outputs": [
    {
     "data": {
      "image/png": "[encoded data removed]",
      "text/plain": [
       "<Figure size 800x500 with 1 Axes>"
      ]
     },
     "metadata": {},
     "output_type": "display_data"
    }
   ],
   "source": [
    "# Set the plot style and color palette\n",
    "sns.set(style=\"darkgrid\", palette=\"Set2\")\n",
    "\n",
    "plt.figure(figsize=(8, 5))\n",
    "\n",
    "sns.boxplot(x='Gender', y='Age', data=cmu)\n",
    "plt.title('Distribution of Age between Male and Female', fontsize=15)\n",
    "\n",
    "plt.xlabel('Gender', fontsize=12)\n",
    "plt.ylabel('Age', fontsize=12)\n",
    "\n",
    "plt.show()"
   ]
  },
  {
   "cell_type": "code",
   "execution_count": 15,
   "id": "6c30dd32-fa40-4e58-8bf3-05457e998153",
   "metadata": {
    "tags": []
   },
   "outputs": [],
   "source": [
    "women_cmu = cmu.loc[cmu['Gender']=='F'].copy(deep=True)\n",
    "men_cmu = cmu.loc[cmu['Gender']=='M'].copy(deep=True)"
   ]
  },
  {
   "cell_type": "code",
   "execution_count": 20,
   "id": "480d5108-efbf-484c-b0a9-b583500a16dd",
   "metadata": {
    "tags": []
   },
   "outputs": [
    {
     "data": {
      "text/plain": [
       "TtestResult(statistic=-104.38345352239884, pvalue=0.0, df=124893.0)"
      ]
     },
     "execution_count": 20,
     "metadata": {},
     "output_type": "execute_result"
    }
   ],
   "source": [
    "# T-test to determine if the difference in age between men and women is statistically significant \n",
    "stats.ttest_ind(women_cmu['Age'], men_cmu['Age'], nan_policy='omit')"
   ]
  },
  {
   "cell_type": "markdown",
   "id": "94d25b5e-af95-4bdf-96d7-752bf1180e23",
   "metadata": {},
   "source": [
    "We used a two-sided t-test for the null hypothesis that the age of actors and actresses have identical average (expected) values. The p-value is much smaller than 0.05, therefore we can reject the null hypothesis, meaning that there is a statistically significant difference in the average ages between the two groups. As the t-statistic is strongly negative (-104), it supports our conclusion that women are significantly younger than men."
   ]
  }
 ],
 "metadata": {
  "kernelspec": {
   "display_name": "Python 3 (ipykernel)",
   "language": "python",
   "name": "python3"
  },
  "language_info": {
   "codemirror_mode": {
    "name": "ipython",
    "version": 3
   },
   "file_extension": ".py",
   "mimetype": "text/x-python",
   "name": "python",
   "nbconvert_exporter": "python",
   "pygments_lexer": "ipython3",
   "version": "3.9.18"
  }
 },
 "nbformat": 4,
 "nbformat_minor": 5
}
